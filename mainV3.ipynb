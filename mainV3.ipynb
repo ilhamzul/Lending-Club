{
 "cells": [
  {
   "cell_type": "markdown",
   "metadata": {},
   "source": [
    "# Credit Scoring for P2P Lending\n",
    "<br>\n",
    "Name : Ilham Zulfikri Firdaus <br>\n",
    "E-mail : ilham.zulfikri.f@mail.ugm.ac.id"
   ]
  },
  {
   "cell_type": "markdown",
   "metadata": {},
   "source": [
    "# Load Data"
   ]
  },
  {
   "cell_type": "code",
   "execution_count": 199,
   "metadata": {},
   "outputs": [],
   "source": [
    "import pandas as pd\n",
    "import matplotlib.pyplot as plt \n",
    "import seaborn as sns\n",
    "import numpy as np\n",
    "dataset = pd.read_csv('./dataset/loan_final313.csv')"
   ]
  },
  {
   "cell_type": "code",
   "execution_count": 2,
   "metadata": {},
   "outputs": [
    {
     "data": {
      "text/html": [
       "<div>\n",
       "<style scoped>\n",
       "    .dataframe tbody tr th:only-of-type {\n",
       "        vertical-align: middle;\n",
       "    }\n",
       "\n",
       "    .dataframe tbody tr th {\n",
       "        vertical-align: top;\n",
       "    }\n",
       "\n",
       "    .dataframe thead th {\n",
       "        text-align: right;\n",
       "    }\n",
       "</style>\n",
       "<table border=\"1\" class=\"dataframe\">\n",
       "  <thead>\n",
       "    <tr style=\"text-align: right;\">\n",
       "      <th></th>\n",
       "      <th>id</th>\n",
       "      <th>year</th>\n",
       "      <th>issue_d</th>\n",
       "      <th>final_d</th>\n",
       "      <th>emp_length_int</th>\n",
       "      <th>home_ownership</th>\n",
       "      <th>home_ownership_cat</th>\n",
       "      <th>income_category</th>\n",
       "      <th>annual_inc</th>\n",
       "      <th>income_cat</th>\n",
       "      <th>...</th>\n",
       "      <th>loan_condition_cat</th>\n",
       "      <th>interest_rate</th>\n",
       "      <th>grade</th>\n",
       "      <th>grade_cat</th>\n",
       "      <th>dti</th>\n",
       "      <th>total_pymnt</th>\n",
       "      <th>total_rec_prncp</th>\n",
       "      <th>recoveries</th>\n",
       "      <th>installment</th>\n",
       "      <th>region</th>\n",
       "    </tr>\n",
       "  </thead>\n",
       "  <tbody>\n",
       "    <tr>\n",
       "      <th>0</th>\n",
       "      <td>1077501</td>\n",
       "      <td>2011</td>\n",
       "      <td>01/12/2011</td>\n",
       "      <td>1012015</td>\n",
       "      <td>10.0</td>\n",
       "      <td>RENT</td>\n",
       "      <td>1</td>\n",
       "      <td>Low</td>\n",
       "      <td>24000</td>\n",
       "      <td>1</td>\n",
       "      <td>...</td>\n",
       "      <td>0</td>\n",
       "      <td>10.65</td>\n",
       "      <td>B</td>\n",
       "      <td>2</td>\n",
       "      <td>27.65</td>\n",
       "      <td>5861.071414</td>\n",
       "      <td>5000.00</td>\n",
       "      <td>0.00</td>\n",
       "      <td>162.87</td>\n",
       "      <td>munster</td>\n",
       "    </tr>\n",
       "    <tr>\n",
       "      <th>1</th>\n",
       "      <td>1077430</td>\n",
       "      <td>2011</td>\n",
       "      <td>01/12/2011</td>\n",
       "      <td>1042013</td>\n",
       "      <td>0.5</td>\n",
       "      <td>RENT</td>\n",
       "      <td>1</td>\n",
       "      <td>Low</td>\n",
       "      <td>30000</td>\n",
       "      <td>1</td>\n",
       "      <td>...</td>\n",
       "      <td>1</td>\n",
       "      <td>15.27</td>\n",
       "      <td>C</td>\n",
       "      <td>3</td>\n",
       "      <td>1.00</td>\n",
       "      <td>1008.710000</td>\n",
       "      <td>456.46</td>\n",
       "      <td>117.08</td>\n",
       "      <td>59.83</td>\n",
       "      <td>leinster</td>\n",
       "    </tr>\n",
       "    <tr>\n",
       "      <th>2</th>\n",
       "      <td>1077175</td>\n",
       "      <td>2011</td>\n",
       "      <td>01/12/2011</td>\n",
       "      <td>1062014</td>\n",
       "      <td>10.0</td>\n",
       "      <td>RENT</td>\n",
       "      <td>1</td>\n",
       "      <td>Low</td>\n",
       "      <td>12252</td>\n",
       "      <td>1</td>\n",
       "      <td>...</td>\n",
       "      <td>0</td>\n",
       "      <td>15.96</td>\n",
       "      <td>C</td>\n",
       "      <td>3</td>\n",
       "      <td>8.72</td>\n",
       "      <td>3003.653644</td>\n",
       "      <td>2400.00</td>\n",
       "      <td>0.00</td>\n",
       "      <td>84.33</td>\n",
       "      <td>cannught</td>\n",
       "    </tr>\n",
       "    <tr>\n",
       "      <th>3</th>\n",
       "      <td>1076863</td>\n",
       "      <td>2011</td>\n",
       "      <td>01/12/2011</td>\n",
       "      <td>1012015</td>\n",
       "      <td>10.0</td>\n",
       "      <td>RENT</td>\n",
       "      <td>1</td>\n",
       "      <td>Low</td>\n",
       "      <td>49200</td>\n",
       "      <td>1</td>\n",
       "      <td>...</td>\n",
       "      <td>0</td>\n",
       "      <td>13.49</td>\n",
       "      <td>C</td>\n",
       "      <td>3</td>\n",
       "      <td>20.00</td>\n",
       "      <td>12226.302210</td>\n",
       "      <td>10000.00</td>\n",
       "      <td>0.00</td>\n",
       "      <td>339.31</td>\n",
       "      <td>ulster</td>\n",
       "    </tr>\n",
       "    <tr>\n",
       "      <th>4</th>\n",
       "      <td>1075358</td>\n",
       "      <td>2011</td>\n",
       "      <td>01/12/2011</td>\n",
       "      <td>1012016</td>\n",
       "      <td>1.0</td>\n",
       "      <td>RENT</td>\n",
       "      <td>1</td>\n",
       "      <td>Low</td>\n",
       "      <td>80000</td>\n",
       "      <td>1</td>\n",
       "      <td>...</td>\n",
       "      <td>0</td>\n",
       "      <td>12.69</td>\n",
       "      <td>B</td>\n",
       "      <td>2</td>\n",
       "      <td>17.94</td>\n",
       "      <td>3242.170000</td>\n",
       "      <td>2233.10</td>\n",
       "      <td>0.00</td>\n",
       "      <td>67.79</td>\n",
       "      <td>ulster</td>\n",
       "    </tr>\n",
       "    <tr>\n",
       "      <th>5</th>\n",
       "      <td>1075269</td>\n",
       "      <td>2011</td>\n",
       "      <td>01/12/2011</td>\n",
       "      <td>1012015</td>\n",
       "      <td>3.0</td>\n",
       "      <td>RENT</td>\n",
       "      <td>1</td>\n",
       "      <td>Low</td>\n",
       "      <td>36000</td>\n",
       "      <td>1</td>\n",
       "      <td>...</td>\n",
       "      <td>0</td>\n",
       "      <td>7.90</td>\n",
       "      <td>A</td>\n",
       "      <td>1</td>\n",
       "      <td>11.20</td>\n",
       "      <td>5631.377753</td>\n",
       "      <td>5000.00</td>\n",
       "      <td>0.00</td>\n",
       "      <td>156.46</td>\n",
       "      <td>munster</td>\n",
       "    </tr>\n",
       "    <tr>\n",
       "      <th>6</th>\n",
       "      <td>1069639</td>\n",
       "      <td>2011</td>\n",
       "      <td>01/12/2011</td>\n",
       "      <td>1012016</td>\n",
       "      <td>8.0</td>\n",
       "      <td>RENT</td>\n",
       "      <td>1</td>\n",
       "      <td>Low</td>\n",
       "      <td>47004</td>\n",
       "      <td>1</td>\n",
       "      <td>...</td>\n",
       "      <td>0</td>\n",
       "      <td>15.96</td>\n",
       "      <td>C</td>\n",
       "      <td>3</td>\n",
       "      <td>23.51</td>\n",
       "      <td>8136.840000</td>\n",
       "      <td>5110.85</td>\n",
       "      <td>0.00</td>\n",
       "      <td>170.08</td>\n",
       "      <td>leinster</td>\n",
       "    </tr>\n",
       "    <tr>\n",
       "      <th>7</th>\n",
       "      <td>1072053</td>\n",
       "      <td>2011</td>\n",
       "      <td>01/12/2011</td>\n",
       "      <td>1012015</td>\n",
       "      <td>9.0</td>\n",
       "      <td>RENT</td>\n",
       "      <td>1</td>\n",
       "      <td>Low</td>\n",
       "      <td>48000</td>\n",
       "      <td>1</td>\n",
       "      <td>...</td>\n",
       "      <td>0</td>\n",
       "      <td>18.64</td>\n",
       "      <td>E</td>\n",
       "      <td>5</td>\n",
       "      <td>5.35</td>\n",
       "      <td>3938.144334</td>\n",
       "      <td>3000.00</td>\n",
       "      <td>0.00</td>\n",
       "      <td>109.43</td>\n",
       "      <td>ulster</td>\n",
       "    </tr>\n",
       "    <tr>\n",
       "      <th>8</th>\n",
       "      <td>1071795</td>\n",
       "      <td>2011</td>\n",
       "      <td>01/12/2011</td>\n",
       "      <td>1042012</td>\n",
       "      <td>4.0</td>\n",
       "      <td>OWN</td>\n",
       "      <td>2</td>\n",
       "      <td>Low</td>\n",
       "      <td>40000</td>\n",
       "      <td>1</td>\n",
       "      <td>...</td>\n",
       "      <td>1</td>\n",
       "      <td>21.28</td>\n",
       "      <td>F</td>\n",
       "      <td>6</td>\n",
       "      <td>5.55</td>\n",
       "      <td>646.020000</td>\n",
       "      <td>162.02</td>\n",
       "      <td>189.06</td>\n",
       "      <td>152.39</td>\n",
       "      <td>ulster</td>\n",
       "    </tr>\n",
       "    <tr>\n",
       "      <th>9</th>\n",
       "      <td>1071570</td>\n",
       "      <td>2011</td>\n",
       "      <td>01/12/2011</td>\n",
       "      <td>1112012</td>\n",
       "      <td>0.5</td>\n",
       "      <td>RENT</td>\n",
       "      <td>1</td>\n",
       "      <td>Low</td>\n",
       "      <td>15000</td>\n",
       "      <td>1</td>\n",
       "      <td>...</td>\n",
       "      <td>1</td>\n",
       "      <td>12.69</td>\n",
       "      <td>B</td>\n",
       "      <td>2</td>\n",
       "      <td>18.08</td>\n",
       "      <td>1476.190000</td>\n",
       "      <td>673.48</td>\n",
       "      <td>269.29</td>\n",
       "      <td>121.45</td>\n",
       "      <td>munster</td>\n",
       "    </tr>\n",
       "  </tbody>\n",
       "</table>\n",
       "<p>10 rows × 30 columns</p>\n",
       "</div>"
      ],
      "text/plain": [
       "        id  year     issue_d  final_d  emp_length_int home_ownership  \\\n",
       "0  1077501  2011  01/12/2011  1012015            10.0           RENT   \n",
       "1  1077430  2011  01/12/2011  1042013             0.5           RENT   \n",
       "2  1077175  2011  01/12/2011  1062014            10.0           RENT   \n",
       "3  1076863  2011  01/12/2011  1012015            10.0           RENT   \n",
       "4  1075358  2011  01/12/2011  1012016             1.0           RENT   \n",
       "5  1075269  2011  01/12/2011  1012015             3.0           RENT   \n",
       "6  1069639  2011  01/12/2011  1012016             8.0           RENT   \n",
       "7  1072053  2011  01/12/2011  1012015             9.0           RENT   \n",
       "8  1071795  2011  01/12/2011  1042012             4.0            OWN   \n",
       "9  1071570  2011  01/12/2011  1112012             0.5           RENT   \n",
       "\n",
       "   home_ownership_cat income_category  annual_inc  income_cat    ...     \\\n",
       "0                   1             Low       24000           1    ...      \n",
       "1                   1             Low       30000           1    ...      \n",
       "2                   1             Low       12252           1    ...      \n",
       "3                   1             Low       49200           1    ...      \n",
       "4                   1             Low       80000           1    ...      \n",
       "5                   1             Low       36000           1    ...      \n",
       "6                   1             Low       47004           1    ...      \n",
       "7                   1             Low       48000           1    ...      \n",
       "8                   2             Low       40000           1    ...      \n",
       "9                   1             Low       15000           1    ...      \n",
       "\n",
       "   loan_condition_cat interest_rate  grade grade_cat    dti   total_pymnt  \\\n",
       "0                   0         10.65      B         2  27.65   5861.071414   \n",
       "1                   1         15.27      C         3   1.00   1008.710000   \n",
       "2                   0         15.96      C         3   8.72   3003.653644   \n",
       "3                   0         13.49      C         3  20.00  12226.302210   \n",
       "4                   0         12.69      B         2  17.94   3242.170000   \n",
       "5                   0          7.90      A         1  11.20   5631.377753   \n",
       "6                   0         15.96      C         3  23.51   8136.840000   \n",
       "7                   0         18.64      E         5   5.35   3938.144334   \n",
       "8                   1         21.28      F         6   5.55    646.020000   \n",
       "9                   1         12.69      B         2  18.08   1476.190000   \n",
       "\n",
       "   total_rec_prncp recoveries  installment    region  \n",
       "0          5000.00       0.00       162.87   munster  \n",
       "1           456.46     117.08        59.83  leinster  \n",
       "2          2400.00       0.00        84.33  cannught  \n",
       "3         10000.00       0.00       339.31    ulster  \n",
       "4          2233.10       0.00        67.79    ulster  \n",
       "5          5000.00       0.00       156.46   munster  \n",
       "6          5110.85       0.00       170.08  leinster  \n",
       "7          3000.00       0.00       109.43    ulster  \n",
       "8           162.02     189.06       152.39    ulster  \n",
       "9           673.48     269.29       121.45   munster  \n",
       "\n",
       "[10 rows x 30 columns]"
      ]
     },
     "execution_count": 2,
     "metadata": {},
     "output_type": "execute_result"
    }
   ],
   "source": [
    "dataset.head(10)"
   ]
  },
  {
   "cell_type": "markdown",
   "metadata": {},
   "source": [
    "# Feature Analysis"
   ]
  },
  {
   "cell_type": "markdown",
   "metadata": {},
   "source": [
    "These are the features presented in dataset.\n",
    "- id : unique identifier for each contract (it's ambiguous, I thought it was unique identifier for requestor).\n",
    "- year : the year when the contract requested.\n",
    "- issue_d : the date when the contract issued\n",
    "- final_d : the date when the contract finished / defaulted\n",
    "- emp_length_int : the employement length, ranging from 0 to 10. 0 means 1 year or less and 10 means 10 year or more.\n",
    "- home_ownership : the home ownership type (whether it's mortgage, own, rent, etc.)\n",
    "- annual_inc : borrower annual income (it might refer to the company who borrow the loan)\n",
    "- loan_amount : the loan requested\n",
    "- term : the term request\n",
    "- application_type : the application type (e.g. individual or join)\n",
    "- purpose : the loan purpose (e.g. credit card, debt consolidation, etc.)\n",
    "- interest_payments : the payment interest level (e.g. high or low)\n",
    "- loan_condition : credit scoring flag\n",
    "- interest_rate : the numerical interest rate choosen by the requestor\n",
    "- grade : credit scoring grade\n",
    "- dti : debt to income ratio (it might contain another debt)\n",
    "- total_pymnt : Total money paid by the borrower. it includes interest.\n",
    "- total_rec_prncp : Total principile received by the borrower, it might be lower the loan amount requested (but it never be greater).\n",
    "- recoveries : The money recovered from the borrower, if the borrower defaulted.\n",
    "- installment : the amount of money should be paid by the customer every month.\n",
    "- region : the region where the customer came from.\n",
    "<br><br>\n",
    "NOTE:<br>\n",
    "There are additional features which represent the categorical  form of existing feature. this additional feature are named like this ,\n",
    "<br><br>\n",
    "NameOfFeature_cat\n"
   ]
  },
  {
   "cell_type": "markdown",
   "metadata": {},
   "source": [
    "## Data Insight"
   ]
  },
  {
   "cell_type": "markdown",
   "metadata": {},
   "source": [
    "### Company Growth"
   ]
  },
  {
   "cell_type": "code",
   "execution_count": 3,
   "metadata": {},
   "outputs": [
    {
     "data": {
      "text/plain": [
       "<matplotlib.axes._subplots.AxesSubplot at 0x2b120053470>"
      ]
     },
     "execution_count": 3,
     "metadata": {},
     "output_type": "execute_result"
    },
    {
     "data": {
      "image/png": "[encoded data removed]",
      "text/plain": [
       "<Figure size 432x288 with 1 Axes>"
      ]
     },
     "metadata": {
      "needs_background": "light"
     },
     "output_type": "display_data"
    }
   ],
   "source": [
    "dataset['year'].value_counts().plot.line(color='g')"
   ]
  },
  {
   "cell_type": "markdown",
   "metadata": {},
   "source": [
    "### Bad vs Good Loan Proportion"
   ]
  },
  {
   "cell_type": "markdown",
   "metadata": {},
   "source": [
    "Visualize the proportion between bad and good loan declared in this P2P lending."
   ]
  },
  {
   "cell_type": "code",
   "execution_count": 4,
   "metadata": {},
   "outputs": [
    {
     "data": {
      "text/plain": [
       "<matplotlib.axes._subplots.AxesSubplot at 0x2b122115748>"
      ]
     },
     "execution_count": 4,
     "metadata": {},
     "output_type": "execute_result"
    },
    {
     "data": {
      "image/png": "[encoded data removed]",
      "text/plain": [
       "<Figure size 432x288 with 1 Axes>"
      ]
     },
     "metadata": {},
     "output_type": "display_data"
    }
   ],
   "source": [
    "dataset['loan_condition'].value_counts().plot.pie(explode=[0,0.3],autopct='%1.2f%%', colors=['g','r'])"
   ]
  },
  {
   "cell_type": "markdown",
   "metadata": {},
   "source": [
    "### Employement Length"
   ]
  },
  {
   "cell_type": "markdown",
   "metadata": {},
   "source": [
    "The goal for this analysis is, whether or not the employement have an impact to the loan condition."
   ]
  },
  {
   "cell_type": "code",
   "execution_count": 207,
   "metadata": {},
   "outputs": [
    {
     "data": {
      "image/png": "[encoded data removed]",
      "text/plain": [
       "<Figure size 720x360 with 1 Axes>"
      ]
     },
     "metadata": {
      "needs_background": "light"
     },
     "output_type": "display_data"
    }
   ],
   "source": [
    "import seaborn as sns\n",
    "\n",
    "dataset['emp_length_int'] = dataset['emp_length_int'].astype(int)\n",
    "test = dataset.groupby([\"loan_condition\", \"emp_length_int\"]).size().reset_index(name='Count')\n",
    "\n",
    "fig = plt.figure(figsize = (10, 5))\n",
    "sns.barplot(test[test['loan_condition']=='Good Loan'].iloc[:,1],test[test['loan_condition']=='Good Loan'].iloc[:,2],alpha=0.5, color='g', label = 'good')\n",
    "sns.barplot(test[test['loan_condition']=='Bad Loan'].iloc[:,1],test[test['loan_condition']=='Bad Loan'].iloc[:,2],alpha=0.5, color='r', label = 'bad')\n",
    "plt.legend(loc='best')\n",
    "fig.suptitle('Employement Length')\n",
    "plt.show()"
   ]
  },
  {
   "cell_type": "markdown",
   "metadata": {},
   "source": [
    "That chart is not insightful, every employement length category has different good and bad proportion. I dont see any pattern on that chart. Let's see if we can see some patern with rationing good and bad on each of employement length category."
   ]
  },
  {
   "cell_type": "markdown",
   "metadata": {},
   "source": [
    "$$\\left(\\frac{\\sum_{j=0}^{n}bad_{j}}{\\sum_{j=0}^{n}bad_{j}+\\sum_{i=0}^{n}good_{i}}\\right) _{emp\\_length\\_int}$$"
   ]
  },
  {
   "cell_type": "code",
   "execution_count": 208,
   "metadata": {},
   "outputs": [
    {
     "data": {
      "image/png": "[encoded data removed]",
      "text/plain": [
       "<Figure size 432x288 with 1 Axes>"
      ]
     },
     "metadata": {
      "needs_background": "light"
     },
     "output_type": "display_data"
    }
   ],
   "source": [
    "test['Count_percentage'] = test.iloc[:,1:].groupby(['emp_length_int']).apply(lambda x:100 * x / float(x.sum()))\n",
    "test[test['loan_condition']=='Bad Loan']['Count_percentage'].plot.line(color='r')\n",
    "plt.ylabel('Bad-Good Loan Ratio')\n",
    "plt.xlabel('Employement Length')\n",
    "plt.show()"
   ]
  },
  {
   "cell_type": "markdown",
   "metadata": {},
   "source": [
    "I can see a pattern on this chart. The greater the employement length, the lower ratio of bad loan. even though it has overshoot on 6, but still the overall ratio of bad loan wil go down with the increasing of employement length."
   ]
  },
  {
   "cell_type": "markdown",
   "metadata": {},
   "source": [
    "### Annual Income"
   ]
  },
  {
   "cell_type": "markdown",
   "metadata": {},
   "source": [
    "I want to see whether or not the annual income will affect the loan condition. First, I want to see the data distribution with boxplot."
   ]
  },
  {
   "cell_type": "code",
   "execution_count": 7,
   "metadata": {},
   "outputs": [
    {
     "name": "stderr",
     "output_type": "stream",
     "text": [
      "No handles with labels found to put in legend.\n"
     ]
    },
    {
     "data": {
      "image/png": "[encoded data removed]",
      "text/plain": [
       "<Figure size 720x360 with 1 Axes>"
      ]
     },
     "metadata": {
      "needs_background": "light"
     },
     "output_type": "display_data"
    }
   ],
   "source": [
    "fig = plt.figure(figsize = (10, 5))\n",
    "sns.boxplot(dataset['annual_inc'])\n",
    "plt.legend(loc='best')\n",
    "fig.suptitle('Annual Income')\n",
    "plt.show()"
   ]
  },
  {
   "cell_type": "markdown",
   "metadata": {},
   "source": [
    "BOOM! there are lot of outlier.<br><br>So, I did something different. I split the annual income into several non-uniform bins (0,50000,75000,...). I did this to make the chart more representative (since there are lot of outlier for annual income greater than $250,000)"
   ]
  },
  {
   "cell_type": "code",
   "execution_count": 203,
   "metadata": {},
   "outputs": [
    {
     "data": {
      "image/png": "[encoded data removed]",
      "text/plain": [
       "<Figure size 432x288 with 1 Axes>"
      ]
     },
     "metadata": {
      "needs_background": "light"
     },
     "output_type": "display_data"
    }
   ],
   "source": [
    "#annual income vs loan condition\n",
    "import numpy as np\n",
    "good = dataset[dataset['loan_condition']=='Good Loan']['annual_inc']\n",
    "bad = dataset[dataset['loan_condition']=='Bad Loan']['annual_inc']\n",
    "# Create non-uniform bins.  Unit in dollar.\n",
    "bins = [0,50000,75000,100000,200000,1000000,5000000]\n",
    "\n",
    "# Get histogram of data\n",
    "good_y, x = np.histogram(good, bins=bins)\n",
    "bad_y, x = np.histogram(bad, bins=bins)\n",
    "x=x[1:]\n",
    "\n",
    "# Turn into pandas Series\n",
    "good_bar = pd.Series(good_y, x)\n",
    "bad_bar = pd.Series(bad_y, x)\n",
    "# Plot\n",
    "good_bar.plot(kind='bar',color='g', width=1, alpha=0.5, align='center')\n",
    "bad_bar.plot(kind='bar',color='r', width=1, alpha=0.5, align='center')\n",
    "plt.legend(['Good','Bad'])\n",
    "plt.ylabel('Bad-Good Loan Ratio')\n",
    "plt.xlabel('Annual Income')\n",
    "plt.show()"
   ]
  },
  {
   "cell_type": "markdown",
   "metadata": {},
   "source": [
    "We see here that the majority of borrower only has income below 100 thousands dollar. But still, I don't see any promising pattern here. I will use previous approach, ratio between good and bad loan on every annual income category."
   ]
  },
  {
   "cell_type": "markdown",
   "metadata": {},
   "source": [
    "$$\\left(\\frac{\\sum_{j=0}^{n}bad_{j}}{\\sum_{j=0}^{n}bad_{j}+\\sum_{i=0}^{n}good_{i}}\\right) _{annual\\_inc\\_category}$$"
   ]
  },
  {
   "cell_type": "code",
   "execution_count": 204,
   "metadata": {},
   "outputs": [
    {
     "data": {
      "image/png": "[encoded data removed]",
      "text/plain": [
       "<Figure size 432x288 with 1 Axes>"
      ]
     },
     "metadata": {
      "needs_background": "light"
     },
     "output_type": "display_data"
    }
   ],
   "source": [
    "# Turn into pandas DataFrame\n",
    "\n",
    "good_bar = pd.DataFrame({'loan_condition' :np.array(['Good Loan']*len(x)).astype('object'),\n",
    "                         'bin': x,\n",
    "                         'Count': good_y,})\n",
    "bad_bar = pd.DataFrame({'loan_condition' :np.array(['Bad Loan']*len(x)).astype('object'),\n",
    "                        'bin': x,\n",
    "                        'Count': bad_y,})\n",
    "merge_bar = pd.concat([good_bar,bad_bar]).reset_index(drop=True)\n",
    "merge_bar['Count_percentage'] = merge_bar.groupby('bin')['Count'].apply(lambda x: x.astype(float)/x.sum())\n",
    "\n",
    "ax = merge_bar[merge_bar['loan_condition']=='Bad Loan'].Count_percentage.plot(kind='line',color='r', alpha=0.5)\n",
    "ax.set_xticklabels(bins)\n",
    "plt.ylabel('Bad-Good Loan Ratio')\n",
    "plt.xlabel('Annual Income')\n",
    "plt.show()"
   ]
  },
  {
   "cell_type": "markdown",
   "metadata": {},
   "source": [
    "The greater the annual income, the lower ratio of bad loan vs good loan. It makes sense, since the greater annual income means the borrower have a greater chance to paid up the loan."
   ]
  },
  {
   "cell_type": "markdown",
   "metadata": {},
   "source": [
    "### Loan Amount"
   ]
  },
  {
   "cell_type": "markdown",
   "metadata": {},
   "source": [
    "Using the same method as before, I split the loan amount into 50 uniform bin and make the scatter plot from it."
   ]
  },
  {
   "cell_type": "code",
   "execution_count": 200,
   "metadata": {},
   "outputs": [
    {
     "name": "stderr",
     "output_type": "stream",
     "text": [
      "C:\\Users\\ilham\\Anaconda3\\lib\\site-packages\\scipy\\stats\\stats.py:1713: FutureWarning: Using a non-tuple sequence for multidimensional indexing is deprecated; use `arr[tuple(seq)]` instead of `arr[seq]`. In the future this will be interpreted as an array index, `arr[np.array(seq)]`, which will result either in an error or a different result.\n",
      "  return np.add.reduce(sorted[indexer] * weights, axis=axis) / sumval\n"
     ]
    },
    {
     "data": {
      "image/png": "[encoded data removed]",
      "text/plain": [
       "<Figure size 432x288 with 1 Axes>"
      ]
     },
     "metadata": {
      "needs_background": "light"
     },
     "output_type": "display_data"
    }
   ],
   "source": [
    "#loan ammount vs loan condition\n",
    "good = dataset[dataset['loan_condition']=='Good Loan']['loan_amount']\n",
    "bad = dataset[dataset['loan_condition']=='Bad Loan']['loan_amount']\n",
    "\n",
    "good_y, x = np.histogram(good, bins=50)\n",
    "bad_y, x = np.histogram(bad, bins=x)\n",
    "x=x[1:]\n",
    "\n",
    "# Turn into pandas DataFrame\n",
    "good_bar = pd.DataFrame({'loan_condition' :np.array(['Good Loan']*len(x)).astype('object'),\n",
    "                         'bin': x,\n",
    "                         'Count': good_y,})\n",
    "bad_bar = pd.DataFrame({'loan_condition' :np.array(['Bad Loan']*len(x)).astype('object'),\n",
    "                        'bin': x,\n",
    "                        'Count': bad_y,})\n",
    "merge_bar = pd.concat([good_bar,bad_bar]).reset_index(drop=True)\n",
    "\n",
    "merge_bar['Count_percentage'] = merge_bar.groupby('bin')['Count'].apply(lambda x: x.astype(float)/x.sum())\n",
    "\n",
    "#merge_bar[merge_bar['loan_condition']=='Bad Loan'][['bin','Count_percentage']].set_index('bin').plot.line(color='r')\n",
    "\n",
    "sns.regplot(merge_bar[merge_bar['loan_condition']=='Bad Loan']['bin'],merge_bar[merge_bar['loan_condition']=='Bad Loan']['Count_percentage'])\n",
    "plt.ylabel('Bad-Good Loan Ratio')\n",
    "plt.xlabel('Loan Amount')\n",
    "plt.show()"
   ]
  },
  {
   "cell_type": "markdown",
   "metadata": {},
   "source": [
    "You can see the regression line shows the pattern that the greater loan amount the lower ratio of bad loan vs good loan."
   ]
  },
  {
   "cell_type": "markdown",
   "metadata": {},
   "source": [
    "### Income Level vs Loan Requested"
   ]
  },
  {
   "cell_type": "code",
   "execution_count": 11,
   "metadata": {},
   "outputs": [
    {
     "data": {
      "text/plain": [
       "<matplotlib.axes._subplots.AxesSubplot at 0x2b12240a4e0>"
      ]
     },
     "execution_count": 11,
     "metadata": {},
     "output_type": "execute_result"
    },
    {
     "data": {
      "image/png": "[encoded data removed]",
      "text/plain": [
       "<Figure size 432x288 with 1 Axes>"
      ]
     },
     "metadata": {
      "needs_background": "light"
     },
     "output_type": "display_data"
    }
   ],
   "source": [
    "\n",
    "sns.distplot(dataset[dataset['income_category']=='Low']['loan_amount'], color='r', label = 'Low',hist=False)\n",
    "sns.distplot(dataset[dataset['income_category']=='Medium']['loan_amount'], color='g', label = 'Medium',hist=False)\n",
    "sns.distplot(dataset[dataset['income_category']=='High']['loan_amount'], color='b', label = 'High',hist=False)\n"
   ]
  },
  {
   "cell_type": "markdown",
   "metadata": {},
   "source": [
    "from distribution chart above, we can see that the High Level Income tend to take Higher Loan. The lower the income tend to take the lower loan."
   ]
  },
  {
   "cell_type": "markdown",
   "metadata": {},
   "source": [
    "### Home Ownership"
   ]
  },
  {
   "cell_type": "markdown",
   "metadata": {},
   "source": [
    "Show the home ownership count for each of loan condition."
   ]
  },
  {
   "cell_type": "code",
   "execution_count": 228,
   "metadata": {},
   "outputs": [
    {
     "data": {
      "text/html": [
       "<div>\n",
       "<style scoped>\n",
       "    .dataframe tbody tr th:only-of-type {\n",
       "        vertical-align: middle;\n",
       "    }\n",
       "\n",
       "    .dataframe tbody tr th {\n",
       "        vertical-align: top;\n",
       "    }\n",
       "\n",
       "    .dataframe thead th {\n",
       "        text-align: right;\n",
       "    }\n",
       "</style>\n",
       "<table border=\"1\" class=\"dataframe\">\n",
       "  <thead>\n",
       "    <tr style=\"text-align: right;\">\n",
       "      <th></th>\n",
       "      <th>loan_condition</th>\n",
       "      <th>home_ownership</th>\n",
       "      <th>Count</th>\n",
       "    </tr>\n",
       "  </thead>\n",
       "  <tbody>\n",
       "    <tr>\n",
       "      <th>0</th>\n",
       "      <td>Bad Loan</td>\n",
       "      <td>MORTGAGE</td>\n",
       "      <td>29699</td>\n",
       "    </tr>\n",
       "    <tr>\n",
       "      <th>1</th>\n",
       "      <td>Bad Loan</td>\n",
       "      <td>NONE</td>\n",
       "      <td>8</td>\n",
       "    </tr>\n",
       "    <tr>\n",
       "      <th>2</th>\n",
       "      <td>Bad Loan</td>\n",
       "      <td>OTHER</td>\n",
       "      <td>38</td>\n",
       "    </tr>\n",
       "    <tr>\n",
       "      <th>3</th>\n",
       "      <td>Bad Loan</td>\n",
       "      <td>OWN</td>\n",
       "      <td>6293</td>\n",
       "    </tr>\n",
       "    <tr>\n",
       "      <th>4</th>\n",
       "      <td>Bad Loan</td>\n",
       "      <td>RENT</td>\n",
       "      <td>31391</td>\n",
       "    </tr>\n",
       "    <tr>\n",
       "      <th>5</th>\n",
       "      <td>Good Loan</td>\n",
       "      <td>ANY</td>\n",
       "      <td>3</td>\n",
       "    </tr>\n",
       "    <tr>\n",
       "      <th>6</th>\n",
       "      <td>Good Loan</td>\n",
       "      <td>MORTGAGE</td>\n",
       "      <td>413858</td>\n",
       "    </tr>\n",
       "    <tr>\n",
       "      <th>7</th>\n",
       "      <td>Good Loan</td>\n",
       "      <td>NONE</td>\n",
       "      <td>42</td>\n",
       "    </tr>\n",
       "    <tr>\n",
       "      <th>8</th>\n",
       "      <td>Good Loan</td>\n",
       "      <td>OTHER</td>\n",
       "      <td>144</td>\n",
       "    </tr>\n",
       "    <tr>\n",
       "      <th>9</th>\n",
       "      <td>Good Loan</td>\n",
       "      <td>OWN</td>\n",
       "      <td>81177</td>\n",
       "    </tr>\n",
       "    <tr>\n",
       "      <th>10</th>\n",
       "      <td>Good Loan</td>\n",
       "      <td>RENT</td>\n",
       "      <td>324726</td>\n",
       "    </tr>\n",
       "  </tbody>\n",
       "</table>\n",
       "</div>"
      ],
      "text/plain": [
       "   loan_condition home_ownership   Count\n",
       "0        Bad Loan       MORTGAGE   29699\n",
       "1        Bad Loan           NONE       8\n",
       "2        Bad Loan          OTHER      38\n",
       "3        Bad Loan            OWN    6293\n",
       "4        Bad Loan           RENT   31391\n",
       "5       Good Loan            ANY       3\n",
       "6       Good Loan       MORTGAGE  413858\n",
       "7       Good Loan           NONE      42\n",
       "8       Good Loan          OTHER     144\n",
       "9       Good Loan            OWN   81177\n",
       "10      Good Loan           RENT  324726"
      ]
     },
     "execution_count": 228,
     "metadata": {},
     "output_type": "execute_result"
    }
   ],
   "source": [
    "#Homeownership vs loan condition\n",
    "test = dataset.groupby([\"loan_condition\", \"home_ownership\"]).size().reset_index(name='Count')\n",
    "test"
   ]
  },
  {
   "cell_type": "markdown",
   "metadata": {},
   "source": [
    "Visualize the table into bar chart."
   ]
  },
  {
   "cell_type": "code",
   "execution_count": 229,
   "metadata": {},
   "outputs": [
    {
     "data": {
      "image/png": "[encoded data removed]",
      "text/plain": [
       "<Figure size 864x360 with 2 Axes>"
      ]
     },
     "metadata": {
      "needs_background": "light"
     },
     "output_type": "display_data"
    }
   ],
   "source": [
    "fig, (ax, ax2) = plt.subplots(ncols=2,figsize=(12,5))\n",
    "\n",
    "sns.barplot(test[test['loan_condition']=='Good Loan'].iloc[:,1],test[test['loan_condition']=='Good Loan'].iloc[:,2],alpha=0.5, color='g', label = 'good', ax=ax)\n",
    "sns.barplot(test[test['loan_condition']=='Bad Loan'].iloc[:,1],test[test['loan_condition']=='Bad Loan'].iloc[:,2],alpha=0.5, color='r', label = 'bad', ax=ax2)\n",
    "\n",
    "\n",
    "plt.legend(loc='best')\n",
    "plt.show()"
   ]
  },
  {
   "cell_type": "markdown",
   "metadata": {},
   "source": [
    "On the chart above, we see that there's imbalance categorical feature between two loan condition. the ANY category does not present on bad loan. This category should be deleted, since it make high colinearity to the label."
   ]
  },
  {
   "cell_type": "code",
   "execution_count": 211,
   "metadata": {},
   "outputs": [
    {
     "data": {
      "image/png": "[encoded data removed]",
      "text/plain": [
       "<Figure size 432x288 with 1 Axes>"
      ]
     },
     "metadata": {
      "needs_background": "light"
     },
     "output_type": "display_data"
    }
   ],
   "source": [
    "test['Count_percentage'] = test.iloc[:,1:].groupby(['home_ownership']).apply(lambda x:100 * x / float(x.sum()))\n",
    "test\n",
    "test[test['loan_condition']=='Bad Loan'].sort_values('Count_percentage',ascending=False)[['home_ownership','Count_percentage']].plot.bar(x='home_ownership')\n",
    "plt.ylabel('Bad-Good Loan Ratio')\n",
    "plt.show()"
   ]
  },
  {
   "cell_type": "markdown",
   "metadata": {},
   "source": [
    "Using similar approach as previous feature, I use this following formula to create the chart above (bad loan and good loan ratio on each home ownership category)."
   ]
  },
  {
   "cell_type": "markdown",
   "metadata": {},
   "source": [
    "$$\\left(\\frac{\\sum_{j=0}^{n}bad_{j}}{\\sum_{j=0}^{n}bad_{j}+\\sum_{i=0}^{n}good_{i}}\\right) _{home\\_ownership}$$"
   ]
  },
  {
   "cell_type": "markdown",
   "metadata": {},
   "source": [
    "From the chart above, The MORTGAGE and OWN home ownership take the lowest portion of bad and good ratio. while the OTHER ownership take the lead. It makes sense to me. Someone who cannot determine the ownership of where he life, will tend to default."
   ]
  },
  {
   "cell_type": "markdown",
   "metadata": {},
   "source": [
    "### Application Type"
   ]
  },
  {
   "cell_type": "markdown",
   "metadata": {},
   "source": [
    "Show the application type respect to the loan condition"
   ]
  },
  {
   "cell_type": "code",
   "execution_count": 205,
   "metadata": {},
   "outputs": [
    {
     "data": {
      "text/html": [
       "<div>\n",
       "<style scoped>\n",
       "    .dataframe tbody tr th:only-of-type {\n",
       "        vertical-align: middle;\n",
       "    }\n",
       "\n",
       "    .dataframe tbody tr th {\n",
       "        vertical-align: top;\n",
       "    }\n",
       "\n",
       "    .dataframe thead th {\n",
       "        text-align: right;\n",
       "    }\n",
       "</style>\n",
       "<table border=\"1\" class=\"dataframe\">\n",
       "  <thead>\n",
       "    <tr style=\"text-align: right;\">\n",
       "      <th></th>\n",
       "      <th>loan_condition</th>\n",
       "      <th>application_type</th>\n",
       "      <th>Count</th>\n",
       "    </tr>\n",
       "  </thead>\n",
       "  <tbody>\n",
       "    <tr>\n",
       "      <th>0</th>\n",
       "      <td>Bad Loan</td>\n",
       "      <td>INDIVIDUAL</td>\n",
       "      <td>67424</td>\n",
       "    </tr>\n",
       "    <tr>\n",
       "      <th>1</th>\n",
       "      <td>Bad Loan</td>\n",
       "      <td>JOINT</td>\n",
       "      <td>5</td>\n",
       "    </tr>\n",
       "    <tr>\n",
       "      <th>2</th>\n",
       "      <td>Good Loan</td>\n",
       "      <td>INDIVIDUAL</td>\n",
       "      <td>819444</td>\n",
       "    </tr>\n",
       "    <tr>\n",
       "      <th>3</th>\n",
       "      <td>Good Loan</td>\n",
       "      <td>JOINT</td>\n",
       "      <td>506</td>\n",
       "    </tr>\n",
       "  </tbody>\n",
       "</table>\n",
       "</div>"
      ],
      "text/plain": [
       "  loan_condition application_type   Count\n",
       "0       Bad Loan       INDIVIDUAL   67424\n",
       "1       Bad Loan            JOINT       5\n",
       "2      Good Loan       INDIVIDUAL  819444\n",
       "3      Good Loan            JOINT     506"
      ]
     },
     "execution_count": 205,
     "metadata": {},
     "output_type": "execute_result"
    }
   ],
   "source": [
    "#application type vs loan condition\n",
    "test = dataset.groupby([\"loan_condition\", \"application_type\"]).size().reset_index(name='Count')\n",
    "test"
   ]
  },
  {
   "cell_type": "markdown",
   "metadata": {},
   "source": [
    "calculate and visualize the ratio between bad and good loan on each of both application type"
   ]
  },
  {
   "cell_type": "markdown",
   "metadata": {},
   "source": [
    "$$\\left(\\frac{\\sum_{j=0}^{n}bad_{j}}{\\sum_{j=0}^{n}bad_{j}+\\sum_{i=0}^{n}good_{i}}\\right) _{application\\_type}$$"
   ]
  },
  {
   "cell_type": "code",
   "execution_count": 206,
   "metadata": {},
   "outputs": [
    {
     "data": {
      "image/png": "[encoded data removed]",
      "text/plain": [
       "<Figure size 432x288 with 1 Axes>"
      ]
     },
     "metadata": {
      "needs_background": "light"
     },
     "output_type": "display_data"
    }
   ],
   "source": [
    "test['Count_percentage'] = test.iloc[:,1:].groupby(['application_type']).apply(lambda x:100 * x / float(x.sum()))\n",
    "test\n",
    "test[test['loan_condition']=='Bad Loan'][['application_type','Count_percentage']].plot.bar(x='application_type')\n",
    "plt.ylabel('Bad-Good Loan Ratio')\n",
    "plt.show()"
   ]
  },
  {
   "cell_type": "markdown",
   "metadata": {},
   "source": [
    "The borrower who requested the loan in JOINT scheme has overall ratio bad ratio. In the real world case, the joint scheme minimize the probability of default, since the borrower will help each other to pay up the loan. The individual has a higher chance of default, because they have no way to pay up the loan if they bankrupt (another way, the individual could take debt consolidation)."
   ]
  },
  {
   "cell_type": "markdown",
   "metadata": {},
   "source": [
    "### Purpose"
   ]
  },
  {
   "cell_type": "markdown",
   "metadata": {},
   "source": [
    "Does The loan purpose have an effect to loan condition?"
   ]
  },
  {
   "cell_type": "code",
   "execution_count": 212,
   "metadata": {},
   "outputs": [
    {
     "data": {
      "image/png": "[encoded data removed]",
      "text/plain": [
       "<Figure size 1800x720 with 1 Axes>"
      ]
     },
     "metadata": {
      "needs_background": "light"
     },
     "output_type": "display_data"
    }
   ],
   "source": [
    "#purpose vs loan condition\n",
    "\n",
    "test = dataset.groupby([\"loan_condition\", \"purpose\"]).size().reset_index(name='Count')\n",
    "\n",
    "fig = plt.figure(figsize = (25, 10))\n",
    "sns.barplot(test[test['loan_condition']=='Good Loan'].iloc[:,1],test[test['loan_condition']=='Good Loan'].iloc[:,2],alpha=0.5, color='g', label = 'good')\n",
    "sns.barplot(test[test['loan_condition']=='Bad Loan'].iloc[:,1],test[test['loan_condition']=='Bad Loan'].iloc[:,2],alpha=0.5, color='r', label = 'bad')\n",
    "plt.legend(loc='best')\n",
    "fig.suptitle('Customer Analysis')\n",
    "plt.show()"
   ]
  },
  {
   "cell_type": "markdown",
   "metadata": {},
   "source": [
    "I am tired to say this, but it will be the same for this feature as well."
   ]
  },
  {
   "cell_type": "code",
   "execution_count": 213,
   "metadata": {},
   "outputs": [
    {
     "data": {
      "image/png": "[encoded data removed]",
      "text/plain": [
       "<Figure size 432x288 with 1 Axes>"
      ]
     },
     "metadata": {
      "needs_background": "light"
     },
     "output_type": "display_data"
    }
   ],
   "source": [
    "test['Count_percentage'] = test.iloc[:,1:].groupby(['purpose']).apply(lambda x:100 * x / float(x.sum()))\n",
    "test\n",
    "test[test['loan_condition']=='Bad Loan'].sort_values('Count_percentage',ascending=False)[['purpose','Count_percentage']].plot.bar(x='purpose')\n",
    "plt.ylabel('Bad-Good Loan Ratio')\n",
    "plt.show()"
   ]
  },
  {
   "cell_type": "markdown",
   "metadata": {},
   "source": [
    "The education reason has the higher ratio of bad loan, while the credit card has the lower ratio. My assumption, the borrower fail to pay the loan, because they fail to got a proper job on time or they got a job with low wage."
   ]
  },
  {
   "cell_type": "markdown",
   "metadata": {},
   "source": [
    "### Interest Rate"
   ]
  },
  {
   "cell_type": "markdown",
   "metadata": {},
   "source": [
    "I split the interest rate into 50 uniform bin. For every bin, I calculate the ratio between bad and good loan condition."
   ]
  },
  {
   "cell_type": "code",
   "execution_count": 214,
   "metadata": {},
   "outputs": [
    {
     "name": "stderr",
     "output_type": "stream",
     "text": [
      "C:\\Users\\ilham\\Anaconda3\\lib\\site-packages\\scipy\\stats\\stats.py:1713: FutureWarning: Using a non-tuple sequence for multidimensional indexing is deprecated; use `arr[tuple(seq)]` instead of `arr[seq]`. In the future this will be interpreted as an array index, `arr[np.array(seq)]`, which will result either in an error or a different result.\n",
      "  return np.add.reduce(sorted[indexer] * weights, axis=axis) / sumval\n"
     ]
    },
    {
     "data": {
      "image/png": "[encoded data removed]",
      "text/plain": [
       "<Figure size 432x288 with 1 Axes>"
      ]
     },
     "metadata": {
      "needs_background": "light"
     },
     "output_type": "display_data"
    }
   ],
   "source": [
    "#interest rate vs loan condition\n",
    "\n",
    "good = dataset[dataset['loan_condition']=='Good Loan']['interest_rate']\n",
    "bad = dataset[dataset['loan_condition']=='Bad Loan']['interest_rate']\n",
    "\n",
    "good_y, x = np.histogram(good, bins=range(4,40,1))\n",
    "bad_y, x = np.histogram(bad, bins=x)\n",
    "x=x[1:]\n",
    "\n",
    "# Turn into pandas DataFrame\n",
    "good_bar = pd.DataFrame({'loan_condition' :np.array(['Good Loan']*len(x)).astype('object'),\n",
    "                         'bin': x,\n",
    "                         'Count': good_y,})\n",
    "bad_bar = pd.DataFrame({'loan_condition' :np.array(['Bad Loan']*len(x)).astype('object'),\n",
    "                        'bin': x,\n",
    "                        'Count': bad_y,})\n",
    "merge_bar = pd.concat([good_bar,bad_bar]).reset_index(drop=True)\n",
    "\n",
    "merge_bar['Count_percentage'] = merge_bar.groupby('bin')['Count'].apply(lambda x: x.astype(float)/x.sum())\n",
    "\n",
    "#merge_bar[merge_bar['loan_condition']=='Bad Loan'][['bin','Count_percentage']].set_index('bin').plot.line(color='r')\n",
    "sns.regplot(merge_bar[merge_bar['loan_condition']=='Bad Loan']['bin'],merge_bar[merge_bar['loan_condition']=='Bad Loan']['Count_percentage'])\n",
    "plt.ylabel('Bad-Good Loan Ratio')\n",
    "plt.xlabel('Interest Rate')\n",
    "plt.show()"
   ]
  },
  {
   "cell_type": "markdown",
   "metadata": {},
   "source": [
    "I drew the trenline as well to help you see the pattern. We see from the trenline that the higher interest rate will has higher ratio of bad. It does make sense, How they operate the business if the majority of its profit used to pay the installment?"
   ]
  },
  {
   "cell_type": "markdown",
   "metadata": {},
   "source": [
    "### Grade"
   ]
  },
  {
   "cell_type": "markdown",
   "metadata": {},
   "source": [
    "I assumed that grade features are provided by FICO or other credit scoring company. So it is valid to be predictor."
   ]
  },
  {
   "cell_type": "code",
   "execution_count": 216,
   "metadata": {},
   "outputs": [
    {
     "data": {
      "image/png": "[encoded data removed]",
      "text/plain": [
       "<Figure size 720x576 with 1 Axes>"
      ]
     },
     "metadata": {
      "needs_background": "light"
     },
     "output_type": "display_data"
    }
   ],
   "source": [
    "#purpose vs loan condition\n",
    "\n",
    "test = dataset.groupby([\"loan_condition\", \"grade\"]).size().reset_index(name='Count')\n",
    "\n",
    "fig = plt.figure(figsize = (10, 8))\n",
    "sns.barplot(test[test['loan_condition']=='Good Loan'].iloc[:,1],test[test['loan_condition']=='Good Loan'].iloc[:,2],alpha=0.5, color='g', label = 'good')\n",
    "sns.barplot(test[test['loan_condition']=='Bad Loan'].iloc[:,1],test[test['loan_condition']=='Bad Loan'].iloc[:,2],alpha=0.5, color='r', label = 'bad')\n",
    "plt.legend(loc='best')\n",
    "fig.suptitle('Customer Analysis')\n",
    "plt.show()"
   ]
  },
  {
   "cell_type": "markdown",
   "metadata": {},
   "source": [
    "Another bad vs good loan ratio for each category"
   ]
  },
  {
   "cell_type": "code",
   "execution_count": 217,
   "metadata": {},
   "outputs": [
    {
     "data": {
      "image/png": "[encoded data removed]",
      "text/plain": [
       "<Figure size 432x288 with 1 Axes>"
      ]
     },
     "metadata": {
      "needs_background": "light"
     },
     "output_type": "display_data"
    }
   ],
   "source": [
    "test['Count_percentage'] = test.iloc[:,1:].groupby(['grade']).apply(lambda x:100 * x / float(x.sum()))\n",
    "test\n",
    "test[test['loan_condition']=='Bad Loan'].sort_values('Count_percentage',ascending=False)[['grade','Count_percentage']].plot.bar(x='grade')\n",
    "plt.ylabel('Bad-Good Loan Ratio')\n",
    "plt.show()"
   ]
  },
  {
   "cell_type": "markdown",
   "metadata": {},
   "source": [
    "The higher grade (A) the lower bad loan ratio. On the other hand, the lower the grade the higher bad loan ratio."
   ]
  },
  {
   "cell_type": "markdown",
   "metadata": {},
   "source": [
    "### Grade vs Annual Income"
   ]
  },
  {
   "cell_type": "code",
   "execution_count": 226,
   "metadata": {},
   "outputs": [
    {
     "data": {
      "text/plain": [
       "Text(0.5, 1.0, 'Loan Amount Distribution by Grade')"
      ]
     },
     "execution_count": 226,
     "metadata": {},
     "output_type": "execute_result"
    },
    {
     "data": {
      "image/png": "[encoded data removed]",
      "text/plain": [
       "<Figure size 432x288 with 1 Axes>"
      ]
     },
     "metadata": {
      "needs_background": "light"
     },
     "output_type": "display_data"
    }
   ],
   "source": [
    "sns.boxplot(x='grade', y=\"loan_amount\",data=dataset, \n",
    "               hue=\"loan_condition\", palette = ['g','r'],  \n",
    "               order=[\"A\",'B','C','D','E','F', 'G'])\n",
    "plt.legend(loc='lower right')\n",
    "plt.xlabel(\"Grade Values\")\n",
    "plt.ylabel(\"Loan Amount\")\n",
    "plt.title(\"Loan Amount Distribution by Grade\")"
   ]
  },
  {
   "cell_type": "markdown",
   "metadata": {},
   "source": [
    "### Grade vs Interest Rate"
   ]
  },
  {
   "cell_type": "code",
   "execution_count": 22,
   "metadata": {},
   "outputs": [
    {
     "data": {
      "text/plain": [
       "Text(0.5, 1.0, 'Interest Rate Distribution by Grade')"
      ]
     },
     "execution_count": 22,
     "metadata": {},
     "output_type": "execute_result"
    },
    {
     "data": {
      "image/png": "[encoded data removed]",
      "text/plain": [
       "<Figure size 432x288 with 1 Axes>"
      ]
     },
     "metadata": {
      "needs_background": "light"
     },
     "output_type": "display_data"
    }
   ],
   "source": [
    "sns.boxplot(x='grade', y=\"interest_rate\",data=dataset, \n",
    "               hue=\"loan_condition\", palette = ['g','r'],  \n",
    "               order=[\"A\",'B','C','D','E','F', 'G'])\n",
    "plt.xlabel(\"Grade Values\")\n",
    "plt.ylabel(\"Interest Rate\")\n",
    "plt.title(\"Interest Rate Distribution by Grade\")"
   ]
  },
  {
   "cell_type": "markdown",
   "metadata": {},
   "source": [
    "The lower the grade the higher the interest rate."
   ]
  },
  {
   "cell_type": "markdown",
   "metadata": {},
   "source": [
    "### Debt to Income Ratio"
   ]
  },
  {
   "cell_type": "markdown",
   "metadata": {},
   "source": [
    "I split the Debt to Income ratio into 35 uniform bin. For every bin, I calculate the ratio between bad and good loan condition."
   ]
  },
  {
   "cell_type": "code",
   "execution_count": 219,
   "metadata": {},
   "outputs": [
    {
     "data": {
      "image/png": "[encoded data removed]",
      "text/plain": [
       "<Figure size 432x288 with 1 Axes>"
      ]
     },
     "metadata": {
      "needs_background": "light"
     },
     "output_type": "display_data"
    }
   ],
   "source": [
    "#dti vs loan condition\n",
    "\n",
    "good = dataset[dataset['loan_condition']=='Good Loan']['dti']\n",
    "bad = dataset[dataset['loan_condition']=='Bad Loan']['dti']\n",
    "\n",
    "good_y, x = np.histogram(good, bins=range(0,35,1))\n",
    "bad_y, x = np.histogram(bad, bins=x)\n",
    "x=x[1:]\n",
    "\n",
    "# Turn into pandas DataFrame\n",
    "good_bar = pd.DataFrame({'loan_condition' :np.array(['Good Loan']*len(x)).astype('object'),\n",
    "                         'bin': x,\n",
    "                         'Count': good_y,})\n",
    "bad_bar = pd.DataFrame({'loan_condition' :np.array(['Bad Loan']*len(x)).astype('object'),\n",
    "                        'bin': x,\n",
    "                        'Count': bad_y,})\n",
    "merge_bar = pd.concat([good_bar,bad_bar]).reset_index(drop=True)\n",
    "\n",
    "merge_bar['Count_percentage'] = merge_bar.groupby('bin')['Count'].apply(lambda x: x.astype(float)/x.sum())\n",
    "\n",
    "#merge_bar[merge_bar['loan_condition']=='Bad Loan'][['bin','Count_percentage']].set_index('bin').plot.line(color='r')\n",
    "sns.regplot(merge_bar[merge_bar['loan_condition']=='Bad Loan']['bin'],merge_bar[merge_bar['loan_condition']=='Bad Loan']['Count_percentage'])\n",
    "plt.xlabel(\"Debt to Interest Ratio\")\n",
    "plt.ylabel(\"Bad-Good Loan Ratio\")\n",
    "plt.show()"
   ]
  },
  {
   "cell_type": "markdown",
   "metadata": {},
   "source": [
    "From the trendline, the higher DTI will tend to default. But, it doesn't always like that. from the scatter plot, the 0 DTI also has pretty high chance to be defaulted. The first time borrower? so they doesn't know how to manage their finance?"
   ]
  },
  {
   "cell_type": "markdown",
   "metadata": {},
   "source": [
    "### Region"
   ]
  },
  {
   "cell_type": "markdown",
   "metadata": {},
   "source": [
    "In my Opinion, every region have different problem. Same number of loan requested might have different intrinsic value in different region. It also applies to annual income. So this region stuff should be analyzed further."
   ]
  },
  {
   "cell_type": "code",
   "execution_count": 24,
   "metadata": {},
   "outputs": [
    {
     "data": {
      "image/png": "[encoded data removed]",
      "text/plain": [
       "<Figure size 720x360 with 1 Axes>"
      ]
     },
     "metadata": {
      "needs_background": "light"
     },
     "output_type": "display_data"
    }
   ],
   "source": [
    "#region vs income\n",
    "\n",
    "test = dataset.groupby([\"loan_condition\", \"region\"]).size().reset_index(name='Count')\n",
    "\n",
    "fig = plt.figure(figsize = (10, 5))\n",
    "sns.barplot(test[test['loan_condition']=='Good Loan'].iloc[:,1],test[test['loan_condition']=='Good Loan'].iloc[:,2],alpha=0.5, color='g', label = 'good')\n",
    "sns.barplot(test[test['loan_condition']=='Bad Loan'].iloc[:,1],test[test['loan_condition']=='Bad Loan'].iloc[:,2],alpha=0.5, color='r', label = 'bad')\n",
    "plt.legend(loc='best')\n",
    "fig.suptitle('Customer Analysis')\n",
    "plt.show()"
   ]
  },
  {
   "cell_type": "markdown",
   "metadata": {},
   "source": [
    "Using similar approach, ratio bad-good loan for every region"
   ]
  },
  {
   "cell_type": "code",
   "execution_count": 25,
   "metadata": {},
   "outputs": [
    {
     "name": "stderr",
     "output_type": "stream",
     "text": [
      "C:\\Users\\ilham\\Anaconda3\\lib\\site-packages\\matplotlib\\axes\\_base.py:3604: MatplotlibDeprecationWarning: \n",
      "The `ymin` argument was deprecated in Matplotlib 3.0 and will be removed in 3.2. Use `bottom` instead.\n",
      "  alternative='`bottom`', obj_type='argument')\n"
     ]
    },
    {
     "data": {
      "text/plain": [
       "(6.5, 8.287540545697386)"
      ]
     },
     "execution_count": 25,
     "metadata": {},
     "output_type": "execute_result"
    },
    {
     "data": {
      "image/png": "[encoded data removed]",
      "text/plain": [
       "<Figure size 432x288 with 1 Axes>"
      ]
     },
     "metadata": {
      "needs_background": "light"
     },
     "output_type": "display_data"
    }
   ],
   "source": [
    "test['Count_percentage'] = test.iloc[:,1:].groupby(['region']).apply(lambda x:100 * x / float(x.sum()))\n",
    "test\n",
    "test[test['loan_condition']=='Bad Loan'].sort_values('Count_percentage',ascending=False)[['region','Count_percentage']].plot.bar(x='region')\n",
    "plt.ylim(ymin=6.5)"
   ]
  },
  {
   "cell_type": "markdown",
   "metadata": {},
   "source": [
    "It seems like the ration between 5 region is slightly different. I cannot belive it yet, but I will check it again with feature importance, whether or not to remove it in the training process"
   ]
  },
  {
   "cell_type": "markdown",
   "metadata": {},
   "source": [
    "## Feature Drop\n",
    "There are feature that I left behind. The reason was we don't have these feature value when we will predict loan condition. If the borrower req\n",
    "- total payment : how come you get this data when user requested for loan? from the future?\n",
    "- total received principle : how come you get this data if our lender will fund this loan? from future?\n",
    "- recoveries : how come you get this data if our borrower will default or not? do they have asset to pay up the loan if determined as default?\n",
    "- installment : oh boy... it has collinearity of interest rate.\n",
    "<br><br>\n",
    "NOTE:<br>\n",
    "If we assumed these data as a historical data, well... it still doesn't make sense. There is no unique user identifier which every loan request belong to which company. So I cannot move with this scenario. <br>\n",
    "<br>\n",
    "So, I assumed that this data is used by creator to determine the loan condition MANUALLY, after they got the data."
   ]
  },
  {
   "cell_type": "markdown",
   "metadata": {},
   "source": [
    "## Feature Engineering"
   ]
  },
  {
   "cell_type": "markdown",
   "metadata": {},
   "source": [
    "### Select the feature"
   ]
  },
  {
   "cell_type": "markdown",
   "metadata": {},
   "source": [
    "I slice the dataset on specific features bassed on previous analysis"
   ]
  },
  {
   "cell_type": "code",
   "execution_count": 26,
   "metadata": {},
   "outputs": [
    {
     "name": "stderr",
     "output_type": "stream",
     "text": [
      "C:\\Users\\ilham\\Anaconda3\\lib\\site-packages\\ipykernel_launcher.py:4: SettingWithCopyWarning: \n",
      "A value is trying to be set on a copy of a slice from a DataFrame.\n",
      "Try using .loc[row_indexer,col_indexer] = value instead\n",
      "\n",
      "See the caveats in the documentation: http://pandas.pydata.org/pandas-docs/stable/indexing.html#indexing-view-versus-copy\n",
      "  after removing the cwd from sys.path.\n"
     ]
    },
    {
     "data": {
      "text/html": [
       "<div>\n",
       "<style scoped>\n",
       "    .dataframe tbody tr th:only-of-type {\n",
       "        vertical-align: middle;\n",
       "    }\n",
       "\n",
       "    .dataframe tbody tr th {\n",
       "        vertical-align: top;\n",
       "    }\n",
       "\n",
       "    .dataframe thead th {\n",
       "        text-align: right;\n",
       "    }\n",
       "</style>\n",
       "<table border=\"1\" class=\"dataframe\">\n",
       "  <thead>\n",
       "    <tr style=\"text-align: right;\">\n",
       "      <th></th>\n",
       "      <th>issue_d</th>\n",
       "      <th>loan_condition_cat</th>\n",
       "      <th>emp_length_int</th>\n",
       "      <th>grade</th>\n",
       "      <th>home_ownership</th>\n",
       "      <th>annual_inc</th>\n",
       "      <th>loan_amount</th>\n",
       "      <th>term</th>\n",
       "      <th>application_type</th>\n",
       "      <th>purpose</th>\n",
       "      <th>interest_rate</th>\n",
       "      <th>dti</th>\n",
       "      <th>region</th>\n",
       "    </tr>\n",
       "  </thead>\n",
       "  <tbody>\n",
       "    <tr>\n",
       "      <th>0</th>\n",
       "      <td>2007-06-01</td>\n",
       "      <td>0</td>\n",
       "      <td>0</td>\n",
       "      <td>E</td>\n",
       "      <td>OWN</td>\n",
       "      <td>22000</td>\n",
       "      <td>7500</td>\n",
       "      <td>36 months</td>\n",
       "      <td>INDIVIDUAL</td>\n",
       "      <td>debt_consolidation</td>\n",
       "      <td>13.75</td>\n",
       "      <td>14.29</td>\n",
       "      <td>Northern-Irl</td>\n",
       "    </tr>\n",
       "    <tr>\n",
       "      <th>1</th>\n",
       "      <td>2007-06-01</td>\n",
       "      <td>0</td>\n",
       "      <td>0</td>\n",
       "      <td>C</td>\n",
       "      <td>RENT</td>\n",
       "      <td>20000</td>\n",
       "      <td>6000</td>\n",
       "      <td>36 months</td>\n",
       "      <td>INDIVIDUAL</td>\n",
       "      <td>debt_consolidation</td>\n",
       "      <td>10.59</td>\n",
       "      <td>12.90</td>\n",
       "      <td>Northern-Irl</td>\n",
       "    </tr>\n",
       "    <tr>\n",
       "      <th>2</th>\n",
       "      <td>2007-06-01</td>\n",
       "      <td>0</td>\n",
       "      <td>2</td>\n",
       "      <td>B</td>\n",
       "      <td>MORTGAGE</td>\n",
       "      <td>30000</td>\n",
       "      <td>4400</td>\n",
       "      <td>36 months</td>\n",
       "      <td>INDIVIDUAL</td>\n",
       "      <td>debt_consolidation</td>\n",
       "      <td>9.64</td>\n",
       "      <td>3.72</td>\n",
       "      <td>Northern-Irl</td>\n",
       "    </tr>\n",
       "    <tr>\n",
       "      <th>3</th>\n",
       "      <td>2007-06-01</td>\n",
       "      <td>0</td>\n",
       "      <td>0</td>\n",
       "      <td>B</td>\n",
       "      <td>RENT</td>\n",
       "      <td>36000</td>\n",
       "      <td>1200</td>\n",
       "      <td>36 months</td>\n",
       "      <td>INDIVIDUAL</td>\n",
       "      <td>other</td>\n",
       "      <td>9.01</td>\n",
       "      <td>3.27</td>\n",
       "      <td>munster</td>\n",
       "    </tr>\n",
       "    <tr>\n",
       "      <th>4</th>\n",
       "      <td>2007-06-01</td>\n",
       "      <td>0</td>\n",
       "      <td>0</td>\n",
       "      <td>C</td>\n",
       "      <td>RENT</td>\n",
       "      <td>28000</td>\n",
       "      <td>5000</td>\n",
       "      <td>36 months</td>\n",
       "      <td>INDIVIDUAL</td>\n",
       "      <td>other</td>\n",
       "      <td>11.22</td>\n",
       "      <td>3.51</td>\n",
       "      <td>Northern-Irl</td>\n",
       "    </tr>\n",
       "  </tbody>\n",
       "</table>\n",
       "</div>"
      ],
      "text/plain": [
       "     issue_d  loan_condition_cat  emp_length_int grade home_ownership  \\\n",
       "0 2007-06-01                   0               0     E            OWN   \n",
       "1 2007-06-01                   0               0     C           RENT   \n",
       "2 2007-06-01                   0               2     B       MORTGAGE   \n",
       "3 2007-06-01                   0               0     B           RENT   \n",
       "4 2007-06-01                   0               0     C           RENT   \n",
       "\n",
       "   annual_inc  loan_amount        term application_type             purpose  \\\n",
       "0       22000         7500   36 months       INDIVIDUAL  debt_consolidation   \n",
       "1       20000         6000   36 months       INDIVIDUAL  debt_consolidation   \n",
       "2       30000         4400   36 months       INDIVIDUAL  debt_consolidation   \n",
       "3       36000         1200   36 months       INDIVIDUAL               other   \n",
       "4       28000         5000   36 months       INDIVIDUAL               other   \n",
       "\n",
       "   interest_rate    dti        region  \n",
       "0          13.75  14.29  Northern-Irl  \n",
       "1          10.59  12.90  Northern-Irl  \n",
       "2           9.64   3.72  Northern-Irl  \n",
       "3           9.01   3.27       munster  \n",
       "4          11.22   3.51  Northern-Irl  "
      ]
     },
     "execution_count": 26,
     "metadata": {},
     "output_type": "execute_result"
    }
   ],
   "source": [
    "#Slice the dataset\n",
    "dataset_dummy = dataset[['issue_d','loan_condition_cat','emp_length_int','grade','home_ownership','annual_inc','loan_amount','term','application_type','purpose','interest_rate','dti','region']]\n",
    "#Change the issue_d dtype into proper datetime format\n",
    "dataset_dummy['issue_d'] = pd.to_datetime(dataset_dummy['issue_d'],format='%d/%m/%Y')\n",
    "#Sort dataset by issue_d\n",
    "dataset_dummy = dataset_dummy.sort_values(by='issue_d').reset_index(drop=True)\n",
    "dataset_dummy.head(5)"
   ]
  },
  {
   "cell_type": "markdown",
   "metadata": {},
   "source": [
    "### Delete Some Weird Stuff"
   ]
  },
  {
   "cell_type": "markdown",
   "metadata": {},
   "source": [
    "#### Income"
   ]
  },
  {
   "cell_type": "markdown",
   "metadata": {},
   "source": [
    "delete the data that has weird amount. e.g. 0 dollar. How come you take a loan, when you don't have an income?"
   ]
  },
  {
   "cell_type": "code",
   "execution_count": 27,
   "metadata": {},
   "outputs": [],
   "source": [
    "dataset_dummy = dataset_dummy.drop(dataset_dummy[dataset_dummy.loan_amount < 50].index)"
   ]
  },
  {
   "cell_type": "markdown",
   "metadata": {},
   "source": [
    "#### DTI"
   ]
  },
  {
   "cell_type": "markdown",
   "metadata": {},
   "source": [
    "Delete DTI that has a tremendous amount. You have pretty huge debt, but you still brave enough to take the loan. Wow!"
   ]
  },
  {
   "cell_type": "code",
   "execution_count": 28,
   "metadata": {},
   "outputs": [],
   "source": [
    "dataset_dummy = dataset_dummy.drop(dataset_dummy[dataset_dummy.dti > 1000].index)"
   ]
  },
  {
   "cell_type": "markdown",
   "metadata": {},
   "source": [
    "### Corelation between Variable"
   ]
  },
  {
   "cell_type": "code",
   "execution_count": 29,
   "metadata": {},
   "outputs": [
    {
     "data": {
      "text/plain": [
       "<matplotlib.axes._subplots.AxesSubplot at 0x2b122ac5cf8>"
      ]
     },
     "execution_count": 29,
     "metadata": {},
     "output_type": "execute_result"
    },
    {
     "data": {
      "image/png": "[encoded data removed]",
      "text/plain": [
       "<Figure size 1080x1080 with 2 Axes>"
      ]
     },
     "metadata": {
      "needs_background": "light"
     },
     "output_type": "display_data"
    }
   ],
   "source": [
    "plt.figure(figsize=(15,15))\n",
    "dataset_dummy_numerical = dataset_dummy.assign(emp_length_int=dataset_dummy.emp_length_int.astype('category').cat.codes,\n",
    "                           term=dataset_dummy.term.astype('category').cat.codes,\n",
    "                           home_ownership=dataset_dummy.home_ownership.astype('category').cat.codes,\n",
    "                           application_type=dataset_dummy.application_type.astype('category').cat.codes,\n",
    "                           purpose=dataset_dummy.purpose.astype('category').cat.codes,\n",
    "                           region=dataset_dummy.region.astype('category').cat.codes,\n",
    "                           grade=dataset_dummy.grade.astype('category').cat.codes\n",
    "                        )\n",
    "sns.heatmap(dataset_dummy_numerical.corr(), annot=True, cmap='bwr',vmin=-1, vmax=1, square=True, linewidths=0.5)"
   ]
  },
  {
   "cell_type": "code",
   "execution_count": 30,
   "metadata": {},
   "outputs": [
    {
     "data": {
      "text/html": [
       "<div>\n",
       "<style scoped>\n",
       "    .dataframe tbody tr th:only-of-type {\n",
       "        vertical-align: middle;\n",
       "    }\n",
       "\n",
       "    .dataframe tbody tr th {\n",
       "        vertical-align: top;\n",
       "    }\n",
       "\n",
       "    .dataframe thead th {\n",
       "        text-align: right;\n",
       "    }\n",
       "</style>\n",
       "<table border=\"1\" class=\"dataframe\">\n",
       "  <thead>\n",
       "    <tr style=\"text-align: right;\">\n",
       "      <th></th>\n",
       "      <th>VIF Factor</th>\n",
       "      <th>features</th>\n",
       "    </tr>\n",
       "  </thead>\n",
       "  <tbody>\n",
       "    <tr>\n",
       "      <th>0</th>\n",
       "      <td>1.0</td>\n",
       "      <td>application_type</td>\n",
       "    </tr>\n",
       "    <tr>\n",
       "      <th>1</th>\n",
       "      <td>1.1</td>\n",
       "      <td>loan_condition_cat</td>\n",
       "    </tr>\n",
       "    <tr>\n",
       "      <th>2</th>\n",
       "      <td>2.1</td>\n",
       "      <td>term</td>\n",
       "    </tr>\n",
       "    <tr>\n",
       "      <th>3</th>\n",
       "      <td>2.4</td>\n",
       "      <td>purpose</td>\n",
       "    </tr>\n",
       "    <tr>\n",
       "      <th>4</th>\n",
       "      <td>2.7</td>\n",
       "      <td>annual_inc</td>\n",
       "    </tr>\n",
       "    <tr>\n",
       "      <th>5</th>\n",
       "      <td>2.7</td>\n",
       "      <td>region</td>\n",
       "    </tr>\n",
       "    <tr>\n",
       "      <th>6</th>\n",
       "      <td>3.3</td>\n",
       "      <td>home_ownership</td>\n",
       "    </tr>\n",
       "    <tr>\n",
       "      <th>7</th>\n",
       "      <td>3.8</td>\n",
       "      <td>emp_length_int</td>\n",
       "    </tr>\n",
       "    <tr>\n",
       "      <th>8</th>\n",
       "      <td>5.6</td>\n",
       "      <td>loan_amount</td>\n",
       "    </tr>\n",
       "    <tr>\n",
       "      <th>9</th>\n",
       "      <td>5.6</td>\n",
       "      <td>dti</td>\n",
       "    </tr>\n",
       "    <tr>\n",
       "      <th>10</th>\n",
       "      <td>16.5</td>\n",
       "      <td>grade</td>\n",
       "    </tr>\n",
       "    <tr>\n",
       "      <th>11</th>\n",
       "      <td>45.1</td>\n",
       "      <td>interest_rate</td>\n",
       "    </tr>\n",
       "  </tbody>\n",
       "</table>\n",
       "</div>"
      ],
      "text/plain": [
       "    VIF Factor            features\n",
       "0          1.0    application_type\n",
       "1          1.1  loan_condition_cat\n",
       "2          2.1                term\n",
       "3          2.4             purpose\n",
       "4          2.7          annual_inc\n",
       "5          2.7              region\n",
       "6          3.3      home_ownership\n",
       "7          3.8      emp_length_int\n",
       "8          5.6         loan_amount\n",
       "9          5.6                 dti\n",
       "10        16.5               grade\n",
       "11        45.1       interest_rate"
      ]
     },
     "execution_count": 30,
     "metadata": {},
     "output_type": "execute_result"
    }
   ],
   "source": [
    "from statsmodels.stats.outliers_influence import variance_inflation_factor\n",
    "# For each X, calculate VIF and save in dataframe\n",
    "vif = pd.DataFrame()\n",
    "\n",
    "vif[\"VIF Factor\"] = [variance_inflation_factor(dataset_dummy_numerical.iloc[:,1:].values, i) for i in range(dataset_dummy_numerical.iloc[:,1:].shape[1])]\n",
    "vif[\"features\"] = dataset_dummy_numerical.iloc[:,1:].columns\n",
    "vif.round(1).sort_values(by=['VIF Factor']).reset_index(drop=True)"
   ]
  },
  {
   "cell_type": "markdown",
   "metadata": {},
   "source": [
    "Because the interest rate and the grade pretty high correlation, we will keep only one between them and delete the other one. In this case, I will delete the grade, because the interest rate is continues variable.\n",
    "<br><br>\n",
    "I think I change my mind. I won't delete one of the feature, instead I will use multicollinearity-immune-model like tree-based. Since the are lot of outlier in the dataset, tree-based model is better than value-sensitive model like Neural Network and Logistic Regression (easy to BOOM BANG DASH when there is a feature with larger value than the usual value). <br> <br>\n",
    "\n",
    "NOTE: <br>\n",
    "this decision is only applied when the collinearity is happened between the feature and not between feature-label. When the feature has hight correlation with label, why should we use prediction model? just use that single feature to shoot the label. HAHA... just kidding. in fact, we should delete this high correlated feature."
   ]
  },
  {
   "cell_type": "markdown",
   "metadata": {},
   "source": [
    "### One Hot Encoding"
   ]
  },
  {
   "cell_type": "markdown",
   "metadata": {},
   "source": [
    "#### Employement Length"
   ]
  },
  {
   "cell_type": "markdown",
   "metadata": {},
   "source": [
    "Since the employement length is on categorical form, so i will convert it to one-hot encoding."
   ]
  },
  {
   "cell_type": "code",
   "execution_count": 31,
   "metadata": {},
   "outputs": [],
   "source": [
    "#One-hot encoding\n",
    "y = pd.get_dummies(dataset_dummy.emp_length_int, prefix='emp_length_int')\n",
    "y = y.iloc[:, :-1]\n",
    "dataset_dummy = pd.concat([dataset_dummy, y],axis=1).drop(['emp_length_int'],axis=1)"
   ]
  },
  {
   "cell_type": "markdown",
   "metadata": {},
   "source": [
    "#### Term"
   ]
  },
  {
   "cell_type": "markdown",
   "metadata": {},
   "source": [
    "Convert the term in to one-hot encoding. 0 for 36 months and 1 for 60 months. I make my own categorical form, I just want to make every categorical feature to be more uniform (in this case 1 and 0)."
   ]
  },
  {
   "cell_type": "code",
   "execution_count": 32,
   "metadata": {},
   "outputs": [],
   "source": [
    "#One-hot encoding\n",
    "y = pd.get_dummies(dataset_dummy.term, prefix='term')\n",
    "y = y.iloc[:, :-1]\n",
    "dataset_dummy = pd.concat([dataset_dummy, y],axis=1).drop(['term'],axis=1)"
   ]
  },
  {
   "cell_type": "markdown",
   "metadata": {},
   "source": [
    "#### Home ownership"
   ]
  },
  {
   "cell_type": "markdown",
   "metadata": {},
   "source": [
    "Make the home_ownership feature into one-hot encoding format. I delete ANY category, since it's one sided value. I also delete the NONE cateogry and I will represent it with zero for the rest of home_ownership category. e.g. 0 for MORTGAGE, OTHER, OWN, and RENT will represent 1 NONE. This is my way to minimize colinearity."
   ]
  },
  {
   "cell_type": "code",
   "execution_count": 33,
   "metadata": {},
   "outputs": [],
   "source": [
    "#one-hot encoding\n",
    "y = pd.get_dummies(dataset_dummy.home_ownership, prefix='home_ownership')\n",
    "#Select sp\n",
    "y = y[['home_ownership_MORTGAGE','home_ownership_OTHER','home_ownership_OWN','home_ownership_RENT']]\n",
    "#merge with the main dataset\n",
    "dataset_dummy = pd.concat([dataset_dummy, y],axis=1).drop(['home_ownership'],axis=1)\n"
   ]
  },
  {
   "cell_type": "markdown",
   "metadata": {},
   "source": [
    "#### Application Type"
   ]
  },
  {
   "cell_type": "markdown",
   "metadata": {},
   "source": [
    "one-hot encoding system. I prefer to make everything more uniform for categorical system."
   ]
  },
  {
   "cell_type": "code",
   "execution_count": 34,
   "metadata": {},
   "outputs": [],
   "source": [
    "y = pd.get_dummies(dataset_dummy.application_type, prefix='application_type')\n",
    "y = y.iloc[:, :-1]\n",
    "dataset_dummy = pd.concat([dataset_dummy, y],axis=1).drop(['application_type'],axis=1)"
   ]
  },
  {
   "cell_type": "markdown",
   "metadata": {},
   "source": [
    "#### Purpose"
   ]
  },
  {
   "cell_type": "markdown",
   "metadata": {},
   "source": [
    "one-host encoding system. I delete the OTHER category and represent it with 0 for the rest of category in purpose feature."
   ]
  },
  {
   "cell_type": "code",
   "execution_count": 35,
   "metadata": {},
   "outputs": [],
   "source": [
    "#one-hot encoding\n",
    "y = pd.get_dummies(dataset_dummy.purpose, prefix='purpose')\n",
    "#take only specific column\n",
    "y = y[['purpose_car', 'purpose_credit_card', 'purpose_debt_consolidation',\n",
    "       'purpose_educational', 'purpose_home_improvement', 'purpose_house',\n",
    "       'purpose_major_purchase', 'purpose_medical', 'purpose_moving',\n",
    "       'purpose_renewable_energy', 'purpose_small_business',\n",
    "       'purpose_vacation', 'purpose_wedding']]\n",
    "#merge with main dataset\n",
    "dataset_dummy = pd.concat([dataset_dummy, y],axis=1).drop(['purpose'],axis=1)"
   ]
  },
  {
   "cell_type": "markdown",
   "metadata": {},
   "source": [
    "#### Region"
   ]
  },
  {
   "cell_type": "markdown",
   "metadata": {},
   "source": [
    "Another one-hot encoding."
   ]
  },
  {
   "cell_type": "code",
   "execution_count": 36,
   "metadata": {},
   "outputs": [],
   "source": [
    "y = pd.get_dummies(dataset_dummy.region, prefix='region')\n",
    "y = y.iloc[:, :-1]\n",
    "dataset_dummy = pd.concat([dataset_dummy, y],axis=1).drop(['region'],axis=1)"
   ]
  },
  {
   "cell_type": "markdown",
   "metadata": {},
   "source": [
    "#### Grade"
   ]
  },
  {
   "cell_type": "markdown",
   "metadata": {},
   "source": [
    "Another one-hot encoding."
   ]
  },
  {
   "cell_type": "code",
   "execution_count": 37,
   "metadata": {},
   "outputs": [],
   "source": [
    "y = pd.get_dummies(dataset_dummy.grade, prefix='grade')\n",
    "y = y.iloc[:, :-1]\n",
    "dataset_dummy = pd.concat([dataset_dummy, y],axis=1).drop(['grade'],axis=1)"
   ]
  },
  {
   "cell_type": "markdown",
   "metadata": {},
   "source": [
    "## Making Dataset"
   ]
  },
  {
   "cell_type": "markdown",
   "metadata": {},
   "source": [
    "### Split Dataset"
   ]
  },
  {
   "cell_type": "markdown",
   "metadata": {},
   "source": [
    "In this session, I planned to split the dataset into 3 big chunks. Those are, \n",
    "- Out of Time Before : Data proccured before the main dataset. \n",
    "- MainData : Data used for main analysis\n",
    "- Out of Time After : Data proccured after the main dataset. <br>\n",
    "<br>\n"
   ]
  },
  {
   "cell_type": "markdown",
   "metadata": {},
   "source": [
    "why should I split the dataset into 3 chunks?<br>\n",
    "well... it is useful to see the model stability at the really-unseen data.<br>\n",
    "<br>\n",
    "NOTE:<br>\n",
    "when you take the training data on the data ranged from February 2020 to November 2020, then January 2020 will be the Out of Time Before Data and December 2020 will be the Out of Time After Data."
   ]
  },
  {
   "cell_type": "markdown",
   "metadata": {},
   "source": [
    "specify the date range for Main Dataset"
   ]
  },
  {
   "cell_type": "code",
   "execution_count": 38,
   "metadata": {},
   "outputs": [],
   "source": [
    "start_date = '2012-12-01'\n",
    "end_date = '2015-10-01'"
   ]
  },
  {
   "cell_type": "markdown",
   "metadata": {},
   "source": [
    "Split the dataset based on defined date"
   ]
  },
  {
   "cell_type": "code",
   "execution_count": 39,
   "metadata": {},
   "outputs": [],
   "source": [
    "#Split Dataset Phase 1\n",
    "#MainDataset\n",
    "mainData = dataset_dummy[(dataset_dummy['issue_d'] >= start_date) & (dataset_dummy['issue_d'] <= end_date)].drop(columns=['issue_d'])\n",
    "\n",
    "#Outoftime\n",
    "#Before\n",
    "OOTB = dataset_dummy[(dataset_dummy['issue_d'] < start_date)].drop(columns=['issue_d'])\n",
    "\n",
    "#After\n",
    "OOTA = dataset_dummy[(dataset_dummy['issue_d'] > end_date)].drop(columns=['issue_d'])"
   ]
  },
  {
   "cell_type": "markdown",
   "metadata": {},
   "source": [
    "### Save file"
   ]
  },
  {
   "cell_type": "code",
   "execution_count": 41,
   "metadata": {},
   "outputs": [],
   "source": [
    "#Save file\n",
    "#MainDataset\n",
    "mainData.to_csv('./dataset/mainData.csv',index=False)\n",
    "\n",
    "#Outoftime\n",
    "#Before\n",
    "OOTB.to_csv('./dataset/OOTB.csv',index=False)\n",
    "\n",
    "#After\n",
    "OOTA.to_csv('./dataset/OOTA.csv',index=False)"
   ]
  },
  {
   "cell_type": "markdown",
   "metadata": {},
   "source": [
    "# Data Preprocessing"
   ]
  },
  {
   "cell_type": "markdown",
   "metadata": {},
   "source": [
    "## Load Data"
   ]
  },
  {
   "cell_type": "markdown",
   "metadata": {},
   "source": [
    "load data from existing file"
   ]
  },
  {
   "cell_type": "code",
   "execution_count": 8,
   "metadata": {},
   "outputs": [],
   "source": [
    "import numpy as np\n",
    "import pandas as pd\n",
    "mainData = pd.read_csv('./dataset/mainData.csv').iloc[:,:25]\n",
    "OOTB = pd.read_csv('./dataset/OOTB.csv').iloc[:,:25]\n",
    "OOTA = pd.read_csv('./dataset/OOTA.csv').iloc[:,:25]"
   ]
  },
  {
   "cell_type": "markdown",
   "metadata": {},
   "source": [
    "## Train-Val-Test Split"
   ]
  },
  {
   "cell_type": "markdown",
   "metadata": {},
   "source": [
    "split main dataset into 3 sub-dataset (train, val, and test). After that, assign the feature and label on every dataset into new variable. e.g. feature for OOTB will be saved in X_OOTB and the label for OOTB will be saved in y_OOTB."
   ]
  },
  {
   "cell_type": "code",
   "execution_count": 9,
   "metadata": {},
   "outputs": [],
   "source": [
    "from sklearn.model_selection import train_test_split\n",
    "\n",
    "#MainDataset\n",
    "X_train, X_rest, y_train, y_rest = train_test_split(mainData.iloc[:,1:], mainData.iloc[:,0], test_size=0.30, random_state=12345)\n",
    "X_val, X_test, y_val, y_test = train_test_split(X_rest, y_rest, test_size=0.5, random_state=67890)\n",
    "\n",
    "#OutOfTime\n",
    "X_OOTB,y_OOTB = OOTB.iloc[:,1:],OOTB.iloc[:,0]\n",
    "X_OOTA,y_OOTA = OOTA.iloc[:,1:],OOTA.iloc[:,0]"
   ]
  },
  {
   "cell_type": "markdown",
   "metadata": {},
   "source": [
    "## Processing Training Data"
   ]
  },
  {
   "cell_type": "markdown",
   "metadata": {},
   "source": [
    "packing the training into one set variable"
   ]
  },
  {
   "cell_type": "code",
   "execution_count": 10,
   "metadata": {},
   "outputs": [],
   "source": [
    "training_set = pd.concat([y_train.reindex(X_train.index),X_train], axis=1)"
   ]
  },
  {
   "cell_type": "markdown",
   "metadata": {},
   "source": [
    "### Outlier removal"
   ]
  },
  {
   "cell_type": "markdown",
   "metadata": {},
   "source": [
    "#### The theory"
   ]
  },
  {
   "cell_type": "markdown",
   "metadata": {},
   "source": [
    "<img src='./images/standard-deviation-far-from-mean.png' width='300' align=\"center\">"
   ]
  },
  {
   "cell_type": "markdown",
   "metadata": {},
   "source": [
    "$$\\mu \\pm \\alpha \\sigma$$"
   ]
  },
  {
   "cell_type": "markdown",
   "metadata": {},
   "source": [
    "In a Normal distribution model:\n",
    "- about 68% of the values fall within 1 standard deviation of the mean\n",
    "- about 95% of the values fall within 2 standard deviations of the mean\n",
    "- about 99.7% of the values fall within 3 standard deviation of the mean"
   ]
  },
  {
   "cell_type": "markdown",
   "metadata": {},
   "source": [
    "#### DTI"
   ]
  },
  {
   "cell_type": "markdown",
   "metadata": {},
   "source": [
    "Take only 95% data close to mean."
   ]
  },
  {
   "cell_type": "code",
   "execution_count": 11,
   "metadata": {},
   "outputs": [],
   "source": [
    "feature_name = 'dti'\n",
    "alpha = 2\n",
    "training_set = training_set[training_set[feature_name] < training_set[feature_name].mean()+alpha*training_set[feature_name].std()]"
   ]
  },
  {
   "cell_type": "markdown",
   "metadata": {},
   "source": [
    "#### Annual Income"
   ]
  },
  {
   "cell_type": "markdown",
   "metadata": {},
   "source": [
    "Take only 95% data close to mean."
   ]
  },
  {
   "cell_type": "code",
   "execution_count": 12,
   "metadata": {},
   "outputs": [],
   "source": [
    "feature_name = 'annual_inc'\n",
    "alpha = 2\n",
    "training_set = training_set[training_set[feature_name] < training_set[feature_name].mean()+alpha*training_set[feature_name].std()]"
   ]
  },
  {
   "cell_type": "markdown",
   "metadata": {},
   "source": [
    "### Oversampling"
   ]
  },
  {
   "cell_type": "markdown",
   "metadata": {},
   "source": [
    "Visualize the number of bad and good loan on single chart."
   ]
  },
  {
   "cell_type": "code",
   "execution_count": 13,
   "metadata": {},
   "outputs": [
    {
     "data": {
      "text/plain": [
       "<matplotlib.axes._subplots.AxesSubplot at 0x1b40c5564a8>"
      ]
     },
     "execution_count": 13,
     "metadata": {},
     "output_type": "execute_result"
    }
   ],
   "source": [
    "pd.Series(training_set.iloc[:,0]).value_counts().plot(kind='bar')"
   ]
  },
  {
   "cell_type": "markdown",
   "metadata": {},
   "source": [
    "Oversamplinng with SMOTE technique."
   ]
  },
  {
   "cell_type": "code",
   "execution_count": 14,
   "metadata": {},
   "outputs": [],
   "source": [
    "import imblearn\n",
    "from imblearn.over_sampling import SMOTE\n",
    "\n",
    "smote = SMOTE(ratio='minority')\n",
    "(X_smote, y_smote) = smote.fit_sample(training_set.iloc[:,1:], training_set.iloc[:,0])"
   ]
  },
  {
   "cell_type": "markdown",
   "metadata": {},
   "source": [
    "Visualize the result of oversampling. You will see that the number of bad loan will be same as good loan."
   ]
  },
  {
   "cell_type": "code",
   "execution_count": 15,
   "metadata": {},
   "outputs": [
    {
     "data": {
      "text/plain": [
       "<matplotlib.axes._subplots.AxesSubplot at 0x1b40e820ac8>"
      ]
     },
     "execution_count": 15,
     "metadata": {},
     "output_type": "execute_result"
    },
    {
     "data": {
      "image/png": "[encoded data removed]",
      "text/plain": [
       "<Figure size 432x288 with 1 Axes>"
      ]
     },
     "metadata": {
      "needs_background": "light"
     },
     "output_type": "display_data"
    }
   ],
   "source": [
    "pd.Series(y_smote).value_counts().plot(kind='bar')"
   ]
  },
  {
   "cell_type": "markdown",
   "metadata": {},
   "source": [
    "# Making Model"
   ]
  },
  {
   "cell_type": "markdown",
   "metadata": {},
   "source": [
    "## The Plan"
   ]
  },
  {
   "cell_type": "markdown",
   "metadata": {},
   "source": [
    "<img src='./images/model_plan.jpg' width='600' align=\"center\">"
   ]
  },
  {
   "cell_type": "markdown",
   "metadata": {},
   "source": [
    "I planned to use Stacking Ensemble model. I will combine numbers of different models to tackle some disadvantage between the model. I will train individually independent model. the new dataset is created by predicting the dataset with trained model. these trained model will be predicting whole 3 different datasets (mainData, OOTB, and OOTA). The meta model will be trained over this new dataset. The final prediction is decided by meta model through new dataset. Seems complicated, but we will see it in practice."
   ]
  },
  {
   "cell_type": "markdown",
   "metadata": {},
   "source": [
    "## Level-0 LightGBM"
   ]
  },
  {
   "cell_type": "code",
   "execution_count": 50,
   "metadata": {},
   "outputs": [
    {
     "name": "stdout",
     "output_type": "stream",
     "text": [
      "Starting training...\n",
      "[1]\tvalid_0's auc: 0.65072\n",
      "Training until validation scores don't improve for 100 rounds\n",
      "[2]\tvalid_0's auc: 0.676777\n",
      "[3]\tvalid_0's auc: 0.679095\n",
      "[4]\tvalid_0's auc: 0.681472\n",
      "[5]\tvalid_0's auc: 0.682624\n",
      "[6]\tvalid_0's auc: 0.682998\n",
      "[7]\tvalid_0's auc: 0.684022\n",
      "[8]\tvalid_0's auc: 0.684165\n",
      "[9]\tvalid_0's auc: 0.684686\n",
      "[10]\tvalid_0's auc: 0.684956\n",
      "[11]\tvalid_0's auc: 0.684433\n",
      "[12]\tvalid_0's auc: 0.684021\n",
      "[13]\tvalid_0's auc: 0.684009\n",
      "[14]\tvalid_0's auc: 0.684684\n",
      "[15]\tvalid_0's auc: 0.685012\n",
      "[16]\tvalid_0's auc: 0.685364\n",
      "[17]\tvalid_0's auc: 0.686182\n",
      "[18]\tvalid_0's auc: 0.687242\n",
      "[19]\tvalid_0's auc: 0.687077\n",
      "[20]\tvalid_0's auc: 0.687717\n",
      "[21]\tvalid_0's auc: 0.687923\n",
      "[22]\tvalid_0's auc: 0.688954\n",
      "[23]\tvalid_0's auc: 0.688851\n",
      "[24]\tvalid_0's auc: 0.689046\n",
      "[25]\tvalid_0's auc: 0.68925\n",
      "[26]\tvalid_0's auc: 0.689213\n",
      "[27]\tvalid_0's auc: 0.689386\n",
      "[28]\tvalid_0's auc: 0.689111\n",
      "[29]\tvalid_0's auc: 0.689541\n",
      "[30]\tvalid_0's auc: 0.689311\n",
      "[31]\tvalid_0's auc: 0.689521\n",
      "[32]\tvalid_0's auc: 0.689242\n",
      "[33]\tvalid_0's auc: 0.689421\n",
      "[34]\tvalid_0's auc: 0.68978\n",
      "[35]\tvalid_0's auc: 0.69019\n",
      "[36]\tvalid_0's auc: 0.690245\n",
      "[37]\tvalid_0's auc: 0.690224\n",
      "[38]\tvalid_0's auc: 0.690089\n",
      "[39]\tvalid_0's auc: 0.69027\n",
      "[40]\tvalid_0's auc: 0.690315\n",
      "[41]\tvalid_0's auc: 0.690991\n",
      "[42]\tvalid_0's auc: 0.690845\n",
      "[43]\tvalid_0's auc: 0.69139\n",
      "[44]\tvalid_0's auc: 0.691722\n",
      "[45]\tvalid_0's auc: 0.691446\n",
      "[46]\tvalid_0's auc: 0.691568\n",
      "[47]\tvalid_0's auc: 0.692111\n",
      "[48]\tvalid_0's auc: 0.692035\n",
      "[49]\tvalid_0's auc: 0.692311\n",
      "[50]\tvalid_0's auc: 0.692224\n",
      "[51]\tvalid_0's auc: 0.692627\n",
      "[52]\tvalid_0's auc: 0.692505\n",
      "[53]\tvalid_0's auc: 0.692782\n",
      "[54]\tvalid_0's auc: 0.69296\n",
      "[55]\tvalid_0's auc: 0.693382\n",
      "[56]\tvalid_0's auc: 0.693585\n",
      "[57]\tvalid_0's auc: 0.694107\n",
      "[58]\tvalid_0's auc: 0.694141\n",
      "[59]\tvalid_0's auc: 0.694311\n",
      "[60]\tvalid_0's auc: 0.694556\n",
      "[61]\tvalid_0's auc: 0.694639\n",
      "[62]\tvalid_0's auc: 0.69475\n",
      "[63]\tvalid_0's auc: 0.695197\n",
      "[64]\tvalid_0's auc: 0.695223\n",
      "[65]\tvalid_0's auc: 0.695433\n",
      "[66]\tvalid_0's auc: 0.69536\n",
      "[67]\tvalid_0's auc: 0.695747\n",
      "[68]\tvalid_0's auc: 0.696107\n",
      "[69]\tvalid_0's auc: 0.696011\n",
      "[70]\tvalid_0's auc: 0.696269\n",
      "[71]\tvalid_0's auc: 0.696469\n",
      "[72]\tvalid_0's auc: 0.696575\n",
      "[73]\tvalid_0's auc: 0.696567\n",
      "[74]\tvalid_0's auc: 0.696736\n",
      "[75]\tvalid_0's auc: 0.696883\n",
      "[76]\tvalid_0's auc: 0.696996\n",
      "[77]\tvalid_0's auc: 0.697118\n",
      "[78]\tvalid_0's auc: 0.697478\n",
      "[79]\tvalid_0's auc: 0.69772\n",
      "[80]\tvalid_0's auc: 0.697748\n",
      "[81]\tvalid_0's auc: 0.697759\n",
      "[82]\tvalid_0's auc: 0.697828\n",
      "[83]\tvalid_0's auc: 0.697952\n",
      "[84]\tvalid_0's auc: 0.69795\n",
      "[85]\tvalid_0's auc: 0.698453\n",
      "[86]\tvalid_0's auc: 0.698394\n",
      "[87]\tvalid_0's auc: 0.698621\n",
      "[88]\tvalid_0's auc: 0.698713\n",
      "[89]\tvalid_0's auc: 0.699002\n",
      "[90]\tvalid_0's auc: 0.699036\n",
      "[91]\tvalid_0's auc: 0.69919\n",
      "[92]\tvalid_0's auc: 0.699385\n",
      "[93]\tvalid_0's auc: 0.699565\n",
      "[94]\tvalid_0's auc: 0.699537\n",
      "[95]\tvalid_0's auc: 0.699773\n",
      "[96]\tvalid_0's auc: 0.699888\n",
      "[97]\tvalid_0's auc: 0.700146\n",
      "[98]\tvalid_0's auc: 0.700269\n",
      "[99]\tvalid_0's auc: 0.700287\n",
      "[100]\tvalid_0's auc: 0.700433\n",
      "[101]\tvalid_0's auc: 0.700521\n",
      "[102]\tvalid_0's auc: 0.700756\n",
      "[103]\tvalid_0's auc: 0.700931\n",
      "[104]\tvalid_0's auc: 0.701204\n",
      "[105]\tvalid_0's auc: 0.701279\n",
      "[106]\tvalid_0's auc: 0.701427\n",
      "[107]\tvalid_0's auc: 0.701447\n",
      "[108]\tvalid_0's auc: 0.701543\n",
      "[109]\tvalid_0's auc: 0.701631\n",
      "[110]\tvalid_0's auc: 0.701743\n",
      "[111]\tvalid_0's auc: 0.70181\n",
      "[112]\tvalid_0's auc: 0.701878\n",
      "[113]\tvalid_0's auc: 0.70194\n",
      "[114]\tvalid_0's auc: 0.701984\n",
      "[115]\tvalid_0's auc: 0.702165\n",
      "[116]\tvalid_0's auc: 0.702263\n",
      "[117]\tvalid_0's auc: 0.702262\n",
      "[118]\tvalid_0's auc: 0.702359\n",
      "[119]\tvalid_0's auc: 0.702466\n",
      "[120]\tvalid_0's auc: 0.702546\n",
      "[121]\tvalid_0's auc: 0.702552\n",
      "[122]\tvalid_0's auc: 0.702681\n",
      "[123]\tvalid_0's auc: 0.702787\n",
      "[124]\tvalid_0's auc: 0.702823\n",
      "[125]\tvalid_0's auc: 0.702944\n",
      "[126]\tvalid_0's auc: 0.702915\n",
      "[127]\tvalid_0's auc: 0.702902\n",
      "[128]\tvalid_0's auc: 0.702967\n",
      "[129]\tvalid_0's auc: 0.70309\n",
      "[130]\tvalid_0's auc: 0.703139\n",
      "[131]\tvalid_0's auc: 0.703371\n",
      "[132]\tvalid_0's auc: 0.703402\n",
      "[133]\tvalid_0's auc: 0.703415\n",
      "[134]\tvalid_0's auc: 0.70353\n",
      "[135]\tvalid_0's auc: 0.703628\n",
      "[136]\tvalid_0's auc: 0.703653\n",
      "[137]\tvalid_0's auc: 0.703659\n",
      "[138]\tvalid_0's auc: 0.703672\n",
      "[139]\tvalid_0's auc: 0.703711\n",
      "[140]\tvalid_0's auc: 0.703807\n",
      "[141]\tvalid_0's auc: 0.703863\n",
      "[142]\tvalid_0's auc: 0.703853\n",
      "[143]\tvalid_0's auc: 0.704006\n",
      "[144]\tvalid_0's auc: 0.704029\n",
      "[145]\tvalid_0's auc: 0.703948\n",
      "[146]\tvalid_0's auc: 0.704022\n",
      "[147]\tvalid_0's auc: 0.703997\n",
      "[148]\tvalid_0's auc: 0.704062\n",
      "[149]\tvalid_0's auc: 0.704049\n",
      "[150]\tvalid_0's auc: 0.704164\n",
      "[151]\tvalid_0's auc: 0.704349\n",
      "[152]\tvalid_0's auc: 0.704427\n",
      "[153]\tvalid_0's auc: 0.704538\n",
      "[154]\tvalid_0's auc: 0.704597\n",
      "[155]\tvalid_0's auc: 0.704683\n",
      "[156]\tvalid_0's auc: 0.70478\n",
      "[157]\tvalid_0's auc: 0.704798\n",
      "[158]\tvalid_0's auc: 0.704875\n",
      "[159]\tvalid_0's auc: 0.704929\n",
      "[160]\tvalid_0's auc: 0.704937\n",
      "[161]\tvalid_0's auc: 0.705063\n",
      "[162]\tvalid_0's auc: 0.705124\n",
      "[163]\tvalid_0's auc: 0.705198\n",
      "[164]\tvalid_0's auc: 0.705232\n",
      "[165]\tvalid_0's auc: 0.705172\n",
      "[166]\tvalid_0's auc: 0.70528\n",
      "[167]\tvalid_0's auc: 0.70531\n",
      "[168]\tvalid_0's auc: 0.705488\n",
      "[169]\tvalid_0's auc: 0.705528\n",
      "[170]\tvalid_0's auc: 0.705572\n",
      "[171]\tvalid_0's auc: 0.705575\n",
      "[172]\tvalid_0's auc: 0.70561\n",
      "[173]\tvalid_0's auc: 0.705644\n",
      "[174]\tvalid_0's auc: 0.705754\n",
      "[175]\tvalid_0's auc: 0.705775\n",
      "[176]\tvalid_0's auc: 0.705812\n",
      "[177]\tvalid_0's auc: 0.705834\n",
      "[178]\tvalid_0's auc: 0.705862\n",
      "[179]\tvalid_0's auc: 0.705919\n",
      "[180]\tvalid_0's auc: 0.705902\n",
      "[181]\tvalid_0's auc: 0.705928\n",
      "[182]\tvalid_0's auc: 0.70598\n",
      "[183]\tvalid_0's auc: 0.70594\n",
      "[184]\tvalid_0's auc: 0.706086\n",
      "[185]\tvalid_0's auc: 0.706086\n",
      "[186]\tvalid_0's auc: 0.706088\n",
      "[187]\tvalid_0's auc: 0.706076\n",
      "[188]\tvalid_0's auc: 0.706034\n",
      "[189]\tvalid_0's auc: 0.706045\n",
      "[190]\tvalid_0's auc: 0.706029\n",
      "[191]\tvalid_0's auc: 0.706038\n",
      "[192]\tvalid_0's auc: 0.706047\n",
      "[193]\tvalid_0's auc: 0.706024\n",
      "[194]\tvalid_0's auc: 0.70603\n",
      "[195]\tvalid_0's auc: 0.706026\n",
      "[196]\tvalid_0's auc: 0.706069\n",
      "[197]\tvalid_0's auc: 0.706059\n",
      "[198]\tvalid_0's auc: 0.706086\n",
      "[199]\tvalid_0's auc: 0.706118\n",
      "[200]\tvalid_0's auc: 0.706108\n",
      "[201]\tvalid_0's auc: 0.706109\n",
      "[202]\tvalid_0's auc: 0.706111\n",
      "[203]\tvalid_0's auc: 0.706122\n",
      "[204]\tvalid_0's auc: 0.706131\n",
      "[205]\tvalid_0's auc: 0.706144\n",
      "[206]\tvalid_0's auc: 0.706149\n",
      "[207]\tvalid_0's auc: 0.706142\n",
      "[208]\tvalid_0's auc: 0.706175\n",
      "[209]\tvalid_0's auc: 0.706205\n",
      "[210]\tvalid_0's auc: 0.706192\n",
      "[211]\tvalid_0's auc: 0.706209\n",
      "[212]\tvalid_0's auc: 0.706208\n",
      "[213]\tvalid_0's auc: 0.706278\n",
      "[214]\tvalid_0's auc: 0.706308\n",
      "[215]\tvalid_0's auc: 0.706289\n",
      "[216]\tvalid_0's auc: 0.70629\n",
      "[217]\tvalid_0's auc: 0.706279\n",
      "[218]\tvalid_0's auc: 0.706241\n",
      "[219]\tvalid_0's auc: 0.706306\n",
      "[220]\tvalid_0's auc: 0.706321\n",
      "[221]\tvalid_0's auc: 0.706269\n",
      "[222]\tvalid_0's auc: 0.706315\n",
      "[223]\tvalid_0's auc: 0.706282\n",
      "[224]\tvalid_0's auc: 0.706286\n",
      "[225]\tvalid_0's auc: 0.706284\n",
      "[226]\tvalid_0's auc: 0.706298\n",
      "[227]\tvalid_0's auc: 0.706306\n",
      "[228]\tvalid_0's auc: 0.706324\n",
      "[229]\tvalid_0's auc: 0.706372\n",
      "[230]\tvalid_0's auc: 0.706346\n",
      "[231]\tvalid_0's auc: 0.706363\n",
      "[232]\tvalid_0's auc: 0.706394\n",
      "[233]\tvalid_0's auc: 0.70637\n",
      "[234]\tvalid_0's auc: 0.706426\n",
      "[235]\tvalid_0's auc: 0.706469\n",
      "[236]\tvalid_0's auc: 0.70645\n",
      "[237]\tvalid_0's auc: 0.706417\n",
      "[238]\tvalid_0's auc: 0.706408\n",
      "[239]\tvalid_0's auc: 0.70637\n",
      "[240]\tvalid_0's auc: 0.706371\n",
      "[241]\tvalid_0's auc: 0.706349\n",
      "[242]\tvalid_0's auc: 0.706363\n",
      "[243]\tvalid_0's auc: 0.706383\n",
      "[244]\tvalid_0's auc: 0.706387\n",
      "[245]\tvalid_0's auc: 0.70639\n",
      "[246]\tvalid_0's auc: 0.706379\n",
      "[247]\tvalid_0's auc: 0.706334\n",
      "[248]\tvalid_0's auc: 0.706355\n",
      "[249]\tvalid_0's auc: 0.706367\n",
      "[250]\tvalid_0's auc: 0.706434\n",
      "[251]\tvalid_0's auc: 0.706365\n",
      "[252]\tvalid_0's auc: 0.706355\n",
      "[253]\tvalid_0's auc: 0.706338\n",
      "[254]\tvalid_0's auc: 0.70631\n",
      "[255]\tvalid_0's auc: 0.706256\n",
      "[256]\tvalid_0's auc: 0.706249\n",
      "[257]\tvalid_0's auc: 0.706243\n",
      "[258]\tvalid_0's auc: 0.706239\n",
      "[259]\tvalid_0's auc: 0.706257\n",
      "[260]\tvalid_0's auc: 0.706266\n",
      "[261]\tvalid_0's auc: 0.706248\n",
      "[262]\tvalid_0's auc: 0.70624\n",
      "[263]\tvalid_0's auc: 0.706214\n",
      "[264]\tvalid_0's auc: 0.706222\n",
      "[265]\tvalid_0's auc: 0.706171\n",
      "[266]\tvalid_0's auc: 0.706152\n",
      "[267]\tvalid_0's auc: 0.706127\n",
      "[268]\tvalid_0's auc: 0.70609\n",
      "[269]\tvalid_0's auc: 0.706067\n",
      "[270]\tvalid_0's auc: 0.706015\n",
      "[271]\tvalid_0's auc: 0.705967\n",
      "[272]\tvalid_0's auc: 0.705953\n",
      "[273]\tvalid_0's auc: 0.705886\n",
      "[274]\tvalid_0's auc: 0.705849\n",
      "[275]\tvalid_0's auc: 0.705832\n",
      "[276]\tvalid_0's auc: 0.705836\n",
      "[277]\tvalid_0's auc: 0.705756\n",
      "[278]\tvalid_0's auc: 0.705793\n",
      "[279]\tvalid_0's auc: 0.705818\n",
      "[280]\tvalid_0's auc: 0.705823\n",
      "[281]\tvalid_0's auc: 0.705843\n",
      "[282]\tvalid_0's auc: 0.705855\n",
      "[283]\tvalid_0's auc: 0.705842\n",
      "[284]\tvalid_0's auc: 0.705843\n",
      "[285]\tvalid_0's auc: 0.705858\n",
      "[286]\tvalid_0's auc: 0.70589\n",
      "[287]\tvalid_0's auc: 0.705896\n",
      "[288]\tvalid_0's auc: 0.705881\n",
      "[289]\tvalid_0's auc: 0.705887\n",
      "[290]\tvalid_0's auc: 0.705839\n",
      "[291]\tvalid_0's auc: 0.705749\n",
      "[292]\tvalid_0's auc: 0.705745\n",
      "[293]\tvalid_0's auc: 0.705717\n",
      "[294]\tvalid_0's auc: 0.70572\n",
      "[295]\tvalid_0's auc: 0.70575\n",
      "[296]\tvalid_0's auc: 0.705714\n",
      "[297]\tvalid_0's auc: 0.705708\n",
      "[298]\tvalid_0's auc: 0.705742\n",
      "[299]\tvalid_0's auc: 0.705748\n",
      "[300]\tvalid_0's auc: 0.705678\n",
      "[301]\tvalid_0's auc: 0.70564\n",
      "[302]\tvalid_0's auc: 0.70554\n",
      "[303]\tvalid_0's auc: 0.705563\n",
      "[304]\tvalid_0's auc: 0.705593\n",
      "[305]\tvalid_0's auc: 0.705603\n",
      "[306]\tvalid_0's auc: 0.705594\n",
      "[307]\tvalid_0's auc: 0.705653\n",
      "[308]\tvalid_0's auc: 0.705653\n",
      "[309]\tvalid_0's auc: 0.705652\n",
      "[310]\tvalid_0's auc: 0.705718\n",
      "[311]\tvalid_0's auc: 0.705704\n",
      "[312]\tvalid_0's auc: 0.705688\n",
      "[313]\tvalid_0's auc: 0.705645\n",
      "[314]\tvalid_0's auc: 0.705647\n",
      "[315]\tvalid_0's auc: 0.705635\n",
      "[316]\tvalid_0's auc: 0.705636\n",
      "[317]\tvalid_0's auc: 0.705537\n",
      "[318]\tvalid_0's auc: 0.705555\n",
      "[319]\tvalid_0's auc: 0.705557\n",
      "[320]\tvalid_0's auc: 0.705518\n",
      "[321]\tvalid_0's auc: 0.705525\n",
      "[322]\tvalid_0's auc: 0.705523\n",
      "[323]\tvalid_0's auc: 0.705457\n",
      "[324]\tvalid_0's auc: 0.705369\n",
      "[325]\tvalid_0's auc: 0.705353\n",
      "[326]\tvalid_0's auc: 0.705348\n",
      "[327]\tvalid_0's auc: 0.70534\n",
      "[328]\tvalid_0's auc: 0.705338\n",
      "[329]\tvalid_0's auc: 0.705296\n",
      "[330]\tvalid_0's auc: 0.705278\n",
      "[331]\tvalid_0's auc: 0.70524\n",
      "[332]\tvalid_0's auc: 0.705221\n",
      "[333]\tvalid_0's auc: 0.705188\n",
      "[334]\tvalid_0's auc: 0.705148\n",
      "[335]\tvalid_0's auc: 0.705155\n",
      "Early stopping, best iteration is:\n",
      "[235]\tvalid_0's auc: 0.706469\n",
      "Saving model...\n"
     ]
    },
    {
     "data": {
      "text/plain": [
       "<lightgbm.basic.Booster at 0x2b14d15cf28>"
      ]
     },
     "execution_count": 50,
     "metadata": {},
     "output_type": "execute_result"
    }
   ],
   "source": [
    "#Model\n",
    "#LightGBM\n",
    "import lightgbm as lgb\n",
    "import pandas as pd\n",
    "from sklearn.metrics import mean_squared_error\n",
    "\n",
    "# create dataset for lightgbm\n",
    "lgb_train = lgb.Dataset(X_smote, y_smote)\n",
    "lgb_eval = lgb.Dataset(X_val, y_val, reference=lgb_train)\n",
    "\n",
    "# specify your configurations as a dict\n",
    "params = {\n",
    "    'boosting_type': 'gbdt',\n",
    "    'objective': 'binary',\n",
    "    'application':'binary',\n",
    "    'metric': {'accuracy', 'auc'},\n",
    "    'num_leaves': 70,\n",
    "    'learning_rate': 0.05,\n",
    "    'feature_fraction': 0.8,\n",
    "    'bagging_fraction': 0.6,\n",
    "    'bagging_freq':70,\n",
    "    'verbose': 0,\n",
    "    'device_type': 'cpu',\n",
    "    'num_threads': 4,\n",
    "    'lambda_l1':0.01,\n",
    "    'lambda_l2':0.1,\n",
    "    'extra_trees':80,\n",
    "    'min_data_in_leaf':100,\n",
    "    'max_bin':100,\n",
    "    'max_depth':4,\n",
    "    'scale_pos_weight ':1\n",
    "}\n",
    "\n",
    "print('Starting training...')\n",
    "# train\n",
    "gbm = lgb.train(params,\n",
    "                lgb_train,\n",
    "                num_boost_round=5000,\n",
    "                valid_sets=lgb_eval,\n",
    "                early_stopping_rounds=100)\n",
    "\n",
    "print('Saving model...')\n",
    "# save model to file\n",
    "gbm.save_model('./model/lgbm.txt')"
   ]
  },
  {
   "cell_type": "markdown",
   "metadata": {},
   "source": [
    "## Level-0 XGBoost"
   ]
  },
  {
   "cell_type": "code",
   "execution_count": null,
   "metadata": {},
   "outputs": [],
   "source": [
    "from xgboost import XGBClassifier\n",
    "\n",
    "XGB = XGBClassifier(silent=False,\n",
    "                    scale_pos_weight=1,\n",
    "                    learning_rate=0.01,\n",
    "                    colsample_bytree = 0.4,\n",
    "                    subsample = 0.8,\n",
    "                    objective='binary:logistic',\n",
    "                    n_estimators=1000,\n",
    "                    reg_alpha = 0.3,\n",
    "                    max_depth=3,\n",
    "                    min_child_weight = 5,\n",
    "                    gamma=10)\n",
    "%time XGB.fit(X_smote, y_smote,eval_metric=['auc'], eval_set=[(X_smote, y_smote),(X_val.values, y_val.values)], early_stopping_rounds=20)\n",
    "XGB.save_model('./model/XGB.txt')"
   ]
  },
  {
   "cell_type": "markdown",
   "metadata": {},
   "source": [
    "## Level-0 CatBoost"
   ]
  },
  {
   "cell_type": "code",
   "execution_count": 136,
   "metadata": {},
   "outputs": [
    {
     "name": "stdout",
     "output_type": "stream",
     "text": [
      "0:\ttest: 0.6472011\tbest: 0.6472011 (0)\ttotal: 331ms\tremaining: 5m 30s\n",
      "1:\ttest: 0.6496750\tbest: 0.6496750 (1)\ttotal: 671ms\tremaining: 5m 34s\n",
      "2:\ttest: 0.6505170\tbest: 0.6505170 (2)\ttotal: 977ms\tremaining: 5m 24s\n",
      "3:\ttest: 0.6576573\tbest: 0.6576573 (3)\ttotal: 1.37s\tremaining: 5m 41s\n",
      "4:\ttest: 0.6574536\tbest: 0.6576573 (3)\ttotal: 1.72s\tremaining: 5m 42s\n",
      "5:\ttest: 0.6505170\tbest: 0.6576573 (3)\ttotal: 2.02s\tremaining: 5m 33s\n",
      "6:\ttest: 0.6574757\tbest: 0.6576573 (3)\ttotal: 2.35s\tremaining: 5m 34s\n",
      "7:\ttest: 0.6579522\tbest: 0.6579522 (7)\ttotal: 2.69s\tremaining: 5m 33s\n",
      "8:\ttest: 0.6579522\tbest: 0.6579522 (7)\ttotal: 2.97s\tremaining: 5m 27s\n",
      "9:\ttest: 0.6596459\tbest: 0.6596459 (9)\ttotal: 3.32s\tremaining: 5m 29s\n",
      "10:\ttest: 0.6595611\tbest: 0.6596459 (9)\ttotal: 3.63s\tremaining: 5m 26s\n",
      "11:\ttest: 0.6595325\tbest: 0.6596459 (9)\ttotal: 3.96s\tremaining: 5m 26s\n",
      "12:\ttest: 0.6593377\tbest: 0.6596459 (9)\ttotal: 4.3s\tremaining: 5m 26s\n",
      "13:\ttest: 0.6592080\tbest: 0.6596459 (9)\ttotal: 4.62s\tremaining: 5m 25s\n",
      "14:\ttest: 0.6594754\tbest: 0.6596459 (9)\ttotal: 4.93s\tremaining: 5m 23s\n",
      "15:\ttest: 0.6607203\tbest: 0.6607203 (15)\ttotal: 5.29s\tremaining: 5m 25s\n",
      "16:\ttest: 0.6615049\tbest: 0.6615049 (16)\ttotal: 5.64s\tremaining: 5m 26s\n",
      "17:\ttest: 0.6613328\tbest: 0.6615049 (16)\ttotal: 5.95s\tremaining: 5m 24s\n",
      "18:\ttest: 0.6613474\tbest: 0.6615049 (16)\ttotal: 6.27s\tremaining: 5m 23s\n",
      "19:\ttest: 0.6613536\tbest: 0.6615049 (16)\ttotal: 6.6s\tremaining: 5m 23s\n",
      "20:\ttest: 0.6608787\tbest: 0.6615049 (16)\ttotal: 6.94s\tremaining: 5m 23s\n",
      "21:\ttest: 0.6613206\tbest: 0.6615049 (16)\ttotal: 7.3s\tremaining: 5m 24s\n",
      "22:\ttest: 0.6617072\tbest: 0.6617072 (22)\ttotal: 7.63s\tremaining: 5m 24s\n",
      "23:\ttest: 0.6625971\tbest: 0.6625971 (23)\ttotal: 7.94s\tremaining: 5m 22s\n",
      "24:\ttest: 0.6643430\tbest: 0.6643430 (24)\ttotal: 8.28s\tremaining: 5m 22s\n",
      "25:\ttest: 0.6640588\tbest: 0.6643430 (24)\ttotal: 8.68s\tremaining: 5m 25s\n",
      "26:\ttest: 0.6651745\tbest: 0.6651745 (26)\ttotal: 8.99s\tremaining: 5m 23s\n",
      "27:\ttest: 0.6649357\tbest: 0.6651745 (26)\ttotal: 9.38s\tremaining: 5m 25s\n",
      "28:\ttest: 0.6659295\tbest: 0.6659295 (28)\ttotal: 9.7s\tremaining: 5m 24s\n",
      "29:\ttest: 0.6673306\tbest: 0.6673306 (29)\ttotal: 10s\tremaining: 5m 23s\n",
      "30:\ttest: 0.6671677\tbest: 0.6673306 (29)\ttotal: 10.3s\tremaining: 5m 23s\n",
      "31:\ttest: 0.6669928\tbest: 0.6673306 (29)\ttotal: 10.7s\tremaining: 5m 22s\n",
      "32:\ttest: 0.6675694\tbest: 0.6675694 (32)\ttotal: 11s\tremaining: 5m 21s\n",
      "33:\ttest: 0.6682314\tbest: 0.6682314 (33)\ttotal: 11.3s\tremaining: 5m 21s\n",
      "34:\ttest: 0.6691307\tbest: 0.6691307 (34)\ttotal: 11.7s\tremaining: 5m 21s\n",
      "35:\ttest: 0.6679911\tbest: 0.6691307 (34)\ttotal: 12s\tremaining: 5m 20s\n",
      "36:\ttest: 0.6688812\tbest: 0.6691307 (34)\ttotal: 12.3s\tremaining: 5m 19s\n",
      "37:\ttest: 0.6694394\tbest: 0.6694394 (37)\ttotal: 12.6s\tremaining: 5m 18s\n",
      "38:\ttest: 0.6694426\tbest: 0.6694426 (38)\ttotal: 12.9s\tremaining: 5m 18s\n",
      "39:\ttest: 0.6693568\tbest: 0.6694426 (38)\ttotal: 13.2s\tremaining: 5m 17s\n",
      "40:\ttest: 0.6696123\tbest: 0.6696123 (40)\ttotal: 13.5s\tremaining: 5m 16s\n",
      "41:\ttest: 0.6695141\tbest: 0.6696123 (40)\ttotal: 13.9s\tremaining: 5m 16s\n",
      "42:\ttest: 0.6698143\tbest: 0.6698143 (42)\ttotal: 14.2s\tremaining: 5m 15s\n",
      "43:\ttest: 0.6696920\tbest: 0.6698143 (42)\ttotal: 14.5s\tremaining: 5m 15s\n",
      "44:\ttest: 0.6700805\tbest: 0.6700805 (44)\ttotal: 14.8s\tremaining: 5m 14s\n",
      "45:\ttest: 0.6701974\tbest: 0.6701974 (45)\ttotal: 15.1s\tremaining: 5m 13s\n",
      "46:\ttest: 0.6720931\tbest: 0.6720931 (46)\ttotal: 15.5s\tremaining: 5m 14s\n",
      "47:\ttest: 0.6722962\tbest: 0.6722962 (47)\ttotal: 15.9s\tremaining: 5m 15s\n",
      "48:\ttest: 0.6723536\tbest: 0.6723536 (48)\ttotal: 16.4s\tremaining: 5m 18s\n",
      "49:\ttest: 0.6725365\tbest: 0.6725365 (49)\ttotal: 16.8s\tremaining: 5m 18s\n",
      "50:\ttest: 0.6726617\tbest: 0.6726617 (50)\ttotal: 17.1s\tremaining: 5m 17s\n",
      "51:\ttest: 0.6736478\tbest: 0.6736478 (51)\ttotal: 17.4s\tremaining: 5m 17s\n",
      "52:\ttest: 0.6737492\tbest: 0.6737492 (52)\ttotal: 17.7s\tremaining: 5m 16s\n",
      "53:\ttest: 0.6734710\tbest: 0.6737492 (52)\ttotal: 18s\tremaining: 5m 15s\n",
      "54:\ttest: 0.6732657\tbest: 0.6737492 (52)\ttotal: 18.4s\tremaining: 5m 15s\n",
      "55:\ttest: 0.6733604\tbest: 0.6737492 (52)\ttotal: 18.7s\tremaining: 5m 14s\n",
      "56:\ttest: 0.6733640\tbest: 0.6737492 (52)\ttotal: 19s\tremaining: 5m 14s\n",
      "57:\ttest: 0.6735269\tbest: 0.6737492 (52)\ttotal: 19.3s\tremaining: 5m 13s\n",
      "58:\ttest: 0.6737856\tbest: 0.6737856 (58)\ttotal: 19.6s\tremaining: 5m 13s\n",
      "59:\ttest: 0.6745244\tbest: 0.6745244 (59)\ttotal: 20s\tremaining: 5m 13s\n",
      "60:\ttest: 0.6743481\tbest: 0.6745244 (59)\ttotal: 20.3s\tremaining: 5m 13s\n",
      "61:\ttest: 0.6752260\tbest: 0.6752260 (61)\ttotal: 20.6s\tremaining: 5m 12s\n",
      "62:\ttest: 0.6760531\tbest: 0.6760531 (62)\ttotal: 21s\tremaining: 5m 11s\n",
      "63:\ttest: 0.6764537\tbest: 0.6764537 (63)\ttotal: 21.3s\tremaining: 5m 11s\n",
      "64:\ttest: 0.6765864\tbest: 0.6765864 (64)\ttotal: 21.7s\tremaining: 5m 11s\n",
      "65:\ttest: 0.6770247\tbest: 0.6770247 (65)\ttotal: 22s\tremaining: 5m 10s\n",
      "66:\ttest: 0.6772899\tbest: 0.6772899 (66)\ttotal: 22.3s\tremaining: 5m 9s\n",
      "67:\ttest: 0.6772574\tbest: 0.6772899 (66)\ttotal: 22.6s\tremaining: 5m 9s\n",
      "68:\ttest: 0.6774581\tbest: 0.6774581 (68)\ttotal: 22.9s\tremaining: 5m 8s\n",
      "69:\ttest: 0.6774551\tbest: 0.6774581 (68)\ttotal: 23.2s\tremaining: 5m 8s\n",
      "70:\ttest: 0.6776859\tbest: 0.6776859 (70)\ttotal: 23.5s\tremaining: 5m 8s\n",
      "71:\ttest: 0.6776926\tbest: 0.6776926 (71)\ttotal: 23.9s\tremaining: 5m 7s\n",
      "72:\ttest: 0.6779964\tbest: 0.6779964 (72)\ttotal: 24.2s\tremaining: 5m 6s\n",
      "73:\ttest: 0.6781664\tbest: 0.6781664 (73)\ttotal: 24.5s\tremaining: 5m 6s\n",
      "74:\ttest: 0.6783959\tbest: 0.6783959 (74)\ttotal: 24.8s\tremaining: 5m 5s\n",
      "75:\ttest: 0.6785778\tbest: 0.6785778 (75)\ttotal: 25.1s\tremaining: 5m 4s\n",
      "76:\ttest: 0.6786411\tbest: 0.6786411 (76)\ttotal: 25.4s\tremaining: 5m 4s\n",
      "77:\ttest: 0.6787865\tbest: 0.6787865 (77)\ttotal: 25.8s\tremaining: 5m 4s\n",
      "78:\ttest: 0.6789968\tbest: 0.6789968 (78)\ttotal: 26.1s\tremaining: 5m 3s\n",
      "79:\ttest: 0.6791902\tbest: 0.6791902 (79)\ttotal: 26.4s\tremaining: 5m 3s\n",
      "80:\ttest: 0.6791590\tbest: 0.6791902 (79)\ttotal: 26.7s\tremaining: 5m 2s\n",
      "81:\ttest: 0.6793134\tbest: 0.6793134 (81)\ttotal: 27s\tremaining: 5m 2s\n",
      "82:\ttest: 0.6793187\tbest: 0.6793187 (82)\ttotal: 27.4s\tremaining: 5m 2s\n",
      "83:\ttest: 0.6791758\tbest: 0.6793187 (82)\ttotal: 27.8s\tremaining: 5m 3s\n",
      "84:\ttest: 0.6796368\tbest: 0.6796368 (84)\ttotal: 28.2s\tremaining: 5m 3s\n",
      "85:\ttest: 0.6796930\tbest: 0.6796930 (85)\ttotal: 28.5s\tremaining: 5m 2s\n",
      "86:\ttest: 0.6797507\tbest: 0.6797507 (86)\ttotal: 28.8s\tremaining: 5m 2s\n",
      "87:\ttest: 0.6797157\tbest: 0.6797507 (86)\ttotal: 29.1s\tremaining: 5m 1s\n",
      "88:\ttest: 0.6797916\tbest: 0.6797916 (88)\ttotal: 29.4s\tremaining: 5m\n",
      "89:\ttest: 0.6797385\tbest: 0.6797916 (88)\ttotal: 29.8s\tremaining: 5m\n",
      "90:\ttest: 0.6798604\tbest: 0.6798604 (90)\ttotal: 30.1s\tremaining: 5m\n",
      "91:\ttest: 0.6798993\tbest: 0.6798993 (91)\ttotal: 30.4s\tremaining: 4m 59s\n",
      "92:\ttest: 0.6800123\tbest: 0.6800123 (92)\ttotal: 30.7s\tremaining: 4m 59s\n",
      "93:\ttest: 0.6799897\tbest: 0.6800123 (92)\ttotal: 31s\tremaining: 4m 58s\n",
      "94:\ttest: 0.6799815\tbest: 0.6800123 (92)\ttotal: 31.3s\tremaining: 4m 58s\n",
      "95:\ttest: 0.6800375\tbest: 0.6800375 (95)\ttotal: 31.7s\tremaining: 4m 58s\n",
      "96:\ttest: 0.6802444\tbest: 0.6802444 (96)\ttotal: 32s\tremaining: 4m 57s\n",
      "97:\ttest: 0.6800535\tbest: 0.6802444 (96)\ttotal: 32.3s\tremaining: 4m 57s\n",
      "98:\ttest: 0.6800870\tbest: 0.6802444 (96)\ttotal: 32.7s\tremaining: 4m 57s\n",
      "99:\ttest: 0.6802783\tbest: 0.6802783 (99)\ttotal: 33s\tremaining: 4m 57s\n",
      "100:\ttest: 0.6801720\tbest: 0.6802783 (99)\ttotal: 33.3s\tremaining: 4m 56s\n",
      "101:\ttest: 0.6805108\tbest: 0.6805108 (101)\ttotal: 33.6s\tremaining: 4m 56s\n",
      "102:\ttest: 0.6806560\tbest: 0.6806560 (102)\ttotal: 34s\tremaining: 4m 55s\n",
      "103:\ttest: 0.6807621\tbest: 0.6807621 (103)\ttotal: 34.3s\tremaining: 4m 55s\n",
      "104:\ttest: 0.6809257\tbest: 0.6809257 (104)\ttotal: 34.6s\tremaining: 4m 54s\n",
      "105:\ttest: 0.6809887\tbest: 0.6809887 (105)\ttotal: 34.9s\tremaining: 4m 54s\n",
      "106:\ttest: 0.6810929\tbest: 0.6810929 (106)\ttotal: 35.2s\tremaining: 4m 54s\n",
      "107:\ttest: 0.6812788\tbest: 0.6812788 (107)\ttotal: 35.7s\tremaining: 4m 54s\n",
      "108:\ttest: 0.6812996\tbest: 0.6812996 (108)\ttotal: 36s\tremaining: 4m 54s\n",
      "109:\ttest: 0.6811205\tbest: 0.6812996 (108)\ttotal: 36.4s\tremaining: 4m 54s\n",
      "110:\ttest: 0.6815422\tbest: 0.6815422 (110)\ttotal: 36.7s\tremaining: 4m 53s\n",
      "111:\ttest: 0.6815633\tbest: 0.6815633 (111)\ttotal: 37s\tremaining: 4m 53s\n",
      "112:\ttest: 0.6815555\tbest: 0.6815633 (111)\ttotal: 37.3s\tremaining: 4m 53s\n",
      "113:\ttest: 0.6816391\tbest: 0.6816391 (113)\ttotal: 37.6s\tremaining: 4m 52s\n",
      "114:\ttest: 0.6818279\tbest: 0.6818279 (114)\ttotal: 38s\tremaining: 4m 52s\n",
      "115:\ttest: 0.6819083\tbest: 0.6819083 (115)\ttotal: 38.3s\tremaining: 4m 51s\n",
      "116:\ttest: 0.6821468\tbest: 0.6821468 (116)\ttotal: 38.6s\tremaining: 4m 51s\n",
      "117:\ttest: 0.6820404\tbest: 0.6821468 (116)\ttotal: 38.9s\tremaining: 4m 50s\n",
      "118:\ttest: 0.6821026\tbest: 0.6821468 (116)\ttotal: 39.2s\tremaining: 4m 50s\n",
      "119:\ttest: 0.6821645\tbest: 0.6821645 (119)\ttotal: 39.5s\tremaining: 4m 49s\n",
      "120:\ttest: 0.6821160\tbest: 0.6821645 (119)\ttotal: 39.9s\tremaining: 4m 49s\n",
      "121:\ttest: 0.6821259\tbest: 0.6821645 (119)\ttotal: 40.2s\tremaining: 4m 48s\n",
      "122:\ttest: 0.6824456\tbest: 0.6824456 (122)\ttotal: 40.5s\tremaining: 4m 48s\n",
      "123:\ttest: 0.6825583\tbest: 0.6825583 (123)\ttotal: 40.8s\tremaining: 4m 48s\n",
      "124:\ttest: 0.6826809\tbest: 0.6826809 (124)\ttotal: 41.1s\tremaining: 4m 47s\n",
      "125:\ttest: 0.6827262\tbest: 0.6827262 (125)\ttotal: 41.4s\tremaining: 4m 47s\n",
      "126:\ttest: 0.6829940\tbest: 0.6829940 (126)\ttotal: 41.8s\tremaining: 4m 47s\n",
      "127:\ttest: 0.6830497\tbest: 0.6830497 (127)\ttotal: 42.1s\tremaining: 4m 46s\n",
      "128:\ttest: 0.6830507\tbest: 0.6830507 (128)\ttotal: 42.4s\tremaining: 4m 46s\n",
      "129:\ttest: 0.6830820\tbest: 0.6830820 (129)\ttotal: 42.7s\tremaining: 4m 45s\n",
      "130:\ttest: 0.6830462\tbest: 0.6830820 (129)\ttotal: 43s\tremaining: 4m 45s\n",
      "131:\ttest: 0.6831355\tbest: 0.6831355 (131)\ttotal: 43.3s\tremaining: 4m 45s\n",
      "132:\ttest: 0.6830969\tbest: 0.6831355 (131)\ttotal: 43.7s\tremaining: 4m 44s\n",
      "133:\ttest: 0.6830692\tbest: 0.6831355 (131)\ttotal: 44s\tremaining: 4m 44s\n",
      "134:\ttest: 0.6829859\tbest: 0.6831355 (131)\ttotal: 44.3s\tremaining: 4m 43s\n",
      "135:\ttest: 0.6828659\tbest: 0.6831355 (131)\ttotal: 44.6s\tremaining: 4m 43s\n",
      "136:\ttest: 0.6829149\tbest: 0.6831355 (131)\ttotal: 44.9s\tremaining: 4m 42s\n",
      "137:\ttest: 0.6828677\tbest: 0.6831355 (131)\ttotal: 45.2s\tremaining: 4m 42s\n",
      "138:\ttest: 0.6830148\tbest: 0.6831355 (131)\ttotal: 45.5s\tremaining: 4m 41s\n",
      "139:\ttest: 0.6829901\tbest: 0.6831355 (131)\ttotal: 45.8s\tremaining: 4m 41s\n",
      "140:\ttest: 0.6831566\tbest: 0.6831566 (140)\ttotal: 46.1s\tremaining: 4m 41s\n",
      "141:\ttest: 0.6831158\tbest: 0.6831566 (140)\ttotal: 46.5s\tremaining: 4m 40s\n",
      "142:\ttest: 0.6832538\tbest: 0.6832538 (142)\ttotal: 46.8s\tremaining: 4m 40s\n",
      "143:\ttest: 0.6834469\tbest: 0.6834469 (143)\ttotal: 47.1s\tremaining: 4m 40s\n",
      "144:\ttest: 0.6835830\tbest: 0.6835830 (144)\ttotal: 47.4s\tremaining: 4m 39s\n",
      "145:\ttest: 0.6835355\tbest: 0.6835830 (144)\ttotal: 47.8s\tremaining: 4m 39s\n",
      "146:\ttest: 0.6834798\tbest: 0.6835830 (144)\ttotal: 48.1s\tremaining: 4m 38s\n",
      "147:\ttest: 0.6834514\tbest: 0.6835830 (144)\ttotal: 48.4s\tremaining: 4m 38s\n",
      "148:\ttest: 0.6833775\tbest: 0.6835830 (144)\ttotal: 48.7s\tremaining: 4m 38s\n",
      "149:\ttest: 0.6833542\tbest: 0.6835830 (144)\ttotal: 49s\tremaining: 4m 37s\n",
      "150:\ttest: 0.6832836\tbest: 0.6835830 (144)\ttotal: 49.3s\tremaining: 4m 37s\n",
      "151:\ttest: 0.6831923\tbest: 0.6835830 (144)\ttotal: 49.7s\tremaining: 4m 37s\n",
      "152:\ttest: 0.6830519\tbest: 0.6835830 (144)\ttotal: 50s\tremaining: 4m 36s\n",
      "153:\ttest: 0.6829910\tbest: 0.6835830 (144)\ttotal: 50.3s\tremaining: 4m 36s\n",
      "154:\ttest: 0.6829336\tbest: 0.6835830 (144)\ttotal: 50.6s\tremaining: 4m 36s\n",
      "155:\ttest: 0.6830942\tbest: 0.6835830 (144)\ttotal: 51s\tremaining: 4m 35s\n",
      "156:\ttest: 0.6830428\tbest: 0.6835830 (144)\ttotal: 51.3s\tremaining: 4m 35s\n",
      "157:\ttest: 0.6830298\tbest: 0.6835830 (144)\ttotal: 51.6s\tremaining: 4m 35s\n",
      "158:\ttest: 0.6832529\tbest: 0.6835830 (144)\ttotal: 52s\tremaining: 4m 34s\n",
      "159:\ttest: 0.6832083\tbest: 0.6835830 (144)\ttotal: 52.2s\tremaining: 4m 34s\n",
      "160:\ttest: 0.6831313\tbest: 0.6835830 (144)\ttotal: 52.6s\tremaining: 4m 33s\n",
      "161:\ttest: 0.6830984\tbest: 0.6835830 (144)\ttotal: 52.8s\tremaining: 4m 33s\n",
      "162:\ttest: 0.6830355\tbest: 0.6835830 (144)\ttotal: 53.1s\tremaining: 4m 32s\n",
      "163:\ttest: 0.6829855\tbest: 0.6835830 (144)\ttotal: 53.5s\tremaining: 4m 32s\n",
      "164:\ttest: 0.6832157\tbest: 0.6835830 (144)\ttotal: 53.8s\tremaining: 4m 32s\n",
      "165:\ttest: 0.6831715\tbest: 0.6835830 (144)\ttotal: 54.1s\tremaining: 4m 32s\n",
      "166:\ttest: 0.6832542\tbest: 0.6835830 (144)\ttotal: 54.5s\tremaining: 4m 31s\n",
      "167:\ttest: 0.6831604\tbest: 0.6835830 (144)\ttotal: 54.8s\tremaining: 4m 31s\n",
      "168:\ttest: 0.6831400\tbest: 0.6835830 (144)\ttotal: 55.1s\tremaining: 4m 31s\n",
      "169:\ttest: 0.6831429\tbest: 0.6835830 (144)\ttotal: 55.4s\tremaining: 4m 30s\n",
      "170:\ttest: 0.6833634\tbest: 0.6835830 (144)\ttotal: 55.8s\tremaining: 4m 30s\n",
      "171:\ttest: 0.6832949\tbest: 0.6835830 (144)\ttotal: 56.1s\tremaining: 4m 30s\n",
      "172:\ttest: 0.6832476\tbest: 0.6835830 (144)\ttotal: 56.5s\tremaining: 4m 29s\n",
      "173:\ttest: 0.6832075\tbest: 0.6835830 (144)\ttotal: 56.8s\tremaining: 4m 29s\n",
      "174:\ttest: 0.6831833\tbest: 0.6835830 (144)\ttotal: 57.1s\tremaining: 4m 29s\n",
      "175:\ttest: 0.6831683\tbest: 0.6835830 (144)\ttotal: 57.4s\tremaining: 4m 28s\n",
      "176:\ttest: 0.6830597\tbest: 0.6835830 (144)\ttotal: 57.8s\tremaining: 4m 28s\n",
      "177:\ttest: 0.6829824\tbest: 0.6835830 (144)\ttotal: 58.1s\tremaining: 4m 28s\n",
      "178:\ttest: 0.6829151\tbest: 0.6835830 (144)\ttotal: 58.4s\tremaining: 4m 27s\n",
      "179:\ttest: 0.6830996\tbest: 0.6835830 (144)\ttotal: 58.7s\tremaining: 4m 27s\n",
      "180:\ttest: 0.6830710\tbest: 0.6835830 (144)\ttotal: 59s\tremaining: 4m 26s\n",
      "181:\ttest: 0.6830335\tbest: 0.6835830 (144)\ttotal: 59.3s\tremaining: 4m 26s\n",
      "182:\ttest: 0.6829878\tbest: 0.6835830 (144)\ttotal: 59.7s\tremaining: 4m 26s\n",
      "183:\ttest: 0.6829710\tbest: 0.6835830 (144)\ttotal: 60s\tremaining: 4m 25s\n",
      "184:\ttest: 0.6831947\tbest: 0.6835830 (144)\ttotal: 1m\tremaining: 4m 25s\n",
      "185:\ttest: 0.6833785\tbest: 0.6835830 (144)\ttotal: 1m\tremaining: 4m 25s\n",
      "186:\ttest: 0.6835551\tbest: 0.6835830 (144)\ttotal: 1m\tremaining: 4m 24s\n",
      "187:\ttest: 0.6835302\tbest: 0.6835830 (144)\ttotal: 1m 1s\tremaining: 4m 24s\n",
      "188:\ttest: 0.6835026\tbest: 0.6835830 (144)\ttotal: 1m 1s\tremaining: 4m 24s\n",
      "189:\ttest: 0.6834778\tbest: 0.6835830 (144)\ttotal: 1m 1s\tremaining: 4m 23s\n",
      "190:\ttest: 0.6836508\tbest: 0.6836508 (190)\ttotal: 1m 2s\tremaining: 4m 23s\n",
      "191:\ttest: 0.6838080\tbest: 0.6838080 (191)\ttotal: 1m 2s\tremaining: 4m 23s\n",
      "192:\ttest: 0.6837640\tbest: 0.6838080 (191)\ttotal: 1m 2s\tremaining: 4m 22s\n",
      "193:\ttest: 0.6837592\tbest: 0.6838080 (191)\ttotal: 1m 3s\tremaining: 4m 22s\n",
      "194:\ttest: 0.6838987\tbest: 0.6838987 (194)\ttotal: 1m 3s\tremaining: 4m 21s\n",
      "195:\ttest: 0.6838561\tbest: 0.6838987 (194)\ttotal: 1m 3s\tremaining: 4m 21s\n",
      "196:\ttest: 0.6838045\tbest: 0.6838987 (194)\ttotal: 1m 4s\tremaining: 4m 21s\n",
      "197:\ttest: 0.6839160\tbest: 0.6839160 (197)\ttotal: 1m 4s\tremaining: 4m 20s\n",
      "198:\ttest: 0.6840784\tbest: 0.6840784 (198)\ttotal: 1m 4s\tremaining: 4m 20s\n",
      "199:\ttest: 0.6840150\tbest: 0.6840784 (198)\ttotal: 1m 5s\tremaining: 4m 20s\n",
      "200:\ttest: 0.6842264\tbest: 0.6842264 (200)\ttotal: 1m 5s\tremaining: 4m 19s\n",
      "201:\ttest: 0.6843083\tbest: 0.6843083 (201)\ttotal: 1m 5s\tremaining: 4m 19s\n",
      "202:\ttest: 0.6842991\tbest: 0.6843083 (201)\ttotal: 1m 5s\tremaining: 4m 19s\n",
      "203:\ttest: 0.6842877\tbest: 0.6843083 (201)\ttotal: 1m 6s\tremaining: 4m 18s\n",
      "204:\ttest: 0.6844547\tbest: 0.6844547 (204)\ttotal: 1m 6s\tremaining: 4m 18s\n",
      "205:\ttest: 0.6844814\tbest: 0.6844814 (205)\ttotal: 1m 6s\tremaining: 4m 17s\n",
      "206:\ttest: 0.6844463\tbest: 0.6844814 (205)\ttotal: 1m 7s\tremaining: 4m 17s\n",
      "207:\ttest: 0.6843948\tbest: 0.6844814 (205)\ttotal: 1m 7s\tremaining: 4m 17s\n",
      "208:\ttest: 0.6844371\tbest: 0.6844814 (205)\ttotal: 1m 7s\tremaining: 4m 16s\n",
      "209:\ttest: 0.6843917\tbest: 0.6844814 (205)\ttotal: 1m 8s\tremaining: 4m 16s\n",
      "210:\ttest: 0.6843806\tbest: 0.6844814 (205)\ttotal: 1m 8s\tremaining: 4m 16s\n",
      "211:\ttest: 0.6843850\tbest: 0.6844814 (205)\ttotal: 1m 8s\tremaining: 4m 15s\n",
      "212:\ttest: 0.6843553\tbest: 0.6844814 (205)\ttotal: 1m 9s\tremaining: 4m 15s\n",
      "213:\ttest: 0.6845140\tbest: 0.6845140 (213)\ttotal: 1m 9s\tremaining: 4m 15s\n",
      "214:\ttest: 0.6847103\tbest: 0.6847103 (214)\ttotal: 1m 9s\tremaining: 4m 14s\n",
      "215:\ttest: 0.6846551\tbest: 0.6847103 (214)\ttotal: 1m 10s\tremaining: 4m 14s\n",
      "216:\ttest: 0.6846403\tbest: 0.6847103 (214)\ttotal: 1m 10s\tremaining: 4m 14s\n",
      "217:\ttest: 0.6845983\tbest: 0.6847103 (214)\ttotal: 1m 10s\tremaining: 4m 14s\n",
      "218:\ttest: 0.6845793\tbest: 0.6847103 (214)\ttotal: 1m 11s\tremaining: 4m 14s\n",
      "219:\ttest: 0.6845314\tbest: 0.6847103 (214)\ttotal: 1m 11s\tremaining: 4m 14s\n",
      "220:\ttest: 0.6846799\tbest: 0.6847103 (214)\ttotal: 1m 12s\tremaining: 4m 13s\n",
      "221:\ttest: 0.6846773\tbest: 0.6847103 (214)\ttotal: 1m 12s\tremaining: 4m 13s\n",
      "222:\ttest: 0.6848074\tbest: 0.6848074 (222)\ttotal: 1m 12s\tremaining: 4m 13s\n",
      "223:\ttest: 0.6848253\tbest: 0.6848253 (223)\ttotal: 1m 13s\tremaining: 4m 13s\n",
      "224:\ttest: 0.6849461\tbest: 0.6849461 (224)\ttotal: 1m 13s\tremaining: 4m 12s\n",
      "225:\ttest: 0.6849180\tbest: 0.6849461 (224)\ttotal: 1m 13s\tremaining: 4m 12s\n",
      "226:\ttest: 0.6848985\tbest: 0.6849461 (224)\ttotal: 1m 14s\tremaining: 4m 12s\n",
      "227:\ttest: 0.6849592\tbest: 0.6849592 (227)\ttotal: 1m 14s\tremaining: 4m 12s\n",
      "228:\ttest: 0.6849092\tbest: 0.6849592 (227)\ttotal: 1m 14s\tremaining: 4m 11s\n",
      "229:\ttest: 0.6848798\tbest: 0.6849592 (227)\ttotal: 1m 15s\tremaining: 4m 11s\n",
      "230:\ttest: 0.6849547\tbest: 0.6849592 (227)\ttotal: 1m 15s\tremaining: 4m 11s\n",
      "231:\ttest: 0.6849403\tbest: 0.6849592 (227)\ttotal: 1m 15s\tremaining: 4m 11s\n",
      "232:\ttest: 0.6849335\tbest: 0.6849592 (227)\ttotal: 1m 16s\tremaining: 4m 10s\n",
      "233:\ttest: 0.6849212\tbest: 0.6849592 (227)\ttotal: 1m 16s\tremaining: 4m 10s\n",
      "234:\ttest: 0.6850067\tbest: 0.6850067 (234)\ttotal: 1m 16s\tremaining: 4m 10s\n",
      "235:\ttest: 0.6849701\tbest: 0.6850067 (234)\ttotal: 1m 17s\tremaining: 4m 9s\n",
      "236:\ttest: 0.6849444\tbest: 0.6850067 (234)\ttotal: 1m 17s\tremaining: 4m 9s\n",
      "237:\ttest: 0.6849608\tbest: 0.6850067 (234)\ttotal: 1m 17s\tremaining: 4m 9s\n",
      "238:\ttest: 0.6849402\tbest: 0.6850067 (234)\ttotal: 1m 18s\tremaining: 4m 8s\n",
      "239:\ttest: 0.6849274\tbest: 0.6850067 (234)\ttotal: 1m 18s\tremaining: 4m 8s\n",
      "240:\ttest: 0.6850597\tbest: 0.6850597 (240)\ttotal: 1m 18s\tremaining: 4m 8s\n",
      "241:\ttest: 0.6851167\tbest: 0.6851167 (241)\ttotal: 1m 19s\tremaining: 4m 7s\n",
      "242:\ttest: 0.6852682\tbest: 0.6852682 (242)\ttotal: 1m 19s\tremaining: 4m 7s\n",
      "243:\ttest: 0.6852662\tbest: 0.6852682 (242)\ttotal: 1m 19s\tremaining: 4m 7s\n",
      "244:\ttest: 0.6852844\tbest: 0.6852844 (244)\ttotal: 1m 20s\tremaining: 4m 7s\n",
      "245:\ttest: 0.6852732\tbest: 0.6852844 (244)\ttotal: 1m 20s\tremaining: 4m 6s\n",
      "246:\ttest: 0.6853842\tbest: 0.6853842 (246)\ttotal: 1m 20s\tremaining: 4m 6s\n",
      "247:\ttest: 0.6853695\tbest: 0.6853842 (246)\ttotal: 1m 21s\tremaining: 4m 6s\n",
      "248:\ttest: 0.6855753\tbest: 0.6855753 (248)\ttotal: 1m 21s\tremaining: 4m 6s\n",
      "249:\ttest: 0.6855555\tbest: 0.6855753 (248)\ttotal: 1m 21s\tremaining: 4m 5s\n",
      "250:\ttest: 0.6856917\tbest: 0.6856917 (250)\ttotal: 1m 22s\tremaining: 4m 5s\n",
      "251:\ttest: 0.6856608\tbest: 0.6856917 (250)\ttotal: 1m 22s\tremaining: 4m 5s\n",
      "252:\ttest: 0.6856408\tbest: 0.6856917 (250)\ttotal: 1m 22s\tremaining: 4m 4s\n",
      "253:\ttest: 0.6856169\tbest: 0.6856917 (250)\ttotal: 1m 23s\tremaining: 4m 4s\n",
      "254:\ttest: 0.6855928\tbest: 0.6856917 (250)\ttotal: 1m 23s\tremaining: 4m 4s\n",
      "255:\ttest: 0.6856744\tbest: 0.6856917 (250)\ttotal: 1m 24s\tremaining: 4m 4s\n",
      "256:\ttest: 0.6857418\tbest: 0.6857418 (256)\ttotal: 1m 24s\tremaining: 4m 3s\n",
      "257:\ttest: 0.6858574\tbest: 0.6858574 (257)\ttotal: 1m 24s\tremaining: 4m 3s\n",
      "258:\ttest: 0.6858595\tbest: 0.6858595 (258)\ttotal: 1m 25s\tremaining: 4m 3s\n",
      "259:\ttest: 0.6859291\tbest: 0.6859291 (259)\ttotal: 1m 25s\tremaining: 4m 3s\n",
      "260:\ttest: 0.6859698\tbest: 0.6859698 (260)\ttotal: 1m 25s\tremaining: 4m 2s\n",
      "261:\ttest: 0.6859264\tbest: 0.6859698 (260)\ttotal: 1m 26s\tremaining: 4m 2s\n",
      "262:\ttest: 0.6860635\tbest: 0.6860635 (262)\ttotal: 1m 26s\tremaining: 4m 2s\n",
      "263:\ttest: 0.6861473\tbest: 0.6861473 (263)\ttotal: 1m 26s\tremaining: 4m 1s\n",
      "264:\ttest: 0.6861199\tbest: 0.6861473 (263)\ttotal: 1m 27s\tremaining: 4m 1s\n",
      "265:\ttest: 0.6861195\tbest: 0.6861473 (263)\ttotal: 1m 27s\tremaining: 4m 1s\n",
      "266:\ttest: 0.6860928\tbest: 0.6861473 (263)\ttotal: 1m 27s\tremaining: 4m\n",
      "267:\ttest: 0.6861666\tbest: 0.6861666 (267)\ttotal: 1m 28s\tremaining: 4m\n",
      "268:\ttest: 0.6862858\tbest: 0.6862858 (268)\ttotal: 1m 28s\tremaining: 4m\n",
      "269:\ttest: 0.6863078\tbest: 0.6863078 (269)\ttotal: 1m 28s\tremaining: 3m 59s\n",
      "270:\ttest: 0.6863968\tbest: 0.6863968 (270)\ttotal: 1m 29s\tremaining: 3m 59s\n",
      "271:\ttest: 0.6863877\tbest: 0.6863968 (270)\ttotal: 1m 29s\tremaining: 3m 59s\n",
      "272:\ttest: 0.6864318\tbest: 0.6864318 (272)\ttotal: 1m 29s\tremaining: 3m 58s\n",
      "273:\ttest: 0.6863947\tbest: 0.6864318 (272)\ttotal: 1m 29s\tremaining: 3m 58s\n",
      "274:\ttest: 0.6863760\tbest: 0.6864318 (272)\ttotal: 1m 30s\tremaining: 3m 58s\n",
      "275:\ttest: 0.6864724\tbest: 0.6864724 (275)\ttotal: 1m 30s\tremaining: 3m 57s\n",
      "276:\ttest: 0.6865554\tbest: 0.6865554 (276)\ttotal: 1m 30s\tremaining: 3m 57s\n",
      "277:\ttest: 0.6866090\tbest: 0.6866090 (277)\ttotal: 1m 31s\tremaining: 3m 57s\n",
      "278:\ttest: 0.6866144\tbest: 0.6866144 (278)\ttotal: 1m 31s\tremaining: 3m 56s\n",
      "279:\ttest: 0.6866583\tbest: 0.6866583 (279)\ttotal: 1m 31s\tremaining: 3m 56s\n",
      "280:\ttest: 0.6867279\tbest: 0.6867279 (280)\ttotal: 1m 32s\tremaining: 3m 56s\n",
      "281:\ttest: 0.6867467\tbest: 0.6867467 (281)\ttotal: 1m 32s\tremaining: 3m 55s\n",
      "282:\ttest: 0.6867225\tbest: 0.6867467 (281)\ttotal: 1m 33s\tremaining: 3m 55s\n",
      "283:\ttest: 0.6867636\tbest: 0.6867636 (283)\ttotal: 1m 33s\tremaining: 3m 55s\n",
      "284:\ttest: 0.6868348\tbest: 0.6868348 (284)\ttotal: 1m 33s\tremaining: 3m 55s\n",
      "285:\ttest: 0.6869247\tbest: 0.6869247 (285)\ttotal: 1m 34s\tremaining: 3m 55s\n",
      "286:\ttest: 0.6868983\tbest: 0.6869247 (285)\ttotal: 1m 34s\tremaining: 3m 54s\n",
      "287:\ttest: 0.6870148\tbest: 0.6870148 (287)\ttotal: 1m 34s\tremaining: 3m 54s\n",
      "288:\ttest: 0.6870896\tbest: 0.6870896 (288)\ttotal: 1m 35s\tremaining: 3m 54s\n",
      "289:\ttest: 0.6871699\tbest: 0.6871699 (289)\ttotal: 1m 35s\tremaining: 3m 54s\n",
      "290:\ttest: 0.6871495\tbest: 0.6871699 (289)\ttotal: 1m 36s\tremaining: 3m 54s\n",
      "291:\ttest: 0.6871106\tbest: 0.6871699 (289)\ttotal: 1m 36s\tremaining: 3m 53s\n",
      "292:\ttest: 0.6871630\tbest: 0.6871699 (289)\ttotal: 1m 36s\tremaining: 3m 53s\n",
      "293:\ttest: 0.6871971\tbest: 0.6871971 (293)\ttotal: 1m 37s\tremaining: 3m 53s\n",
      "294:\ttest: 0.6872366\tbest: 0.6872366 (294)\ttotal: 1m 37s\tremaining: 3m 53s\n",
      "295:\ttest: 0.6872162\tbest: 0.6872366 (294)\ttotal: 1m 37s\tremaining: 3m 52s\n",
      "296:\ttest: 0.6872348\tbest: 0.6872366 (294)\ttotal: 1m 38s\tremaining: 3m 52s\n",
      "297:\ttest: 0.6872536\tbest: 0.6872536 (297)\ttotal: 1m 38s\tremaining: 3m 52s\n",
      "298:\ttest: 0.6873091\tbest: 0.6873091 (298)\ttotal: 1m 39s\tremaining: 3m 52s\n",
      "299:\ttest: 0.6873240\tbest: 0.6873240 (299)\ttotal: 1m 39s\tremaining: 3m 52s\n",
      "300:\ttest: 0.6873054\tbest: 0.6873240 (299)\ttotal: 1m 39s\tremaining: 3m 51s\n",
      "301:\ttest: 0.6873881\tbest: 0.6873881 (301)\ttotal: 1m 40s\tremaining: 3m 51s\n",
      "302:\ttest: 0.6874584\tbest: 0.6874584 (302)\ttotal: 1m 40s\tremaining: 3m 50s\n",
      "303:\ttest: 0.6875232\tbest: 0.6875232 (303)\ttotal: 1m 40s\tremaining: 3m 50s\n",
      "304:\ttest: 0.6875829\tbest: 0.6875829 (304)\ttotal: 1m 41s\tremaining: 3m 50s\n",
      "305:\ttest: 0.6876231\tbest: 0.6876231 (305)\ttotal: 1m 41s\tremaining: 3m 49s\n",
      "306:\ttest: 0.6876334\tbest: 0.6876334 (306)\ttotal: 1m 41s\tremaining: 3m 49s\n",
      "307:\ttest: 0.6876298\tbest: 0.6876334 (306)\ttotal: 1m 42s\tremaining: 3m 49s\n",
      "308:\ttest: 0.6877226\tbest: 0.6877226 (308)\ttotal: 1m 42s\tremaining: 3m 48s\n",
      "309:\ttest: 0.6877560\tbest: 0.6877560 (309)\ttotal: 1m 42s\tremaining: 3m 48s\n",
      "310:\ttest: 0.6877338\tbest: 0.6877560 (309)\ttotal: 1m 43s\tremaining: 3m 48s\n",
      "311:\ttest: 0.6877211\tbest: 0.6877560 (309)\ttotal: 1m 43s\tremaining: 3m 47s\n",
      "312:\ttest: 0.6877939\tbest: 0.6877939 (312)\ttotal: 1m 43s\tremaining: 3m 47s\n",
      "313:\ttest: 0.6877725\tbest: 0.6877939 (312)\ttotal: 1m 44s\tremaining: 3m 47s\n",
      "314:\ttest: 0.6877917\tbest: 0.6877939 (312)\ttotal: 1m 44s\tremaining: 3m 47s\n",
      "315:\ttest: 0.6878299\tbest: 0.6878299 (315)\ttotal: 1m 44s\tremaining: 3m 46s\n",
      "316:\ttest: 0.6878581\tbest: 0.6878581 (316)\ttotal: 1m 45s\tremaining: 3m 46s\n",
      "317:\ttest: 0.6878360\tbest: 0.6878581 (316)\ttotal: 1m 45s\tremaining: 3m 46s\n",
      "318:\ttest: 0.6878970\tbest: 0.6878970 (318)\ttotal: 1m 45s\tremaining: 3m 45s\n",
      "319:\ttest: 0.6878656\tbest: 0.6878970 (318)\ttotal: 1m 46s\tremaining: 3m 45s\n",
      "320:\ttest: 0.6878710\tbest: 0.6878970 (318)\ttotal: 1m 46s\tremaining: 3m 45s\n",
      "321:\ttest: 0.6878803\tbest: 0.6878970 (318)\ttotal: 1m 46s\tremaining: 3m 45s\n",
      "322:\ttest: 0.6879498\tbest: 0.6879498 (322)\ttotal: 1m 47s\tremaining: 3m 44s\n",
      "323:\ttest: 0.6879996\tbest: 0.6879996 (323)\ttotal: 1m 47s\tremaining: 3m 44s\n",
      "324:\ttest: 0.6880077\tbest: 0.6880077 (324)\ttotal: 1m 48s\tremaining: 3m 44s\n",
      "325:\ttest: 0.6880081\tbest: 0.6880081 (325)\ttotal: 1m 48s\tremaining: 3m 44s\n",
      "326:\ttest: 0.6880557\tbest: 0.6880557 (326)\ttotal: 1m 48s\tremaining: 3m 43s\n",
      "327:\ttest: 0.6881085\tbest: 0.6881085 (327)\ttotal: 1m 49s\tremaining: 3m 43s\n",
      "328:\ttest: 0.6880675\tbest: 0.6881085 (327)\ttotal: 1m 49s\tremaining: 3m 43s\n",
      "329:\ttest: 0.6880873\tbest: 0.6881085 (327)\ttotal: 1m 49s\tremaining: 3m 42s\n",
      "330:\ttest: 0.6880757\tbest: 0.6881085 (327)\ttotal: 1m 50s\tremaining: 3m 42s\n",
      "331:\ttest: 0.6881541\tbest: 0.6881541 (331)\ttotal: 1m 50s\tremaining: 3m 42s\n",
      "332:\ttest: 0.6881390\tbest: 0.6881541 (331)\ttotal: 1m 50s\tremaining: 3m 41s\n",
      "333:\ttest: 0.6882000\tbest: 0.6882000 (333)\ttotal: 1m 51s\tremaining: 3m 41s\n",
      "334:\ttest: 0.6882749\tbest: 0.6882749 (334)\ttotal: 1m 51s\tremaining: 3m 41s\n",
      "335:\ttest: 0.6883653\tbest: 0.6883653 (335)\ttotal: 1m 51s\tremaining: 3m 40s\n",
      "336:\ttest: 0.6883542\tbest: 0.6883653 (335)\ttotal: 1m 52s\tremaining: 3m 40s\n",
      "337:\ttest: 0.6883867\tbest: 0.6883867 (337)\ttotal: 1m 52s\tremaining: 3m 40s\n",
      "338:\ttest: 0.6884394\tbest: 0.6884394 (338)\ttotal: 1m 52s\tremaining: 3m 39s\n",
      "339:\ttest: 0.6884702\tbest: 0.6884702 (339)\ttotal: 1m 53s\tremaining: 3m 39s\n",
      "340:\ttest: 0.6885229\tbest: 0.6885229 (340)\ttotal: 1m 53s\tremaining: 3m 39s\n",
      "341:\ttest: 0.6885239\tbest: 0.6885239 (341)\ttotal: 1m 53s\tremaining: 3m 39s\n",
      "342:\ttest: 0.6885604\tbest: 0.6885604 (342)\ttotal: 1m 54s\tremaining: 3m 38s\n",
      "343:\ttest: 0.6885552\tbest: 0.6885604 (342)\ttotal: 1m 54s\tremaining: 3m 38s\n",
      "344:\ttest: 0.6885755\tbest: 0.6885755 (344)\ttotal: 1m 54s\tremaining: 3m 38s\n",
      "345:\ttest: 0.6885607\tbest: 0.6885755 (344)\ttotal: 1m 55s\tremaining: 3m 37s\n",
      "346:\ttest: 0.6885451\tbest: 0.6885755 (344)\ttotal: 1m 55s\tremaining: 3m 37s\n",
      "347:\ttest: 0.6885324\tbest: 0.6885755 (344)\ttotal: 1m 55s\tremaining: 3m 37s\n",
      "348:\ttest: 0.6885338\tbest: 0.6885755 (344)\ttotal: 1m 56s\tremaining: 3m 36s\n",
      "349:\ttest: 0.6885726\tbest: 0.6885755 (344)\ttotal: 1m 56s\tremaining: 3m 36s\n",
      "350:\ttest: 0.6886199\tbest: 0.6886199 (350)\ttotal: 1m 57s\tremaining: 3m 36s\n",
      "351:\ttest: 0.6886233\tbest: 0.6886233 (351)\ttotal: 1m 57s\tremaining: 3m 36s\n",
      "352:\ttest: 0.6886002\tbest: 0.6886233 (351)\ttotal: 1m 57s\tremaining: 3m 35s\n",
      "353:\ttest: 0.6886012\tbest: 0.6886233 (351)\ttotal: 1m 58s\tremaining: 3m 35s\n",
      "354:\ttest: 0.6886289\tbest: 0.6886289 (354)\ttotal: 1m 58s\tremaining: 3m 35s\n",
      "355:\ttest: 0.6886155\tbest: 0.6886289 (354)\ttotal: 1m 58s\tremaining: 3m 34s\n",
      "356:\ttest: 0.6886741\tbest: 0.6886741 (356)\ttotal: 1m 59s\tremaining: 3m 34s\n",
      "357:\ttest: 0.6887236\tbest: 0.6887236 (357)\ttotal: 1m 59s\tremaining: 3m 34s\n",
      "358:\ttest: 0.6887233\tbest: 0.6887236 (357)\ttotal: 2m\tremaining: 3m 34s\n",
      "359:\ttest: 0.6887996\tbest: 0.6887996 (359)\ttotal: 2m\tremaining: 3m 34s\n",
      "360:\ttest: 0.6888695\tbest: 0.6888695 (360)\ttotal: 2m\tremaining: 3m 33s\n",
      "361:\ttest: 0.6889140\tbest: 0.6889140 (361)\ttotal: 2m 1s\tremaining: 3m 33s\n",
      "362:\ttest: 0.6889613\tbest: 0.6889613 (362)\ttotal: 2m 1s\tremaining: 3m 33s\n",
      "363:\ttest: 0.6889893\tbest: 0.6889893 (363)\ttotal: 2m 1s\tremaining: 3m 32s\n",
      "364:\ttest: 0.6890079\tbest: 0.6890079 (364)\ttotal: 2m 2s\tremaining: 3m 32s\n",
      "365:\ttest: 0.6889962\tbest: 0.6890079 (364)\ttotal: 2m 2s\tremaining: 3m 32s\n",
      "366:\ttest: 0.6890084\tbest: 0.6890084 (366)\ttotal: 2m 2s\tremaining: 3m 31s\n",
      "367:\ttest: 0.6889934\tbest: 0.6890084 (366)\ttotal: 2m 3s\tremaining: 3m 31s\n",
      "368:\ttest: 0.6890394\tbest: 0.6890394 (368)\ttotal: 2m 3s\tremaining: 3m 31s\n",
      "369:\ttest: 0.6890219\tbest: 0.6890394 (368)\ttotal: 2m 3s\tremaining: 3m 30s\n",
      "370:\ttest: 0.6890701\tbest: 0.6890701 (370)\ttotal: 2m 4s\tremaining: 3m 30s\n",
      "371:\ttest: 0.6891183\tbest: 0.6891183 (371)\ttotal: 2m 4s\tremaining: 3m 30s\n",
      "372:\ttest: 0.6890966\tbest: 0.6891183 (371)\ttotal: 2m 4s\tremaining: 3m 30s\n",
      "373:\ttest: 0.6890794\tbest: 0.6891183 (371)\ttotal: 2m 5s\tremaining: 3m 29s\n",
      "374:\ttest: 0.6891186\tbest: 0.6891186 (374)\ttotal: 2m 5s\tremaining: 3m 29s\n",
      "375:\ttest: 0.6891918\tbest: 0.6891918 (375)\ttotal: 2m 6s\tremaining: 3m 29s\n",
      "376:\ttest: 0.6892577\tbest: 0.6892577 (376)\ttotal: 2m 6s\tremaining: 3m 28s\n",
      "377:\ttest: 0.6892803\tbest: 0.6892803 (377)\ttotal: 2m 6s\tremaining: 3m 28s\n",
      "378:\ttest: 0.6893197\tbest: 0.6893197 (378)\ttotal: 2m 7s\tremaining: 3m 28s\n",
      "379:\ttest: 0.6894023\tbest: 0.6894023 (379)\ttotal: 2m 7s\tremaining: 3m 27s\n",
      "380:\ttest: 0.6894592\tbest: 0.6894592 (380)\ttotal: 2m 7s\tremaining: 3m 27s\n",
      "381:\ttest: 0.6894716\tbest: 0.6894716 (381)\ttotal: 2m 8s\tremaining: 3m 27s\n",
      "382:\ttest: 0.6894707\tbest: 0.6894716 (381)\ttotal: 2m 8s\tremaining: 3m 27s\n",
      "383:\ttest: 0.6894910\tbest: 0.6894910 (383)\ttotal: 2m 8s\tremaining: 3m 26s\n",
      "384:\ttest: 0.6894939\tbest: 0.6894939 (384)\ttotal: 2m 9s\tremaining: 3m 26s\n",
      "385:\ttest: 0.6894597\tbest: 0.6894939 (384)\ttotal: 2m 9s\tremaining: 3m 25s\n",
      "386:\ttest: 0.6894757\tbest: 0.6894939 (384)\ttotal: 2m 9s\tremaining: 3m 25s\n",
      "387:\ttest: 0.6894916\tbest: 0.6894939 (384)\ttotal: 2m 10s\tremaining: 3m 25s\n",
      "388:\ttest: 0.6894733\tbest: 0.6894939 (384)\ttotal: 2m 10s\tremaining: 3m 25s\n",
      "389:\ttest: 0.6895155\tbest: 0.6895155 (389)\ttotal: 2m 10s\tremaining: 3m 24s\n",
      "390:\ttest: 0.6895389\tbest: 0.6895389 (390)\ttotal: 2m 11s\tremaining: 3m 24s\n",
      "391:\ttest: 0.6895290\tbest: 0.6895389 (390)\ttotal: 2m 11s\tremaining: 3m 24s\n",
      "392:\ttest: 0.6895808\tbest: 0.6895808 (392)\ttotal: 2m 12s\tremaining: 3m 24s\n",
      "393:\ttest: 0.6895912\tbest: 0.6895912 (393)\ttotal: 2m 12s\tremaining: 3m 23s\n",
      "394:\ttest: 0.6895777\tbest: 0.6895912 (393)\ttotal: 2m 12s\tremaining: 3m 23s\n",
      "395:\ttest: 0.6896090\tbest: 0.6896090 (395)\ttotal: 2m 13s\tremaining: 3m 22s\n",
      "396:\ttest: 0.6896085\tbest: 0.6896090 (395)\ttotal: 2m 13s\tremaining: 3m 22s\n",
      "397:\ttest: 0.6896280\tbest: 0.6896280 (397)\ttotal: 2m 13s\tremaining: 3m 22s\n",
      "398:\ttest: 0.6896175\tbest: 0.6896280 (397)\ttotal: 2m 14s\tremaining: 3m 21s\n",
      "399:\ttest: 0.6896271\tbest: 0.6896280 (397)\ttotal: 2m 14s\tremaining: 3m 21s\n",
      "400:\ttest: 0.6896587\tbest: 0.6896587 (400)\ttotal: 2m 14s\tremaining: 3m 21s\n",
      "401:\ttest: 0.6897068\tbest: 0.6897068 (401)\ttotal: 2m 15s\tremaining: 3m 20s\n",
      "402:\ttest: 0.6897609\tbest: 0.6897609 (402)\ttotal: 2m 15s\tremaining: 3m 20s\n",
      "403:\ttest: 0.6898083\tbest: 0.6898083 (403)\ttotal: 2m 15s\tremaining: 3m 20s\n",
      "404:\ttest: 0.6898062\tbest: 0.6898083 (403)\ttotal: 2m 15s\tremaining: 3m 19s\n",
      "405:\ttest: 0.6898596\tbest: 0.6898596 (405)\ttotal: 2m 16s\tremaining: 3m 19s\n",
      "406:\ttest: 0.6898877\tbest: 0.6898877 (406)\ttotal: 2m 16s\tremaining: 3m 19s\n",
      "407:\ttest: 0.6898616\tbest: 0.6898877 (406)\ttotal: 2m 17s\tremaining: 3m 18s\n",
      "408:\ttest: 0.6898595\tbest: 0.6898877 (406)\ttotal: 2m 17s\tremaining: 3m 18s\n",
      "409:\ttest: 0.6898720\tbest: 0.6898877 (406)\ttotal: 2m 17s\tremaining: 3m 18s\n",
      "410:\ttest: 0.6898858\tbest: 0.6898877 (406)\ttotal: 2m 18s\tremaining: 3m 18s\n",
      "411:\ttest: 0.6899733\tbest: 0.6899733 (411)\ttotal: 2m 18s\tremaining: 3m 17s\n",
      "412:\ttest: 0.6899992\tbest: 0.6899992 (412)\ttotal: 2m 19s\tremaining: 3m 17s\n",
      "413:\ttest: 0.6899949\tbest: 0.6899992 (412)\ttotal: 2m 19s\tremaining: 3m 17s\n",
      "414:\ttest: 0.6900279\tbest: 0.6900279 (414)\ttotal: 2m 19s\tremaining: 3m 16s\n",
      "415:\ttest: 0.6900629\tbest: 0.6900629 (415)\ttotal: 2m 20s\tremaining: 3m 16s\n",
      "416:\ttest: 0.6900917\tbest: 0.6900917 (416)\ttotal: 2m 20s\tremaining: 3m 16s\n",
      "417:\ttest: 0.6900874\tbest: 0.6900917 (416)\ttotal: 2m 20s\tremaining: 3m 15s\n",
      "418:\ttest: 0.6901058\tbest: 0.6901058 (418)\ttotal: 2m 21s\tremaining: 3m 15s\n",
      "419:\ttest: 0.6901437\tbest: 0.6901437 (419)\ttotal: 2m 21s\tremaining: 3m 15s\n",
      "420:\ttest: 0.6901668\tbest: 0.6901668 (420)\ttotal: 2m 22s\tremaining: 3m 15s\n",
      "421:\ttest: 0.6901571\tbest: 0.6901668 (420)\ttotal: 2m 22s\tremaining: 3m 15s\n",
      "422:\ttest: 0.6902199\tbest: 0.6902199 (422)\ttotal: 2m 22s\tremaining: 3m 14s\n",
      "423:\ttest: 0.6903241\tbest: 0.6903241 (423)\ttotal: 2m 23s\tremaining: 3m 14s\n",
      "424:\ttest: 0.6903399\tbest: 0.6903399 (424)\ttotal: 2m 23s\tremaining: 3m 13s\n",
      "425:\ttest: 0.6903853\tbest: 0.6903853 (425)\ttotal: 2m 23s\tremaining: 3m 13s\n",
      "426:\ttest: 0.6904110\tbest: 0.6904110 (426)\ttotal: 2m 24s\tremaining: 3m 13s\n",
      "427:\ttest: 0.6904242\tbest: 0.6904242 (427)\ttotal: 2m 24s\tremaining: 3m 12s\n",
      "428:\ttest: 0.6904797\tbest: 0.6904797 (428)\ttotal: 2m 24s\tremaining: 3m 12s\n",
      "429:\ttest: 0.6905281\tbest: 0.6905281 (429)\ttotal: 2m 24s\tremaining: 3m 12s\n",
      "430:\ttest: 0.6905554\tbest: 0.6905554 (430)\ttotal: 2m 25s\tremaining: 3m 11s\n",
      "431:\ttest: 0.6905604\tbest: 0.6905604 (431)\ttotal: 2m 25s\tremaining: 3m 11s\n",
      "432:\ttest: 0.6906640\tbest: 0.6906640 (432)\ttotal: 2m 25s\tremaining: 3m 11s\n",
      "433:\ttest: 0.6906716\tbest: 0.6906716 (433)\ttotal: 2m 26s\tremaining: 3m 10s\n",
      "434:\ttest: 0.6906767\tbest: 0.6906767 (434)\ttotal: 2m 26s\tremaining: 3m 10s\n",
      "435:\ttest: 0.6907698\tbest: 0.6907698 (435)\ttotal: 2m 26s\tremaining: 3m 10s\n",
      "436:\ttest: 0.6907775\tbest: 0.6907775 (436)\ttotal: 2m 27s\tremaining: 3m 9s\n",
      "437:\ttest: 0.6908098\tbest: 0.6908098 (437)\ttotal: 2m 27s\tremaining: 3m 9s\n",
      "438:\ttest: 0.6908849\tbest: 0.6908849 (438)\ttotal: 2m 27s\tremaining: 3m 8s\n",
      "439:\ttest: 0.6909071\tbest: 0.6909071 (439)\ttotal: 2m 28s\tremaining: 3m 8s\n",
      "440:\ttest: 0.6908937\tbest: 0.6909071 (439)\ttotal: 2m 28s\tremaining: 3m 8s\n",
      "441:\ttest: 0.6909182\tbest: 0.6909182 (441)\ttotal: 2m 28s\tremaining: 3m 8s\n",
      "442:\ttest: 0.6909462\tbest: 0.6909462 (442)\ttotal: 2m 29s\tremaining: 3m 7s\n",
      "443:\ttest: 0.6909419\tbest: 0.6909462 (442)\ttotal: 2m 29s\tremaining: 3m 7s\n",
      "444:\ttest: 0.6909488\tbest: 0.6909488 (444)\ttotal: 2m 30s\tremaining: 3m 7s\n",
      "445:\ttest: 0.6910113\tbest: 0.6910113 (445)\ttotal: 2m 30s\tremaining: 3m 6s\n",
      "446:\ttest: 0.6909966\tbest: 0.6910113 (445)\ttotal: 2m 30s\tremaining: 3m 6s\n",
      "447:\ttest: 0.6910144\tbest: 0.6910144 (447)\ttotal: 2m 31s\tremaining: 3m 6s\n",
      "448:\ttest: 0.6910176\tbest: 0.6910176 (448)\ttotal: 2m 31s\tremaining: 3m 5s\n",
      "449:\ttest: 0.6910953\tbest: 0.6910953 (449)\ttotal: 2m 31s\tremaining: 3m 5s\n",
      "450:\ttest: 0.6910905\tbest: 0.6910953 (449)\ttotal: 2m 32s\tremaining: 3m 5s\n",
      "451:\ttest: 0.6910901\tbest: 0.6910953 (449)\ttotal: 2m 32s\tremaining: 3m 4s\n",
      "452:\ttest: 0.6910722\tbest: 0.6910953 (449)\ttotal: 2m 32s\tremaining: 3m 4s\n",
      "453:\ttest: 0.6911097\tbest: 0.6911097 (453)\ttotal: 2m 33s\tremaining: 3m 4s\n",
      "454:\ttest: 0.6911704\tbest: 0.6911704 (454)\ttotal: 2m 33s\tremaining: 3m 3s\n",
      "455:\ttest: 0.6911863\tbest: 0.6911863 (455)\ttotal: 2m 33s\tremaining: 3m 3s\n",
      "456:\ttest: 0.6911982\tbest: 0.6911982 (456)\ttotal: 2m 34s\tremaining: 3m 3s\n",
      "457:\ttest: 0.6912386\tbest: 0.6912386 (457)\ttotal: 2m 34s\tremaining: 3m 2s\n",
      "458:\ttest: 0.6912145\tbest: 0.6912386 (457)\ttotal: 2m 34s\tremaining: 3m 2s\n",
      "459:\ttest: 0.6912365\tbest: 0.6912386 (457)\ttotal: 2m 35s\tremaining: 3m 2s\n",
      "460:\ttest: 0.6912532\tbest: 0.6912532 (460)\ttotal: 2m 35s\tremaining: 3m 1s\n",
      "461:\ttest: 0.6912384\tbest: 0.6912532 (460)\ttotal: 2m 35s\tremaining: 3m 1s\n",
      "462:\ttest: 0.6912364\tbest: 0.6912532 (460)\ttotal: 2m 36s\tremaining: 3m 1s\n",
      "463:\ttest: 0.6912539\tbest: 0.6912539 (463)\ttotal: 2m 36s\tremaining: 3m 1s\n",
      "464:\ttest: 0.6912783\tbest: 0.6912783 (464)\ttotal: 2m 37s\tremaining: 3m\n",
      "465:\ttest: 0.6912976\tbest: 0.6912976 (465)\ttotal: 2m 37s\tremaining: 3m\n",
      "466:\ttest: 0.6913147\tbest: 0.6913147 (466)\ttotal: 2m 37s\tremaining: 2m 59s\n",
      "467:\ttest: 0.6913190\tbest: 0.6913190 (467)\ttotal: 2m 37s\tremaining: 2m 59s\n",
      "468:\ttest: 0.6913447\tbest: 0.6913447 (468)\ttotal: 2m 38s\tremaining: 2m 59s\n",
      "469:\ttest: 0.6913955\tbest: 0.6913955 (469)\ttotal: 2m 38s\tremaining: 2m 58s\n",
      "470:\ttest: 0.6914200\tbest: 0.6914200 (470)\ttotal: 2m 39s\tremaining: 2m 58s\n",
      "471:\ttest: 0.6914547\tbest: 0.6914547 (471)\ttotal: 2m 39s\tremaining: 2m 58s\n",
      "472:\ttest: 0.6914808\tbest: 0.6914808 (472)\ttotal: 2m 39s\tremaining: 2m 58s\n",
      "473:\ttest: 0.6914909\tbest: 0.6914909 (473)\ttotal: 2m 40s\tremaining: 2m 57s\n",
      "474:\ttest: 0.6915048\tbest: 0.6915048 (474)\ttotal: 2m 40s\tremaining: 2m 57s\n",
      "475:\ttest: 0.6915003\tbest: 0.6915048 (474)\ttotal: 2m 40s\tremaining: 2m 57s\n",
      "476:\ttest: 0.6915173\tbest: 0.6915173 (476)\ttotal: 2m 41s\tremaining: 2m 56s\n",
      "477:\ttest: 0.6915279\tbest: 0.6915279 (477)\ttotal: 2m 41s\tremaining: 2m 56s\n",
      "478:\ttest: 0.6915200\tbest: 0.6915279 (477)\ttotal: 2m 41s\tremaining: 2m 56s\n",
      "479:\ttest: 0.6915908\tbest: 0.6915908 (479)\ttotal: 2m 42s\tremaining: 2m 55s\n",
      "480:\ttest: 0.6915996\tbest: 0.6915996 (480)\ttotal: 2m 42s\tremaining: 2m 55s\n",
      "481:\ttest: 0.6916053\tbest: 0.6916053 (481)\ttotal: 2m 42s\tremaining: 2m 55s\n",
      "482:\ttest: 0.6915968\tbest: 0.6916053 (481)\ttotal: 2m 43s\tremaining: 2m 54s\n",
      "483:\ttest: 0.6916613\tbest: 0.6916613 (483)\ttotal: 2m 43s\tremaining: 2m 54s\n",
      "484:\ttest: 0.6917384\tbest: 0.6917384 (484)\ttotal: 2m 43s\tremaining: 2m 53s\n",
      "485:\ttest: 0.6917367\tbest: 0.6917384 (484)\ttotal: 2m 44s\tremaining: 2m 53s\n",
      "486:\ttest: 0.6917291\tbest: 0.6917384 (484)\ttotal: 2m 44s\tremaining: 2m 53s\n",
      "487:\ttest: 0.6917292\tbest: 0.6917384 (484)\ttotal: 2m 44s\tremaining: 2m 52s\n",
      "488:\ttest: 0.6917440\tbest: 0.6917440 (488)\ttotal: 2m 45s\tremaining: 2m 52s\n",
      "489:\ttest: 0.6917677\tbest: 0.6917677 (489)\ttotal: 2m 45s\tremaining: 2m 52s\n",
      "490:\ttest: 0.6917887\tbest: 0.6917887 (490)\ttotal: 2m 45s\tremaining: 2m 51s\n",
      "491:\ttest: 0.6918000\tbest: 0.6918000 (491)\ttotal: 2m 46s\tremaining: 2m 51s\n",
      "492:\ttest: 0.6918199\tbest: 0.6918199 (492)\ttotal: 2m 46s\tremaining: 2m 51s\n",
      "493:\ttest: 0.6918763\tbest: 0.6918763 (493)\ttotal: 2m 46s\tremaining: 2m 50s\n",
      "494:\ttest: 0.6919055\tbest: 0.6919055 (494)\ttotal: 2m 47s\tremaining: 2m 50s\n",
      "495:\ttest: 0.6919455\tbest: 0.6919455 (495)\ttotal: 2m 47s\tremaining: 2m 50s\n",
      "496:\ttest: 0.6919383\tbest: 0.6919455 (495)\ttotal: 2m 47s\tremaining: 2m 49s\n",
      "497:\ttest: 0.6919894\tbest: 0.6919894 (497)\ttotal: 2m 48s\tremaining: 2m 49s\n",
      "498:\ttest: 0.6919944\tbest: 0.6919944 (498)\ttotal: 2m 48s\tremaining: 2m 49s\n",
      "499:\ttest: 0.6919848\tbest: 0.6919944 (498)\ttotal: 2m 48s\tremaining: 2m 48s\n",
      "500:\ttest: 0.6920100\tbest: 0.6920100 (500)\ttotal: 2m 49s\tremaining: 2m 48s\n",
      "501:\ttest: 0.6920087\tbest: 0.6920100 (500)\ttotal: 2m 49s\tremaining: 2m 48s\n",
      "502:\ttest: 0.6920215\tbest: 0.6920215 (502)\ttotal: 2m 49s\tremaining: 2m 47s\n",
      "503:\ttest: 0.6920280\tbest: 0.6920280 (503)\ttotal: 2m 50s\tremaining: 2m 47s\n",
      "504:\ttest: 0.6921123\tbest: 0.6921123 (504)\ttotal: 2m 50s\tremaining: 2m 46s\n",
      "505:\ttest: 0.6921187\tbest: 0.6921187 (505)\ttotal: 2m 50s\tremaining: 2m 46s\n",
      "506:\ttest: 0.6921765\tbest: 0.6921765 (506)\ttotal: 2m 50s\tremaining: 2m 46s\n",
      "507:\ttest: 0.6921887\tbest: 0.6921887 (507)\ttotal: 2m 51s\tremaining: 2m 45s\n",
      "508:\ttest: 0.6922147\tbest: 0.6922147 (508)\ttotal: 2m 51s\tremaining: 2m 45s\n",
      "509:\ttest: 0.6922091\tbest: 0.6922147 (508)\ttotal: 2m 51s\tremaining: 2m 45s\n",
      "510:\ttest: 0.6922606\tbest: 0.6922606 (510)\ttotal: 2m 52s\tremaining: 2m 44s\n",
      "511:\ttest: 0.6922825\tbest: 0.6922825 (511)\ttotal: 2m 52s\tremaining: 2m 44s\n",
      "512:\ttest: 0.6923698\tbest: 0.6923698 (512)\ttotal: 2m 52s\tremaining: 2m 44s\n",
      "513:\ttest: 0.6923876\tbest: 0.6923876 (513)\ttotal: 2m 53s\tremaining: 2m 43s\n",
      "514:\ttest: 0.6923782\tbest: 0.6923876 (513)\ttotal: 2m 53s\tremaining: 2m 43s\n",
      "515:\ttest: 0.6923646\tbest: 0.6923876 (513)\ttotal: 2m 53s\tremaining: 2m 43s\n",
      "516:\ttest: 0.6923724\tbest: 0.6923876 (513)\ttotal: 2m 54s\tremaining: 2m 42s\n",
      "517:\ttest: 0.6924024\tbest: 0.6924024 (517)\ttotal: 2m 54s\tremaining: 2m 42s\n",
      "518:\ttest: 0.6923898\tbest: 0.6924024 (517)\ttotal: 2m 54s\tremaining: 2m 41s\n",
      "519:\ttest: 0.6924019\tbest: 0.6924024 (517)\ttotal: 2m 55s\tremaining: 2m 41s\n",
      "520:\ttest: 0.6924511\tbest: 0.6924511 (520)\ttotal: 2m 55s\tremaining: 2m 41s\n",
      "521:\ttest: 0.6924887\tbest: 0.6924887 (521)\ttotal: 2m 55s\tremaining: 2m 40s\n",
      "522:\ttest: 0.6924947\tbest: 0.6924947 (522)\ttotal: 2m 56s\tremaining: 2m 40s\n",
      "523:\ttest: 0.6924991\tbest: 0.6924991 (523)\ttotal: 2m 56s\tremaining: 2m 40s\n",
      "524:\ttest: 0.6924922\tbest: 0.6924991 (523)\ttotal: 2m 56s\tremaining: 2m 39s\n",
      "525:\ttest: 0.6924949\tbest: 0.6924991 (523)\ttotal: 2m 57s\tremaining: 2m 39s\n",
      "526:\ttest: 0.6925073\tbest: 0.6925073 (526)\ttotal: 2m 57s\tremaining: 2m 39s\n",
      "527:\ttest: 0.6925241\tbest: 0.6925241 (527)\ttotal: 2m 57s\tremaining: 2m 38s\n",
      "528:\ttest: 0.6924962\tbest: 0.6925241 (527)\ttotal: 2m 57s\tremaining: 2m 38s\n",
      "529:\ttest: 0.6924986\tbest: 0.6925241 (527)\ttotal: 2m 58s\tremaining: 2m 38s\n",
      "530:\ttest: 0.6924897\tbest: 0.6925241 (527)\ttotal: 2m 58s\tremaining: 2m 37s\n",
      "531:\ttest: 0.6924817\tbest: 0.6925241 (527)\ttotal: 2m 58s\tremaining: 2m 37s\n",
      "532:\ttest: 0.6924939\tbest: 0.6925241 (527)\ttotal: 2m 59s\tremaining: 2m 36s\n",
      "533:\ttest: 0.6925003\tbest: 0.6925241 (527)\ttotal: 2m 59s\tremaining: 2m 36s\n",
      "534:\ttest: 0.6925221\tbest: 0.6925241 (527)\ttotal: 2m 59s\tremaining: 2m 36s\n",
      "535:\ttest: 0.6925225\tbest: 0.6925241 (527)\ttotal: 3m\tremaining: 2m 35s\n",
      "536:\ttest: 0.6925541\tbest: 0.6925541 (536)\ttotal: 3m\tremaining: 2m 35s\n",
      "537:\ttest: 0.6925388\tbest: 0.6925541 (536)\ttotal: 3m\tremaining: 2m 35s\n",
      "538:\ttest: 0.6925472\tbest: 0.6925541 (536)\ttotal: 3m 1s\tremaining: 2m 34s\n",
      "539:\ttest: 0.6925969\tbest: 0.6925969 (539)\ttotal: 3m 1s\tremaining: 2m 34s\n",
      "540:\ttest: 0.6925970\tbest: 0.6925970 (540)\ttotal: 3m 1s\tremaining: 2m 34s\n",
      "541:\ttest: 0.6926509\tbest: 0.6926509 (541)\ttotal: 3m 2s\tremaining: 2m 33s\n",
      "542:\ttest: 0.6926605\tbest: 0.6926605 (542)\ttotal: 3m 2s\tremaining: 2m 33s\n",
      "543:\ttest: 0.6926555\tbest: 0.6926605 (542)\ttotal: 3m 2s\tremaining: 2m 33s\n",
      "544:\ttest: 0.6926645\tbest: 0.6926645 (544)\ttotal: 3m 2s\tremaining: 2m 32s\n",
      "545:\ttest: 0.6926572\tbest: 0.6926645 (544)\ttotal: 3m 3s\tremaining: 2m 32s\n",
      "546:\ttest: 0.6926559\tbest: 0.6926645 (544)\ttotal: 3m 3s\tremaining: 2m 32s\n",
      "547:\ttest: 0.6926530\tbest: 0.6926645 (544)\ttotal: 3m 3s\tremaining: 2m 31s\n",
      "548:\ttest: 0.6927394\tbest: 0.6927394 (548)\ttotal: 3m 4s\tremaining: 2m 31s\n",
      "549:\ttest: 0.6927553\tbest: 0.6927553 (549)\ttotal: 3m 4s\tremaining: 2m 31s\n",
      "550:\ttest: 0.6927591\tbest: 0.6927591 (550)\ttotal: 3m 4s\tremaining: 2m 30s\n",
      "551:\ttest: 0.6927762\tbest: 0.6927762 (551)\ttotal: 3m 5s\tremaining: 2m 30s\n",
      "552:\ttest: 0.6927760\tbest: 0.6927762 (551)\ttotal: 3m 5s\tremaining: 2m 29s\n",
      "553:\ttest: 0.6927633\tbest: 0.6927762 (551)\ttotal: 3m 5s\tremaining: 2m 29s\n",
      "554:\ttest: 0.6927893\tbest: 0.6927893 (554)\ttotal: 3m 6s\tremaining: 2m 29s\n",
      "555:\ttest: 0.6927906\tbest: 0.6927906 (555)\ttotal: 3m 6s\tremaining: 2m 28s\n",
      "556:\ttest: 0.6927794\tbest: 0.6927906 (555)\ttotal: 3m 6s\tremaining: 2m 28s\n",
      "557:\ttest: 0.6928175\tbest: 0.6928175 (557)\ttotal: 3m 7s\tremaining: 2m 28s\n",
      "558:\ttest: 0.6928416\tbest: 0.6928416 (558)\ttotal: 3m 7s\tremaining: 2m 27s\n",
      "559:\ttest: 0.6928529\tbest: 0.6928529 (559)\ttotal: 3m 7s\tremaining: 2m 27s\n",
      "560:\ttest: 0.6928358\tbest: 0.6928529 (559)\ttotal: 3m 8s\tremaining: 2m 27s\n",
      "561:\ttest: 0.6928465\tbest: 0.6928529 (559)\ttotal: 3m 8s\tremaining: 2m 26s\n",
      "562:\ttest: 0.6928703\tbest: 0.6928703 (562)\ttotal: 3m 8s\tremaining: 2m 26s\n",
      "563:\ttest: 0.6929014\tbest: 0.6929014 (563)\ttotal: 3m 9s\tremaining: 2m 26s\n",
      "564:\ttest: 0.6929201\tbest: 0.6929201 (564)\ttotal: 3m 9s\tremaining: 2m 25s\n",
      "565:\ttest: 0.6929197\tbest: 0.6929201 (564)\ttotal: 3m 9s\tremaining: 2m 25s\n",
      "566:\ttest: 0.6929252\tbest: 0.6929252 (566)\ttotal: 3m 9s\tremaining: 2m 25s\n",
      "567:\ttest: 0.6929347\tbest: 0.6929347 (567)\ttotal: 3m 10s\tremaining: 2m 24s\n",
      "568:\ttest: 0.6929533\tbest: 0.6929533 (568)\ttotal: 3m 10s\tremaining: 2m 24s\n",
      "569:\ttest: 0.6929688\tbest: 0.6929688 (569)\ttotal: 3m 10s\tremaining: 2m 24s\n",
      "570:\ttest: 0.6929893\tbest: 0.6929893 (570)\ttotal: 3m 11s\tremaining: 2m 23s\n",
      "571:\ttest: 0.6929832\tbest: 0.6929893 (570)\ttotal: 3m 11s\tremaining: 2m 23s\n",
      "572:\ttest: 0.6929793\tbest: 0.6929893 (570)\ttotal: 3m 11s\tremaining: 2m 22s\n",
      "573:\ttest: 0.6929985\tbest: 0.6929985 (573)\ttotal: 3m 12s\tremaining: 2m 22s\n",
      "574:\ttest: 0.6930010\tbest: 0.6930010 (574)\ttotal: 3m 12s\tremaining: 2m 22s\n",
      "575:\ttest: 0.6930734\tbest: 0.6930734 (575)\ttotal: 3m 12s\tremaining: 2m 22s\n",
      "576:\ttest: 0.6930604\tbest: 0.6930734 (575)\ttotal: 3m 13s\tremaining: 2m 21s\n",
      "577:\ttest: 0.6931136\tbest: 0.6931136 (577)\ttotal: 3m 13s\tremaining: 2m 21s\n",
      "578:\ttest: 0.6931026\tbest: 0.6931136 (577)\ttotal: 3m 13s\tremaining: 2m 20s\n",
      "579:\ttest: 0.6931215\tbest: 0.6931215 (579)\ttotal: 3m 14s\tremaining: 2m 20s\n",
      "580:\ttest: 0.6931036\tbest: 0.6931215 (579)\ttotal: 3m 14s\tremaining: 2m 20s\n",
      "581:\ttest: 0.6931453\tbest: 0.6931453 (581)\ttotal: 3m 14s\tremaining: 2m 19s\n",
      "582:\ttest: 0.6931536\tbest: 0.6931536 (582)\ttotal: 3m 15s\tremaining: 2m 19s\n",
      "583:\ttest: 0.6932028\tbest: 0.6932028 (583)\ttotal: 3m 15s\tremaining: 2m 19s\n",
      "584:\ttest: 0.6933263\tbest: 0.6933263 (584)\ttotal: 3m 15s\tremaining: 2m 18s\n",
      "585:\ttest: 0.6933445\tbest: 0.6933445 (585)\ttotal: 3m 16s\tremaining: 2m 18s\n",
      "586:\ttest: 0.6934306\tbest: 0.6934306 (586)\ttotal: 3m 16s\tremaining: 2m 18s\n",
      "587:\ttest: 0.6935062\tbest: 0.6935062 (587)\ttotal: 3m 16s\tremaining: 2m 17s\n",
      "588:\ttest: 0.6935021\tbest: 0.6935062 (587)\ttotal: 3m 17s\tremaining: 2m 17s\n",
      "589:\ttest: 0.6935030\tbest: 0.6935062 (587)\ttotal: 3m 17s\tremaining: 2m 17s\n",
      "590:\ttest: 0.6935036\tbest: 0.6935062 (587)\ttotal: 3m 17s\tremaining: 2m 16s\n",
      "591:\ttest: 0.6935028\tbest: 0.6935062 (587)\ttotal: 3m 18s\tremaining: 2m 16s\n",
      "592:\ttest: 0.6934979\tbest: 0.6935062 (587)\ttotal: 3m 18s\tremaining: 2m 16s\n",
      "593:\ttest: 0.6935377\tbest: 0.6935377 (593)\ttotal: 3m 18s\tremaining: 2m 15s\n",
      "594:\ttest: 0.6936109\tbest: 0.6936109 (594)\ttotal: 3m 19s\tremaining: 2m 15s\n",
      "595:\ttest: 0.6936723\tbest: 0.6936723 (595)\ttotal: 3m 19s\tremaining: 2m 15s\n",
      "596:\ttest: 0.6936819\tbest: 0.6936819 (596)\ttotal: 3m 19s\tremaining: 2m 14s\n",
      "597:\ttest: 0.6936907\tbest: 0.6936907 (597)\ttotal: 3m 20s\tremaining: 2m 14s\n",
      "598:\ttest: 0.6936759\tbest: 0.6936907 (597)\ttotal: 3m 20s\tremaining: 2m 14s\n",
      "599:\ttest: 0.6936667\tbest: 0.6936907 (597)\ttotal: 3m 20s\tremaining: 2m 13s\n",
      "600:\ttest: 0.6936674\tbest: 0.6936907 (597)\ttotal: 3m 21s\tremaining: 2m 13s\n",
      "601:\ttest: 0.6937271\tbest: 0.6937271 (601)\ttotal: 3m 21s\tremaining: 2m 13s\n",
      "602:\ttest: 0.6937416\tbest: 0.6937416 (602)\ttotal: 3m 21s\tremaining: 2m 12s\n",
      "603:\ttest: 0.6937431\tbest: 0.6937431 (603)\ttotal: 3m 22s\tremaining: 2m 12s\n",
      "604:\ttest: 0.6937931\tbest: 0.6937931 (604)\ttotal: 3m 22s\tremaining: 2m 12s\n",
      "605:\ttest: 0.6937828\tbest: 0.6937931 (604)\ttotal: 3m 22s\tremaining: 2m 11s\n",
      "606:\ttest: 0.6938025\tbest: 0.6938025 (606)\ttotal: 3m 23s\tremaining: 2m 11s\n",
      "607:\ttest: 0.6938183\tbest: 0.6938183 (607)\ttotal: 3m 23s\tremaining: 2m 11s\n",
      "608:\ttest: 0.6938335\tbest: 0.6938335 (608)\ttotal: 3m 23s\tremaining: 2m 10s\n",
      "609:\ttest: 0.6938437\tbest: 0.6938437 (609)\ttotal: 3m 24s\tremaining: 2m 10s\n",
      "610:\ttest: 0.6938647\tbest: 0.6938647 (610)\ttotal: 3m 24s\tremaining: 2m 10s\n",
      "611:\ttest: 0.6938856\tbest: 0.6938856 (611)\ttotal: 3m 24s\tremaining: 2m 9s\n",
      "612:\ttest: 0.6938933\tbest: 0.6938933 (612)\ttotal: 3m 25s\tremaining: 2m 9s\n",
      "613:\ttest: 0.6938829\tbest: 0.6938933 (612)\ttotal: 3m 25s\tremaining: 2m 9s\n",
      "614:\ttest: 0.6938651\tbest: 0.6938933 (612)\ttotal: 3m 25s\tremaining: 2m 8s\n",
      "615:\ttest: 0.6938831\tbest: 0.6938933 (612)\ttotal: 3m 26s\tremaining: 2m 8s\n",
      "616:\ttest: 0.6939025\tbest: 0.6939025 (616)\ttotal: 3m 26s\tremaining: 2m 8s\n",
      "617:\ttest: 0.6939274\tbest: 0.6939274 (617)\ttotal: 3m 26s\tremaining: 2m 7s\n",
      "618:\ttest: 0.6939346\tbest: 0.6939346 (618)\ttotal: 3m 27s\tremaining: 2m 7s\n",
      "619:\ttest: 0.6939388\tbest: 0.6939388 (619)\ttotal: 3m 27s\tremaining: 2m 7s\n",
      "620:\ttest: 0.6939221\tbest: 0.6939388 (619)\ttotal: 3m 27s\tremaining: 2m 6s\n",
      "621:\ttest: 0.6939621\tbest: 0.6939621 (621)\ttotal: 3m 28s\tremaining: 2m 6s\n",
      "622:\ttest: 0.6939639\tbest: 0.6939639 (622)\ttotal: 3m 28s\tremaining: 2m 6s\n",
      "623:\ttest: 0.6939923\tbest: 0.6939923 (623)\ttotal: 3m 28s\tremaining: 2m 5s\n",
      "624:\ttest: 0.6940074\tbest: 0.6940074 (624)\ttotal: 3m 29s\tremaining: 2m 5s\n",
      "625:\ttest: 0.6940055\tbest: 0.6940074 (624)\ttotal: 3m 29s\tremaining: 2m 5s\n",
      "626:\ttest: 0.6940208\tbest: 0.6940208 (626)\ttotal: 3m 29s\tremaining: 2m 4s\n",
      "627:\ttest: 0.6940329\tbest: 0.6940329 (627)\ttotal: 3m 30s\tremaining: 2m 4s\n",
      "628:\ttest: 0.6940307\tbest: 0.6940329 (627)\ttotal: 3m 30s\tremaining: 2m 4s\n",
      "629:\ttest: 0.6940591\tbest: 0.6940591 (629)\ttotal: 3m 30s\tremaining: 2m 3s\n",
      "630:\ttest: 0.6940882\tbest: 0.6940882 (630)\ttotal: 3m 31s\tremaining: 2m 3s\n",
      "631:\ttest: 0.6941003\tbest: 0.6941003 (631)\ttotal: 3m 31s\tremaining: 2m 3s\n",
      "632:\ttest: 0.6941114\tbest: 0.6941114 (632)\ttotal: 3m 31s\tremaining: 2m 2s\n",
      "633:\ttest: 0.6940944\tbest: 0.6941114 (632)\ttotal: 3m 32s\tremaining: 2m 2s\n",
      "634:\ttest: 0.6941049\tbest: 0.6941114 (632)\ttotal: 3m 32s\tremaining: 2m 2s\n",
      "635:\ttest: 0.6941314\tbest: 0.6941314 (635)\ttotal: 3m 32s\tremaining: 2m 1s\n",
      "636:\ttest: 0.6941378\tbest: 0.6941378 (636)\ttotal: 3m 33s\tremaining: 2m 1s\n",
      "637:\ttest: 0.6941993\tbest: 0.6941993 (637)\ttotal: 3m 33s\tremaining: 2m 1s\n",
      "638:\ttest: 0.6942056\tbest: 0.6942056 (638)\ttotal: 3m 33s\tremaining: 2m\n",
      "639:\ttest: 0.6942221\tbest: 0.6942221 (639)\ttotal: 3m 34s\tremaining: 2m\n",
      "640:\ttest: 0.6943432\tbest: 0.6943432 (640)\ttotal: 3m 34s\tremaining: 2m\n",
      "641:\ttest: 0.6943168\tbest: 0.6943432 (640)\ttotal: 3m 34s\tremaining: 1m 59s\n",
      "642:\ttest: 0.6943227\tbest: 0.6943432 (640)\ttotal: 3m 35s\tremaining: 1m 59s\n",
      "643:\ttest: 0.6943267\tbest: 0.6943432 (640)\ttotal: 3m 35s\tremaining: 1m 59s\n",
      "644:\ttest: 0.6943554\tbest: 0.6943554 (644)\ttotal: 3m 35s\tremaining: 1m 58s\n",
      "645:\ttest: 0.6943667\tbest: 0.6943667 (645)\ttotal: 3m 36s\tremaining: 1m 58s\n",
      "646:\ttest: 0.6943873\tbest: 0.6943873 (646)\ttotal: 3m 36s\tremaining: 1m 58s\n",
      "647:\ttest: 0.6943850\tbest: 0.6943873 (646)\ttotal: 3m 36s\tremaining: 1m 57s\n",
      "648:\ttest: 0.6944090\tbest: 0.6944090 (648)\ttotal: 3m 37s\tremaining: 1m 57s\n",
      "649:\ttest: 0.6944041\tbest: 0.6944090 (648)\ttotal: 3m 37s\tremaining: 1m 57s\n",
      "650:\ttest: 0.6944111\tbest: 0.6944111 (650)\ttotal: 3m 37s\tremaining: 1m 56s\n",
      "651:\ttest: 0.6944143\tbest: 0.6944143 (651)\ttotal: 3m 38s\tremaining: 1m 56s\n",
      "652:\ttest: 0.6944186\tbest: 0.6944186 (652)\ttotal: 3m 38s\tremaining: 1m 56s\n",
      "653:\ttest: 0.6944298\tbest: 0.6944298 (653)\ttotal: 3m 38s\tremaining: 1m 55s\n",
      "654:\ttest: 0.6944259\tbest: 0.6944298 (653)\ttotal: 3m 39s\tremaining: 1m 55s\n",
      "655:\ttest: 0.6944371\tbest: 0.6944371 (655)\ttotal: 3m 39s\tremaining: 1m 55s\n",
      "656:\ttest: 0.6944395\tbest: 0.6944395 (656)\ttotal: 3m 39s\tremaining: 1m 54s\n",
      "657:\ttest: 0.6944446\tbest: 0.6944446 (657)\ttotal: 3m 40s\tremaining: 1m 54s\n",
      "658:\ttest: 0.6944696\tbest: 0.6944696 (658)\ttotal: 3m 40s\tremaining: 1m 54s\n",
      "659:\ttest: 0.6944670\tbest: 0.6944696 (658)\ttotal: 3m 40s\tremaining: 1m 53s\n",
      "660:\ttest: 0.6944717\tbest: 0.6944717 (660)\ttotal: 3m 41s\tremaining: 1m 53s\n",
      "661:\ttest: 0.6944736\tbest: 0.6944736 (661)\ttotal: 3m 41s\tremaining: 1m 53s\n",
      "662:\ttest: 0.6944992\tbest: 0.6944992 (662)\ttotal: 3m 41s\tremaining: 1m 52s\n",
      "663:\ttest: 0.6945301\tbest: 0.6945301 (663)\ttotal: 3m 42s\tremaining: 1m 52s\n",
      "664:\ttest: 0.6945328\tbest: 0.6945328 (664)\ttotal: 3m 42s\tremaining: 1m 52s\n",
      "665:\ttest: 0.6945412\tbest: 0.6945412 (665)\ttotal: 3m 42s\tremaining: 1m 51s\n",
      "666:\ttest: 0.6945525\tbest: 0.6945525 (666)\ttotal: 3m 43s\tremaining: 1m 51s\n",
      "667:\ttest: 0.6945716\tbest: 0.6945716 (667)\ttotal: 3m 43s\tremaining: 1m 51s\n",
      "668:\ttest: 0.6945845\tbest: 0.6945845 (668)\ttotal: 3m 43s\tremaining: 1m 50s\n",
      "669:\ttest: 0.6945918\tbest: 0.6945918 (669)\ttotal: 3m 44s\tremaining: 1m 50s\n",
      "670:\ttest: 0.6946220\tbest: 0.6946220 (670)\ttotal: 3m 44s\tremaining: 1m 50s\n",
      "671:\ttest: 0.6946737\tbest: 0.6946737 (671)\ttotal: 3m 44s\tremaining: 1m 49s\n",
      "672:\ttest: 0.6946925\tbest: 0.6946925 (672)\ttotal: 3m 45s\tremaining: 1m 49s\n",
      "673:\ttest: 0.6946896\tbest: 0.6946925 (672)\ttotal: 3m 45s\tremaining: 1m 49s\n",
      "674:\ttest: 0.6946878\tbest: 0.6946925 (672)\ttotal: 3m 45s\tremaining: 1m 48s\n",
      "675:\ttest: 0.6947050\tbest: 0.6947050 (675)\ttotal: 3m 46s\tremaining: 1m 48s\n",
      "676:\ttest: 0.6947200\tbest: 0.6947200 (676)\ttotal: 3m 46s\tremaining: 1m 48s\n",
      "677:\ttest: 0.6947099\tbest: 0.6947200 (676)\ttotal: 3m 47s\tremaining: 1m 47s\n",
      "678:\ttest: 0.6947199\tbest: 0.6947200 (676)\ttotal: 3m 47s\tremaining: 1m 47s\n",
      "679:\ttest: 0.6947102\tbest: 0.6947200 (676)\ttotal: 3m 47s\tremaining: 1m 47s\n",
      "680:\ttest: 0.6947228\tbest: 0.6947228 (680)\ttotal: 3m 47s\tremaining: 1m 46s\n",
      "681:\ttest: 0.6947173\tbest: 0.6947228 (680)\ttotal: 3m 48s\tremaining: 1m 46s\n",
      "682:\ttest: 0.6947099\tbest: 0.6947228 (680)\ttotal: 3m 48s\tremaining: 1m 46s\n",
      "683:\ttest: 0.6946952\tbest: 0.6947228 (680)\ttotal: 3m 48s\tremaining: 1m 45s\n",
      "684:\ttest: 0.6946894\tbest: 0.6947228 (680)\ttotal: 3m 49s\tremaining: 1m 45s\n",
      "685:\ttest: 0.6947283\tbest: 0.6947283 (685)\ttotal: 3m 49s\tremaining: 1m 45s\n",
      "686:\ttest: 0.6947611\tbest: 0.6947611 (686)\ttotal: 3m 49s\tremaining: 1m 44s\n",
      "687:\ttest: 0.6947603\tbest: 0.6947611 (686)\ttotal: 3m 50s\tremaining: 1m 44s\n",
      "688:\ttest: 0.6947479\tbest: 0.6947611 (686)\ttotal: 3m 50s\tremaining: 1m 44s\n",
      "689:\ttest: 0.6947577\tbest: 0.6947611 (686)\ttotal: 3m 50s\tremaining: 1m 43s\n",
      "690:\ttest: 0.6947821\tbest: 0.6947821 (690)\ttotal: 3m 51s\tremaining: 1m 43s\n",
      "691:\ttest: 0.6947751\tbest: 0.6947821 (690)\ttotal: 3m 51s\tremaining: 1m 43s\n",
      "692:\ttest: 0.6947723\tbest: 0.6947821 (690)\ttotal: 3m 51s\tremaining: 1m 42s\n",
      "693:\ttest: 0.6947790\tbest: 0.6947821 (690)\ttotal: 3m 52s\tremaining: 1m 42s\n",
      "694:\ttest: 0.6948021\tbest: 0.6948021 (694)\ttotal: 3m 52s\tremaining: 1m 42s\n",
      "695:\ttest: 0.6947946\tbest: 0.6948021 (694)\ttotal: 3m 52s\tremaining: 1m 41s\n",
      "696:\ttest: 0.6948065\tbest: 0.6948065 (696)\ttotal: 3m 53s\tremaining: 1m 41s\n",
      "697:\ttest: 0.6949121\tbest: 0.6949121 (697)\ttotal: 3m 53s\tremaining: 1m 41s\n",
      "698:\ttest: 0.6949188\tbest: 0.6949188 (698)\ttotal: 3m 53s\tremaining: 1m 40s\n",
      "699:\ttest: 0.6949068\tbest: 0.6949188 (698)\ttotal: 3m 54s\tremaining: 1m 40s\n",
      "700:\ttest: 0.6949143\tbest: 0.6949188 (698)\ttotal: 3m 54s\tremaining: 1m 40s\n",
      "701:\ttest: 0.6949298\tbest: 0.6949298 (701)\ttotal: 3m 54s\tremaining: 1m 39s\n",
      "702:\ttest: 0.6949357\tbest: 0.6949357 (702)\ttotal: 3m 55s\tremaining: 1m 39s\n",
      "703:\ttest: 0.6949379\tbest: 0.6949379 (703)\ttotal: 3m 55s\tremaining: 1m 39s\n",
      "704:\ttest: 0.6949594\tbest: 0.6949594 (704)\ttotal: 3m 55s\tremaining: 1m 38s\n",
      "705:\ttest: 0.6949560\tbest: 0.6949594 (704)\ttotal: 3m 56s\tremaining: 1m 38s\n",
      "706:\ttest: 0.6949665\tbest: 0.6949665 (706)\ttotal: 3m 56s\tremaining: 1m 38s\n",
      "707:\ttest: 0.6949745\tbest: 0.6949745 (707)\ttotal: 3m 56s\tremaining: 1m 37s\n",
      "708:\ttest: 0.6949752\tbest: 0.6949752 (708)\ttotal: 3m 57s\tremaining: 1m 37s\n",
      "709:\ttest: 0.6949648\tbest: 0.6949752 (708)\ttotal: 3m 57s\tremaining: 1m 37s\n",
      "710:\ttest: 0.6949638\tbest: 0.6949752 (708)\ttotal: 3m 57s\tremaining: 1m 36s\n",
      "711:\ttest: 0.6949705\tbest: 0.6949752 (708)\ttotal: 3m 58s\tremaining: 1m 36s\n",
      "712:\ttest: 0.6949827\tbest: 0.6949827 (712)\ttotal: 3m 58s\tremaining: 1m 35s\n",
      "713:\ttest: 0.6949958\tbest: 0.6949958 (713)\ttotal: 3m 58s\tremaining: 1m 35s\n",
      "714:\ttest: 0.6949902\tbest: 0.6949958 (713)\ttotal: 3m 59s\tremaining: 1m 35s\n",
      "715:\ttest: 0.6949730\tbest: 0.6949958 (713)\ttotal: 3m 59s\tremaining: 1m 34s\n",
      "716:\ttest: 0.6949667\tbest: 0.6949958 (713)\ttotal: 3m 59s\tremaining: 1m 34s\n",
      "717:\ttest: 0.6949778\tbest: 0.6949958 (713)\ttotal: 4m\tremaining: 1m 34s\n",
      "718:\ttest: 0.6949725\tbest: 0.6949958 (713)\ttotal: 4m\tremaining: 1m 33s\n",
      "719:\ttest: 0.6949739\tbest: 0.6949958 (713)\ttotal: 4m\tremaining: 1m 33s\n",
      "720:\ttest: 0.6949882\tbest: 0.6949958 (713)\ttotal: 4m 1s\tremaining: 1m 33s\n",
      "721:\ttest: 0.6949889\tbest: 0.6949958 (713)\ttotal: 4m 1s\tremaining: 1m 32s\n",
      "722:\ttest: 0.6949912\tbest: 0.6949958 (713)\ttotal: 4m 1s\tremaining: 1m 32s\n",
      "723:\ttest: 0.6950032\tbest: 0.6950032 (723)\ttotal: 4m 2s\tremaining: 1m 32s\n",
      "724:\ttest: 0.6950031\tbest: 0.6950032 (723)\ttotal: 4m 2s\tremaining: 1m 31s\n",
      "725:\ttest: 0.6951053\tbest: 0.6951053 (725)\ttotal: 4m 2s\tremaining: 1m 31s\n",
      "726:\ttest: 0.6951110\tbest: 0.6951110 (726)\ttotal: 4m 3s\tremaining: 1m 31s\n",
      "727:\ttest: 0.6951220\tbest: 0.6951220 (727)\ttotal: 4m 3s\tremaining: 1m 30s\n",
      "728:\ttest: 0.6951309\tbest: 0.6951309 (728)\ttotal: 4m 3s\tremaining: 1m 30s\n",
      "729:\ttest: 0.6951130\tbest: 0.6951309 (728)\ttotal: 4m 4s\tremaining: 1m 30s\n",
      "730:\ttest: 0.6951250\tbest: 0.6951309 (728)\ttotal: 4m 4s\tremaining: 1m 29s\n",
      "731:\ttest: 0.6951230\tbest: 0.6951309 (728)\ttotal: 4m 4s\tremaining: 1m 29s\n",
      "732:\ttest: 0.6951187\tbest: 0.6951309 (728)\ttotal: 4m 4s\tremaining: 1m 29s\n",
      "733:\ttest: 0.6951356\tbest: 0.6951356 (733)\ttotal: 4m 5s\tremaining: 1m 28s\n",
      "734:\ttest: 0.6951471\tbest: 0.6951471 (734)\ttotal: 4m 5s\tremaining: 1m 28s\n",
      "735:\ttest: 0.6951359\tbest: 0.6951471 (734)\ttotal: 4m 5s\tremaining: 1m 28s\n",
      "736:\ttest: 0.6951432\tbest: 0.6951471 (734)\ttotal: 4m 6s\tremaining: 1m 27s\n",
      "737:\ttest: 0.6951723\tbest: 0.6951723 (737)\ttotal: 4m 6s\tremaining: 1m 27s\n",
      "738:\ttest: 0.6951709\tbest: 0.6951723 (737)\ttotal: 4m 6s\tremaining: 1m 27s\n",
      "739:\ttest: 0.6951818\tbest: 0.6951818 (739)\ttotal: 4m 7s\tremaining: 1m 26s\n",
      "740:\ttest: 0.6951823\tbest: 0.6951823 (740)\ttotal: 4m 7s\tremaining: 1m 26s\n",
      "741:\ttest: 0.6951779\tbest: 0.6951823 (740)\ttotal: 4m 7s\tremaining: 1m 26s\n",
      "742:\ttest: 0.6951939\tbest: 0.6951939 (742)\ttotal: 4m 8s\tremaining: 1m 25s\n",
      "743:\ttest: 0.6951931\tbest: 0.6951939 (742)\ttotal: 4m 8s\tremaining: 1m 25s\n",
      "744:\ttest: 0.6952002\tbest: 0.6952002 (744)\ttotal: 4m 8s\tremaining: 1m 25s\n",
      "745:\ttest: 0.6952043\tbest: 0.6952043 (745)\ttotal: 4m 9s\tremaining: 1m 24s\n",
      "746:\ttest: 0.6952004\tbest: 0.6952043 (745)\ttotal: 4m 9s\tremaining: 1m 24s\n",
      "747:\ttest: 0.6952503\tbest: 0.6952503 (747)\ttotal: 4m 9s\tremaining: 1m 24s\n",
      "748:\ttest: 0.6952485\tbest: 0.6952503 (747)\ttotal: 4m 10s\tremaining: 1m 23s\n",
      "749:\ttest: 0.6952538\tbest: 0.6952538 (749)\ttotal: 4m 10s\tremaining: 1m 23s\n",
      "750:\ttest: 0.6952951\tbest: 0.6952951 (750)\ttotal: 4m 10s\tremaining: 1m 23s\n",
      "751:\ttest: 0.6953003\tbest: 0.6953003 (751)\ttotal: 4m 11s\tremaining: 1m 22s\n",
      "752:\ttest: 0.6953249\tbest: 0.6953249 (752)\ttotal: 4m 11s\tremaining: 1m 22s\n",
      "753:\ttest: 0.6953221\tbest: 0.6953249 (752)\ttotal: 4m 11s\tremaining: 1m 22s\n",
      "754:\ttest: 0.6953179\tbest: 0.6953249 (752)\ttotal: 4m 12s\tremaining: 1m 21s\n",
      "755:\ttest: 0.6953151\tbest: 0.6953249 (752)\ttotal: 4m 12s\tremaining: 1m 21s\n",
      "756:\ttest: 0.6953189\tbest: 0.6953249 (752)\ttotal: 4m 12s\tremaining: 1m 21s\n",
      "757:\ttest: 0.6953244\tbest: 0.6953249 (752)\ttotal: 4m 13s\tremaining: 1m 20s\n",
      "758:\ttest: 0.6953214\tbest: 0.6953249 (752)\ttotal: 4m 13s\tremaining: 1m 20s\n",
      "759:\ttest: 0.6953304\tbest: 0.6953304 (759)\ttotal: 4m 13s\tremaining: 1m 20s\n",
      "760:\ttest: 0.6953506\tbest: 0.6953506 (760)\ttotal: 4m 14s\tremaining: 1m 19s\n",
      "761:\ttest: 0.6953444\tbest: 0.6953506 (760)\ttotal: 4m 14s\tremaining: 1m 19s\n",
      "762:\ttest: 0.6953428\tbest: 0.6953506 (760)\ttotal: 4m 14s\tremaining: 1m 19s\n",
      "763:\ttest: 0.6953519\tbest: 0.6953519 (763)\ttotal: 4m 15s\tremaining: 1m 18s\n",
      "764:\ttest: 0.6953626\tbest: 0.6953626 (764)\ttotal: 4m 15s\tremaining: 1m 18s\n",
      "765:\ttest: 0.6953636\tbest: 0.6953636 (765)\ttotal: 4m 15s\tremaining: 1m 18s\n",
      "766:\ttest: 0.6953861\tbest: 0.6953861 (766)\ttotal: 4m 15s\tremaining: 1m 17s\n",
      "767:\ttest: 0.6953866\tbest: 0.6953866 (767)\ttotal: 4m 16s\tremaining: 1m 17s\n",
      "768:\ttest: 0.6953853\tbest: 0.6953866 (767)\ttotal: 4m 16s\tremaining: 1m 17s\n",
      "769:\ttest: 0.6953779\tbest: 0.6953866 (767)\ttotal: 4m 17s\tremaining: 1m 16s\n",
      "770:\ttest: 0.6953783\tbest: 0.6953866 (767)\ttotal: 4m 17s\tremaining: 1m 16s\n",
      "771:\ttest: 0.6953747\tbest: 0.6953866 (767)\ttotal: 4m 17s\tremaining: 1m 16s\n",
      "772:\ttest: 0.6953673\tbest: 0.6953866 (767)\ttotal: 4m 18s\tremaining: 1m 15s\n",
      "773:\ttest: 0.6953617\tbest: 0.6953866 (767)\ttotal: 4m 18s\tremaining: 1m 15s\n",
      "774:\ttest: 0.6954119\tbest: 0.6954119 (774)\ttotal: 4m 18s\tremaining: 1m 15s\n",
      "775:\ttest: 0.6954107\tbest: 0.6954119 (774)\ttotal: 4m 19s\tremaining: 1m 14s\n",
      "776:\ttest: 0.6954092\tbest: 0.6954119 (774)\ttotal: 4m 19s\tremaining: 1m 14s\n",
      "777:\ttest: 0.6954315\tbest: 0.6954315 (777)\ttotal: 4m 19s\tremaining: 1m 14s\n",
      "778:\ttest: 0.6954300\tbest: 0.6954315 (777)\ttotal: 4m 20s\tremaining: 1m 13s\n",
      "779:\ttest: 0.6954319\tbest: 0.6954319 (779)\ttotal: 4m 20s\tremaining: 1m 13s\n",
      "780:\ttest: 0.6954260\tbest: 0.6954319 (779)\ttotal: 4m 21s\tremaining: 1m 13s\n",
      "781:\ttest: 0.6954214\tbest: 0.6954319 (779)\ttotal: 4m 21s\tremaining: 1m 12s\n",
      "782:\ttest: 0.6954304\tbest: 0.6954319 (779)\ttotal: 4m 21s\tremaining: 1m 12s\n",
      "783:\ttest: 0.6954908\tbest: 0.6954908 (783)\ttotal: 4m 22s\tremaining: 1m 12s\n",
      "784:\ttest: 0.6954861\tbest: 0.6954908 (783)\ttotal: 4m 22s\tremaining: 1m 11s\n",
      "785:\ttest: 0.6954835\tbest: 0.6954908 (783)\ttotal: 4m 23s\tremaining: 1m 11s\n",
      "786:\ttest: 0.6954848\tbest: 0.6954908 (783)\ttotal: 4m 23s\tremaining: 1m 11s\n",
      "787:\ttest: 0.6954892\tbest: 0.6954908 (783)\ttotal: 4m 23s\tremaining: 1m 10s\n",
      "788:\ttest: 0.6955151\tbest: 0.6955151 (788)\ttotal: 4m 24s\tremaining: 1m 10s\n",
      "789:\ttest: 0.6955174\tbest: 0.6955174 (789)\ttotal: 4m 24s\tremaining: 1m 10s\n",
      "790:\ttest: 0.6955205\tbest: 0.6955205 (790)\ttotal: 4m 24s\tremaining: 1m 9s\n",
      "791:\ttest: 0.6955218\tbest: 0.6955218 (791)\ttotal: 4m 25s\tremaining: 1m 9s\n",
      "792:\ttest: 0.6955298\tbest: 0.6955298 (792)\ttotal: 4m 25s\tremaining: 1m 9s\n",
      "793:\ttest: 0.6955408\tbest: 0.6955408 (793)\ttotal: 4m 26s\tremaining: 1m 9s\n",
      "794:\ttest: 0.6955364\tbest: 0.6955408 (793)\ttotal: 4m 26s\tremaining: 1m 8s\n",
      "795:\ttest: 0.6955465\tbest: 0.6955465 (795)\ttotal: 4m 26s\tremaining: 1m 8s\n",
      "796:\ttest: 0.6955544\tbest: 0.6955544 (796)\ttotal: 4m 27s\tremaining: 1m 8s\n",
      "797:\ttest: 0.6955849\tbest: 0.6955849 (797)\ttotal: 4m 27s\tremaining: 1m 7s\n",
      "798:\ttest: 0.6955884\tbest: 0.6955884 (798)\ttotal: 4m 27s\tremaining: 1m 7s\n",
      "799:\ttest: 0.6955830\tbest: 0.6955884 (798)\ttotal: 4m 28s\tremaining: 1m 7s\n",
      "800:\ttest: 0.6955954\tbest: 0.6955954 (800)\ttotal: 4m 28s\tremaining: 1m 6s\n",
      "801:\ttest: 0.6956369\tbest: 0.6956369 (801)\ttotal: 4m 28s\tremaining: 1m 6s\n",
      "802:\ttest: 0.6956481\tbest: 0.6956481 (802)\ttotal: 4m 29s\tremaining: 1m 6s\n",
      "803:\ttest: 0.6956560\tbest: 0.6956560 (803)\ttotal: 4m 29s\tremaining: 1m 5s\n",
      "804:\ttest: 0.6956554\tbest: 0.6956560 (803)\ttotal: 4m 29s\tremaining: 1m 5s\n",
      "805:\ttest: 0.6956557\tbest: 0.6956560 (803)\ttotal: 4m 30s\tremaining: 1m 5s\n",
      "806:\ttest: 0.6956728\tbest: 0.6956728 (806)\ttotal: 4m 30s\tremaining: 1m 4s\n",
      "807:\ttest: 0.6956828\tbest: 0.6956828 (807)\ttotal: 4m 31s\tremaining: 1m 4s\n",
      "808:\ttest: 0.6956843\tbest: 0.6956843 (808)\ttotal: 4m 31s\tremaining: 1m 4s\n",
      "809:\ttest: 0.6956939\tbest: 0.6956939 (809)\ttotal: 4m 31s\tremaining: 1m 3s\n",
      "810:\ttest: 0.6956909\tbest: 0.6956939 (809)\ttotal: 4m 32s\tremaining: 1m 3s\n",
      "811:\ttest: 0.6956838\tbest: 0.6956939 (809)\ttotal: 4m 32s\tremaining: 1m 3s\n",
      "812:\ttest: 0.6956895\tbest: 0.6956939 (809)\ttotal: 4m 32s\tremaining: 1m 2s\n",
      "813:\ttest: 0.6956938\tbest: 0.6956939 (809)\ttotal: 4m 33s\tremaining: 1m 2s\n",
      "814:\ttest: 0.6956918\tbest: 0.6956939 (809)\ttotal: 4m 33s\tremaining: 1m 2s\n",
      "815:\ttest: 0.6956824\tbest: 0.6956939 (809)\ttotal: 4m 33s\tremaining: 1m 1s\n",
      "816:\ttest: 0.6957558\tbest: 0.6957558 (816)\ttotal: 4m 34s\tremaining: 1m 1s\n",
      "817:\ttest: 0.6957922\tbest: 0.6957922 (817)\ttotal: 4m 34s\tremaining: 1m 1s\n",
      "818:\ttest: 0.6957832\tbest: 0.6957922 (817)\ttotal: 4m 34s\tremaining: 1m\n",
      "819:\ttest: 0.6957710\tbest: 0.6957922 (817)\ttotal: 4m 35s\tremaining: 1m\n",
      "820:\ttest: 0.6957659\tbest: 0.6957922 (817)\ttotal: 4m 35s\tremaining: 1m\n",
      "821:\ttest: 0.6957701\tbest: 0.6957922 (817)\ttotal: 4m 35s\tremaining: 59.8s\n",
      "822:\ttest: 0.6958277\tbest: 0.6958277 (822)\ttotal: 4m 36s\tremaining: 59.4s\n",
      "823:\ttest: 0.6958533\tbest: 0.6958533 (823)\ttotal: 4m 36s\tremaining: 59.1s\n",
      "824:\ttest: 0.6958486\tbest: 0.6958533 (823)\ttotal: 4m 37s\tremaining: 58.8s\n",
      "825:\ttest: 0.6958442\tbest: 0.6958533 (823)\ttotal: 4m 37s\tremaining: 58.5s\n",
      "826:\ttest: 0.6958418\tbest: 0.6958533 (823)\ttotal: 4m 37s\tremaining: 58.1s\n",
      "827:\ttest: 0.6958409\tbest: 0.6958533 (823)\ttotal: 4m 38s\tremaining: 57.8s\n",
      "828:\ttest: 0.6958466\tbest: 0.6958533 (823)\ttotal: 4m 38s\tremaining: 57.5s\n",
      "829:\ttest: 0.6958643\tbest: 0.6958643 (829)\ttotal: 4m 38s\tremaining: 57.1s\n",
      "830:\ttest: 0.6958632\tbest: 0.6958643 (829)\ttotal: 4m 39s\tremaining: 56.8s\n",
      "831:\ttest: 0.6958699\tbest: 0.6958699 (831)\ttotal: 4m 39s\tremaining: 56.5s\n",
      "832:\ttest: 0.6959056\tbest: 0.6959056 (832)\ttotal: 4m 39s\tremaining: 56.1s\n",
      "833:\ttest: 0.6959435\tbest: 0.6959435 (833)\ttotal: 4m 40s\tremaining: 55.8s\n",
      "834:\ttest: 0.6959447\tbest: 0.6959447 (834)\ttotal: 4m 40s\tremaining: 55.5s\n",
      "835:\ttest: 0.6959474\tbest: 0.6959474 (835)\ttotal: 4m 41s\tremaining: 55.1s\n",
      "836:\ttest: 0.6959472\tbest: 0.6959474 (835)\ttotal: 4m 41s\tremaining: 54.8s\n",
      "837:\ttest: 0.6959452\tbest: 0.6959474 (835)\ttotal: 4m 41s\tremaining: 54.5s\n",
      "838:\ttest: 0.6959486\tbest: 0.6959486 (838)\ttotal: 4m 42s\tremaining: 54.1s\n",
      "839:\ttest: 0.6959547\tbest: 0.6959547 (839)\ttotal: 4m 42s\tremaining: 53.8s\n",
      "840:\ttest: 0.6959591\tbest: 0.6959591 (840)\ttotal: 4m 42s\tremaining: 53.5s\n",
      "841:\ttest: 0.6959954\tbest: 0.6959954 (841)\ttotal: 4m 43s\tremaining: 53.1s\n",
      "842:\ttest: 0.6960130\tbest: 0.6960130 (842)\ttotal: 4m 43s\tremaining: 52.8s\n",
      "843:\ttest: 0.6960161\tbest: 0.6960161 (843)\ttotal: 4m 43s\tremaining: 52.4s\n",
      "844:\ttest: 0.6960233\tbest: 0.6960233 (844)\ttotal: 4m 44s\tremaining: 52.1s\n",
      "845:\ttest: 0.6960159\tbest: 0.6960233 (844)\ttotal: 4m 44s\tremaining: 51.8s\n",
      "846:\ttest: 0.6960184\tbest: 0.6960233 (844)\ttotal: 4m 44s\tremaining: 51.4s\n",
      "847:\ttest: 0.6960244\tbest: 0.6960244 (847)\ttotal: 4m 45s\tremaining: 51.1s\n",
      "848:\ttest: 0.6960230\tbest: 0.6960244 (847)\ttotal: 4m 45s\tremaining: 50.7s\n",
      "849:\ttest: 0.6960234\tbest: 0.6960244 (847)\ttotal: 4m 45s\tremaining: 50.4s\n",
      "850:\ttest: 0.6960492\tbest: 0.6960492 (850)\ttotal: 4m 46s\tremaining: 50.1s\n",
      "851:\ttest: 0.6960511\tbest: 0.6960511 (851)\ttotal: 4m 46s\tremaining: 49.7s\n",
      "852:\ttest: 0.6960828\tbest: 0.6960828 (852)\ttotal: 4m 46s\tremaining: 49.4s\n",
      "853:\ttest: 0.6960807\tbest: 0.6960828 (852)\ttotal: 4m 46s\tremaining: 49.1s\n",
      "854:\ttest: 0.6960872\tbest: 0.6960872 (854)\ttotal: 4m 47s\tremaining: 48.7s\n",
      "855:\ttest: 0.6960974\tbest: 0.6960974 (855)\ttotal: 4m 47s\tremaining: 48.4s\n",
      "856:\ttest: 0.6961051\tbest: 0.6961051 (856)\ttotal: 4m 48s\tremaining: 48.1s\n",
      "857:\ttest: 0.6961338\tbest: 0.6961338 (857)\ttotal: 4m 48s\tremaining: 47.7s\n",
      "858:\ttest: 0.6961267\tbest: 0.6961338 (857)\ttotal: 4m 48s\tremaining: 47.4s\n",
      "859:\ttest: 0.6961249\tbest: 0.6961338 (857)\ttotal: 4m 49s\tremaining: 47.1s\n",
      "860:\ttest: 0.6961715\tbest: 0.6961715 (860)\ttotal: 4m 49s\tremaining: 46.7s\n",
      "861:\ttest: 0.6962045\tbest: 0.6962045 (861)\ttotal: 4m 49s\tremaining: 46.4s\n",
      "862:\ttest: 0.6962058\tbest: 0.6962058 (862)\ttotal: 4m 50s\tremaining: 46.1s\n",
      "863:\ttest: 0.6962061\tbest: 0.6962061 (863)\ttotal: 4m 50s\tremaining: 45.7s\n",
      "864:\ttest: 0.6962408\tbest: 0.6962408 (864)\ttotal: 4m 50s\tremaining: 45.4s\n",
      "865:\ttest: 0.6962450\tbest: 0.6962450 (865)\ttotal: 4m 51s\tremaining: 45s\n",
      "866:\ttest: 0.6962417\tbest: 0.6962450 (865)\ttotal: 4m 51s\tremaining: 44.7s\n",
      "867:\ttest: 0.6962539\tbest: 0.6962539 (867)\ttotal: 4m 51s\tremaining: 44.4s\n",
      "868:\ttest: 0.6962511\tbest: 0.6962539 (867)\ttotal: 4m 52s\tremaining: 44.1s\n",
      "869:\ttest: 0.6962549\tbest: 0.6962549 (869)\ttotal: 4m 52s\tremaining: 43.7s\n",
      "870:\ttest: 0.6962915\tbest: 0.6962915 (870)\ttotal: 4m 53s\tremaining: 43.4s\n",
      "871:\ttest: 0.6963074\tbest: 0.6963074 (871)\ttotal: 4m 53s\tremaining: 43.1s\n",
      "872:\ttest: 0.6963068\tbest: 0.6963074 (871)\ttotal: 4m 53s\tremaining: 42.7s\n",
      "873:\ttest: 0.6963132\tbest: 0.6963132 (873)\ttotal: 4m 54s\tremaining: 42.4s\n",
      "874:\ttest: 0.6963688\tbest: 0.6963688 (874)\ttotal: 4m 54s\tremaining: 42.1s\n",
      "875:\ttest: 0.6963621\tbest: 0.6963688 (874)\ttotal: 4m 54s\tremaining: 41.7s\n",
      "876:\ttest: 0.6963736\tbest: 0.6963736 (876)\ttotal: 4m 55s\tremaining: 41.4s\n",
      "877:\ttest: 0.6963671\tbest: 0.6963736 (876)\ttotal: 4m 55s\tremaining: 41.1s\n",
      "878:\ttest: 0.6963750\tbest: 0.6963750 (878)\ttotal: 4m 55s\tremaining: 40.7s\n",
      "879:\ttest: 0.6963979\tbest: 0.6963979 (879)\ttotal: 4m 56s\tremaining: 40.4s\n",
      "880:\ttest: 0.6964012\tbest: 0.6964012 (880)\ttotal: 4m 56s\tremaining: 40s\n",
      "881:\ttest: 0.6963992\tbest: 0.6964012 (880)\ttotal: 4m 56s\tremaining: 39.7s\n",
      "882:\ttest: 0.6963952\tbest: 0.6964012 (880)\ttotal: 4m 57s\tremaining: 39.4s\n",
      "883:\ttest: 0.6964026\tbest: 0.6964026 (883)\ttotal: 4m 57s\tremaining: 39s\n",
      "884:\ttest: 0.6964007\tbest: 0.6964026 (883)\ttotal: 4m 57s\tremaining: 38.7s\n",
      "885:\ttest: 0.6964072\tbest: 0.6964072 (885)\ttotal: 4m 58s\tremaining: 38.4s\n",
      "886:\ttest: 0.6964021\tbest: 0.6964072 (885)\ttotal: 4m 58s\tremaining: 38s\n",
      "887:\ttest: 0.6964238\tbest: 0.6964238 (887)\ttotal: 4m 58s\tremaining: 37.7s\n",
      "888:\ttest: 0.6964277\tbest: 0.6964277 (888)\ttotal: 4m 59s\tremaining: 37.4s\n",
      "889:\ttest: 0.6964219\tbest: 0.6964277 (888)\ttotal: 4m 59s\tremaining: 37s\n",
      "890:\ttest: 0.6964187\tbest: 0.6964277 (888)\ttotal: 4m 59s\tremaining: 36.7s\n",
      "891:\ttest: 0.6964977\tbest: 0.6964977 (891)\ttotal: 5m\tremaining: 36.3s\n",
      "892:\ttest: 0.6965093\tbest: 0.6965093 (892)\ttotal: 5m\tremaining: 36s\n",
      "893:\ttest: 0.6965478\tbest: 0.6965478 (893)\ttotal: 5m\tremaining: 35.7s\n",
      "894:\ttest: 0.6965518\tbest: 0.6965518 (894)\ttotal: 5m 1s\tremaining: 35.3s\n",
      "895:\ttest: 0.6965589\tbest: 0.6965589 (895)\ttotal: 5m 1s\tremaining: 35s\n",
      "896:\ttest: 0.6965558\tbest: 0.6965589 (895)\ttotal: 5m 1s\tremaining: 34.7s\n",
      "897:\ttest: 0.6965483\tbest: 0.6965589 (895)\ttotal: 5m 2s\tremaining: 34.3s\n",
      "898:\ttest: 0.6965784\tbest: 0.6965784 (898)\ttotal: 5m 2s\tremaining: 34s\n",
      "899:\ttest: 0.6965780\tbest: 0.6965784 (898)\ttotal: 5m 2s\tremaining: 33.6s\n",
      "900:\ttest: 0.6965689\tbest: 0.6965784 (898)\ttotal: 5m 3s\tremaining: 33.3s\n",
      "901:\ttest: 0.6965920\tbest: 0.6965920 (901)\ttotal: 5m 3s\tremaining: 33s\n",
      "902:\ttest: 0.6965918\tbest: 0.6965920 (901)\ttotal: 5m 3s\tremaining: 32.6s\n",
      "903:\ttest: 0.6965909\tbest: 0.6965920 (901)\ttotal: 5m 4s\tremaining: 32.3s\n",
      "904:\ttest: 0.6965883\tbest: 0.6965920 (901)\ttotal: 5m 4s\tremaining: 32s\n",
      "905:\ttest: 0.6965818\tbest: 0.6965920 (901)\ttotal: 5m 4s\tremaining: 31.6s\n",
      "906:\ttest: 0.6965846\tbest: 0.6965920 (901)\ttotal: 5m 5s\tremaining: 31.3s\n",
      "907:\ttest: 0.6965932\tbest: 0.6965932 (907)\ttotal: 5m 5s\tremaining: 30.9s\n",
      "908:\ttest: 0.6965990\tbest: 0.6965990 (908)\ttotal: 5m 5s\tremaining: 30.6s\n",
      "909:\ttest: 0.6966207\tbest: 0.6966207 (909)\ttotal: 5m 6s\tremaining: 30.3s\n",
      "910:\ttest: 0.6966209\tbest: 0.6966209 (910)\ttotal: 5m 6s\tremaining: 29.9s\n",
      "911:\ttest: 0.6966254\tbest: 0.6966254 (911)\ttotal: 5m 6s\tremaining: 29.6s\n",
      "912:\ttest: 0.6966330\tbest: 0.6966330 (912)\ttotal: 5m 7s\tremaining: 29.3s\n",
      "913:\ttest: 0.6966304\tbest: 0.6966330 (912)\ttotal: 5m 7s\tremaining: 28.9s\n",
      "914:\ttest: 0.6966779\tbest: 0.6966779 (914)\ttotal: 5m 7s\tremaining: 28.6s\n",
      "915:\ttest: 0.6966799\tbest: 0.6966799 (915)\ttotal: 5m 8s\tremaining: 28.2s\n",
      "916:\ttest: 0.6966856\tbest: 0.6966856 (916)\ttotal: 5m 8s\tremaining: 27.9s\n",
      "917:\ttest: 0.6966988\tbest: 0.6966988 (917)\ttotal: 5m 8s\tremaining: 27.6s\n",
      "918:\ttest: 0.6966961\tbest: 0.6966988 (917)\ttotal: 5m 9s\tremaining: 27.2s\n",
      "919:\ttest: 0.6967000\tbest: 0.6967000 (919)\ttotal: 5m 9s\tremaining: 26.9s\n",
      "920:\ttest: 0.6967037\tbest: 0.6967037 (920)\ttotal: 5m 9s\tremaining: 26.6s\n",
      "921:\ttest: 0.6967010\tbest: 0.6967037 (920)\ttotal: 5m 10s\tremaining: 26.2s\n",
      "922:\ttest: 0.6967005\tbest: 0.6967037 (920)\ttotal: 5m 10s\tremaining: 25.9s\n",
      "923:\ttest: 0.6967072\tbest: 0.6967072 (923)\ttotal: 5m 10s\tremaining: 25.6s\n",
      "924:\ttest: 0.6967124\tbest: 0.6967124 (924)\ttotal: 5m 11s\tremaining: 25.2s\n",
      "925:\ttest: 0.6967262\tbest: 0.6967262 (925)\ttotal: 5m 11s\tremaining: 24.9s\n",
      "926:\ttest: 0.6967223\tbest: 0.6967262 (925)\ttotal: 5m 11s\tremaining: 24.5s\n",
      "927:\ttest: 0.6967178\tbest: 0.6967262 (925)\ttotal: 5m 12s\tremaining: 24.2s\n",
      "928:\ttest: 0.6967153\tbest: 0.6967262 (925)\ttotal: 5m 12s\tremaining: 23.9s\n",
      "929:\ttest: 0.6967095\tbest: 0.6967262 (925)\ttotal: 5m 12s\tremaining: 23.5s\n",
      "930:\ttest: 0.6967068\tbest: 0.6967262 (925)\ttotal: 5m 12s\tremaining: 23.2s\n",
      "931:\ttest: 0.6967029\tbest: 0.6967262 (925)\ttotal: 5m 13s\tremaining: 22.9s\n",
      "932:\ttest: 0.6967062\tbest: 0.6967262 (925)\ttotal: 5m 13s\tremaining: 22.5s\n",
      "933:\ttest: 0.6967005\tbest: 0.6967262 (925)\ttotal: 5m 13s\tremaining: 22.2s\n",
      "934:\ttest: 0.6967066\tbest: 0.6967262 (925)\ttotal: 5m 14s\tremaining: 21.8s\n",
      "935:\ttest: 0.6967025\tbest: 0.6967262 (925)\ttotal: 5m 14s\tremaining: 21.5s\n",
      "936:\ttest: 0.6967014\tbest: 0.6967262 (925)\ttotal: 5m 14s\tremaining: 21.2s\n",
      "937:\ttest: 0.6967039\tbest: 0.6967262 (925)\ttotal: 5m 15s\tremaining: 20.8s\n",
      "938:\ttest: 0.6967175\tbest: 0.6967262 (925)\ttotal: 5m 15s\tremaining: 20.5s\n",
      "939:\ttest: 0.6967153\tbest: 0.6967262 (925)\ttotal: 5m 15s\tremaining: 20.2s\n",
      "940:\ttest: 0.6967382\tbest: 0.6967382 (940)\ttotal: 5m 16s\tremaining: 19.8s\n",
      "941:\ttest: 0.6967344\tbest: 0.6967382 (940)\ttotal: 5m 16s\tremaining: 19.5s\n",
      "942:\ttest: 0.6967355\tbest: 0.6967382 (940)\ttotal: 5m 16s\tremaining: 19.2s\n",
      "943:\ttest: 0.6967316\tbest: 0.6967382 (940)\ttotal: 5m 17s\tremaining: 18.8s\n",
      "944:\ttest: 0.6967761\tbest: 0.6967761 (944)\ttotal: 5m 17s\tremaining: 18.5s\n",
      "945:\ttest: 0.6967844\tbest: 0.6967844 (945)\ttotal: 5m 17s\tremaining: 18.1s\n",
      "946:\ttest: 0.6967924\tbest: 0.6967924 (946)\ttotal: 5m 18s\tremaining: 17.8s\n",
      "947:\ttest: 0.6968013\tbest: 0.6968013 (947)\ttotal: 5m 18s\tremaining: 17.5s\n",
      "948:\ttest: 0.6968064\tbest: 0.6968064 (948)\ttotal: 5m 18s\tremaining: 17.1s\n",
      "949:\ttest: 0.6968038\tbest: 0.6968064 (948)\ttotal: 5m 19s\tremaining: 16.8s\n",
      "950:\ttest: 0.6968129\tbest: 0.6968129 (950)\ttotal: 5m 19s\tremaining: 16.5s\n",
      "951:\ttest: 0.6968181\tbest: 0.6968181 (951)\ttotal: 5m 19s\tremaining: 16.1s\n",
      "952:\ttest: 0.6968382\tbest: 0.6968382 (952)\ttotal: 5m 20s\tremaining: 15.8s\n",
      "953:\ttest: 0.6968398\tbest: 0.6968398 (953)\ttotal: 5m 20s\tremaining: 15.5s\n",
      "954:\ttest: 0.6968413\tbest: 0.6968413 (954)\ttotal: 5m 20s\tremaining: 15.1s\n",
      "955:\ttest: 0.6968382\tbest: 0.6968413 (954)\ttotal: 5m 21s\tremaining: 14.8s\n",
      "956:\ttest: 0.6968428\tbest: 0.6968428 (956)\ttotal: 5m 21s\tremaining: 14.5s\n",
      "957:\ttest: 0.6968388\tbest: 0.6968428 (956)\ttotal: 5m 21s\tremaining: 14.1s\n",
      "958:\ttest: 0.6968485\tbest: 0.6968485 (958)\ttotal: 5m 22s\tremaining: 13.8s\n",
      "959:\ttest: 0.6968531\tbest: 0.6968531 (959)\ttotal: 5m 22s\tremaining: 13.4s\n",
      "960:\ttest: 0.6968670\tbest: 0.6968670 (960)\ttotal: 5m 22s\tremaining: 13.1s\n",
      "961:\ttest: 0.6968807\tbest: 0.6968807 (961)\ttotal: 5m 23s\tremaining: 12.8s\n",
      "962:\ttest: 0.6968887\tbest: 0.6968887 (962)\ttotal: 5m 23s\tremaining: 12.4s\n",
      "963:\ttest: 0.6969155\tbest: 0.6969155 (963)\ttotal: 5m 23s\tremaining: 12.1s\n",
      "964:\ttest: 0.6969233\tbest: 0.6969233 (964)\ttotal: 5m 24s\tremaining: 11.8s\n",
      "965:\ttest: 0.6969466\tbest: 0.6969466 (965)\ttotal: 5m 24s\tremaining: 11.4s\n",
      "966:\ttest: 0.6969680\tbest: 0.6969680 (966)\ttotal: 5m 24s\tremaining: 11.1s\n",
      "967:\ttest: 0.6969926\tbest: 0.6969926 (967)\ttotal: 5m 25s\tremaining: 10.8s\n",
      "968:\ttest: 0.6969930\tbest: 0.6969930 (968)\ttotal: 5m 25s\tremaining: 10.4s\n",
      "969:\ttest: 0.6969984\tbest: 0.6969984 (969)\ttotal: 5m 25s\tremaining: 10.1s\n",
      "970:\ttest: 0.6969943\tbest: 0.6969984 (969)\ttotal: 5m 26s\tremaining: 9.74s\n",
      "971:\ttest: 0.6969897\tbest: 0.6969984 (969)\ttotal: 5m 26s\tremaining: 9.4s\n",
      "972:\ttest: 0.6969978\tbest: 0.6969984 (969)\ttotal: 5m 26s\tremaining: 9.07s\n",
      "973:\ttest: 0.6969984\tbest: 0.6969984 (969)\ttotal: 5m 27s\tremaining: 8.73s\n",
      "974:\ttest: 0.6970340\tbest: 0.6970340 (974)\ttotal: 5m 27s\tremaining: 8.4s\n",
      "975:\ttest: 0.6970349\tbest: 0.6970349 (975)\ttotal: 5m 27s\tremaining: 8.06s\n",
      "976:\ttest: 0.6970331\tbest: 0.6970349 (975)\ttotal: 5m 28s\tremaining: 7.73s\n",
      "977:\ttest: 0.6970241\tbest: 0.6970349 (975)\ttotal: 5m 28s\tremaining: 7.39s\n",
      "978:\ttest: 0.6970245\tbest: 0.6970349 (975)\ttotal: 5m 28s\tremaining: 7.06s\n",
      "979:\ttest: 0.6970200\tbest: 0.6970349 (975)\ttotal: 5m 29s\tremaining: 6.72s\n",
      "980:\ttest: 0.6970132\tbest: 0.6970349 (975)\ttotal: 5m 29s\tremaining: 6.38s\n",
      "981:\ttest: 0.6970109\tbest: 0.6970349 (975)\ttotal: 5m 30s\tremaining: 6.05s\n",
      "982:\ttest: 0.6970062\tbest: 0.6970349 (975)\ttotal: 5m 30s\tremaining: 5.71s\n",
      "983:\ttest: 0.6970123\tbest: 0.6970349 (975)\ttotal: 5m 30s\tremaining: 5.38s\n",
      "984:\ttest: 0.6970101\tbest: 0.6970349 (975)\ttotal: 5m 31s\tremaining: 5.04s\n",
      "985:\ttest: 0.6970351\tbest: 0.6970351 (985)\ttotal: 5m 31s\tremaining: 4.71s\n",
      "986:\ttest: 0.6970281\tbest: 0.6970351 (985)\ttotal: 5m 31s\tremaining: 4.37s\n",
      "987:\ttest: 0.6970280\tbest: 0.6970351 (985)\ttotal: 5m 32s\tremaining: 4.03s\n",
      "988:\ttest: 0.6970462\tbest: 0.6970462 (988)\ttotal: 5m 32s\tremaining: 3.7s\n",
      "989:\ttest: 0.6970467\tbest: 0.6970467 (989)\ttotal: 5m 32s\tremaining: 3.36s\n",
      "990:\ttest: 0.6970510\tbest: 0.6970510 (990)\ttotal: 5m 33s\tremaining: 3.03s\n",
      "991:\ttest: 0.6970537\tbest: 0.6970537 (991)\ttotal: 5m 33s\tremaining: 2.69s\n",
      "992:\ttest: 0.6970538\tbest: 0.6970538 (992)\ttotal: 5m 33s\tremaining: 2.35s\n",
      "993:\ttest: 0.6970743\tbest: 0.6970743 (993)\ttotal: 5m 34s\tremaining: 2.02s\n",
      "994:\ttest: 0.6970866\tbest: 0.6970866 (994)\ttotal: 5m 34s\tremaining: 1.68s\n",
      "995:\ttest: 0.6970948\tbest: 0.6970948 (995)\ttotal: 5m 34s\tremaining: 1.34s\n",
      "996:\ttest: 0.6970947\tbest: 0.6970948 (995)\ttotal: 5m 35s\tremaining: 1.01s\n",
      "997:\ttest: 0.6970951\tbest: 0.6970951 (997)\ttotal: 5m 35s\tremaining: 672ms\n",
      "998:\ttest: 0.6971020\tbest: 0.6971020 (998)\ttotal: 5m 35s\tremaining: 336ms\n",
      "999:\ttest: 0.6971041\tbest: 0.6971041 (999)\ttotal: 5m 36s\tremaining: 0us\n",
      "\n",
      "bestTest = 0.6971040607\n",
      "bestIteration = 999\n",
      "\n",
      "Wall time: 5min 43s\n"
     ]
    }
   ],
   "source": [
    "#CatBoost\n",
    "from catboost import CatBoostClassifier\n",
    "cgbm = CatBoostClassifier(eval_metric='AUC',\n",
    "                          use_best_model=True,\n",
    "                          random_seed=42,\n",
    "                          learning_rate=0.01,\n",
    "                          iterations = 1000,\n",
    "                          l2_leaf_reg=0.1,\n",
    "                          depth=4,          \n",
    "                          od_type = \"Iter\",\n",
    "                          od_wait = 100\n",
    "                         )\n",
    "%time cgbm.fit(X_smote,y_smote,eval_set=(X_val,y_val),)\n",
    "cgbm.save_model('./model/cgbm.txt')"
   ]
  },
  {
   "cell_type": "markdown",
   "metadata": {},
   "source": [
    "## Level-0 Random Forest"
   ]
  },
  {
   "cell_type": "code",
   "execution_count": 134,
   "metadata": {},
   "outputs": [
    {
     "name": "stdout",
     "output_type": "stream",
     "text": [
      "Wall time: 3min 33s\n",
      "auc : 0.6387317599914233\n"
     ]
    }
   ],
   "source": [
    "from sklearn.ensemble import RandomForestClassifier\n",
    "from joblib import dump\n",
    "RF = RandomForestClassifier(n_estimators=500,\n",
    "                            max_depth=3,\n",
    "                            random_state=467,\n",
    "                            min_samples_leaf=1,\n",
    "                            verbose=0)\n",
    "%time RF.fit(X_smote,y_smote)\n",
    "\n",
    "probs = RF.predict_proba(X_val)[:, 1]\n",
    "fpr, tpr, threshold = roc_curve(y_val, probs)\n",
    "roc_auc = auc(fpr, tpr)\n",
    "GINI = 2*roc_auc-1\n",
    "print('auc :',roc_auc)\n",
    "dump(RF, './model/RF.joblib') "
   ]
  },
  {
   "cell_type": "markdown",
   "metadata": {},
   "source": [
    "## Level-0 Decision Tree"
   ]
  },
  {
   "cell_type": "code",
   "execution_count": 148,
   "metadata": {},
   "outputs": [
    {
     "name": "stdout",
     "output_type": "stream",
     "text": [
      "Wall time: 2.14 s\n",
      "auc : 0.6615849214077821\n"
     ]
    },
    {
     "data": {
      "text/plain": [
       "['./model/DT.joblib']"
      ]
     },
     "execution_count": 148,
     "metadata": {},
     "output_type": "execute_result"
    }
   ],
   "source": [
    "from sklearn.tree import DecisionTreeClassifier\n",
    "from joblib import dump\n",
    "DT = DecisionTreeClassifier(max_depth=2,\n",
    "                            random_state=467,\n",
    "                            min_samples_leaf=1)\n",
    "%time DT.fit(X_smote,y_smote)\n",
    "\n",
    "probs = DT.predict_proba(X_val)[:, 1]\n",
    "fpr, tpr, threshold = roc_curve(y_val, probs)\n",
    "roc_auc = auc(fpr, tpr)\n",
    "GINI = 2*roc_auc-1\n",
    "print('auc :',roc_auc)\n",
    "dump(DT, './model/DT.joblib') "
   ]
  },
  {
   "cell_type": "markdown",
   "metadata": {},
   "source": [
    "## Level-0 Load Model"
   ]
  },
  {
   "cell_type": "markdown",
   "metadata": {},
   "source": [
    "### LGB"
   ]
  },
  {
   "cell_type": "code",
   "execution_count": 5,
   "metadata": {},
   "outputs": [],
   "source": [
    "import lightgbm as lgb\n",
    "gbm = lgb.Booster(model_file='./model/lgbm.txt')"
   ]
  },
  {
   "cell_type": "markdown",
   "metadata": {},
   "source": [
    "### XGB"
   ]
  },
  {
   "cell_type": "code",
   "execution_count": 67,
   "metadata": {},
   "outputs": [
    {
     "name": "stdout",
     "output_type": "stream",
     "text": [
      "<xgboost.core.Booster object at 0x000001B40C337198>\n",
      "OOTA auc : 0.9396156728989769\n"
     ]
    }
   ],
   "source": [
    "import xgboost as xgb\n",
    "XGB = xgb.Booster(model_file='./model/XGB.txt')\n",
    "print(XGB)\n",
    "probs = XGB.predict(xgb.DMatrix(X_smote))\n",
    "fpr, tpr, threshold = roc_curve(y_OOTA, probs)\n",
    "roc_auc = auc(fpr, tpr)\n",
    "print('OOTA auc :',roc_auc)"
   ]
  },
  {
   "cell_type": "markdown",
   "metadata": {},
   "source": [
    "### CBG"
   ]
  },
  {
   "cell_type": "code",
   "execution_count": 59,
   "metadata": {},
   "outputs": [],
   "source": [
    "from catboost import CatBoostClassifier\n",
    "cgbm = CatBoostClassifier().load_model('./model/cgbm.txt')"
   ]
  },
  {
   "cell_type": "markdown",
   "metadata": {},
   "source": [
    "### RF and Dat"
   ]
  },
  {
   "cell_type": "code",
   "execution_count": 62,
   "metadata": {},
   "outputs": [],
   "source": [
    "from joblib import load\n",
    "RF = load('./model/RF.joblib')\n",
    "DT = load('./model/DT.joblib')"
   ]
  },
  {
   "cell_type": "markdown",
   "metadata": {},
   "source": [
    "## Level-0 Evaluation"
   ]
  },
  {
   "cell_type": "code",
   "execution_count": 63,
   "metadata": {},
   "outputs": [
    {
     "name": "stdout",
     "output_type": "stream",
     "text": [
      "=====LightBGM=====\n",
      "OOTB auc : 0.5805474864265704\n",
      "TEST auc : 0.711594188019496\n",
      "OOTA auc : 0.589286215267605\n",
      "=====XGBoost=====\n",
      "OOTB auc : 0.6054254014480747\n",
      "TEST auc : 0.6368262772614492\n",
      "OOTA auc : 0.5892851970162956\n",
      "=====CatBoost=====\n",
      "OOTB auc : 0.6347446703550751\n",
      "TEST auc : 0.7005404308194834\n",
      "OOTA auc : 0.6162170084609999\n",
      "=====Random Forest=====\n",
      "OOTB auc : 0.5497078378058137\n",
      "TEST auc : 0.5680759766699858\n",
      "OOTA auc : 0.5344075609445033\n",
      "=====Decision Tree=====\n",
      "OOTB auc : 0.566154662354611\n",
      "TEST auc : 0.5939019969916255\n",
      "OOTA auc : 0.5584066985367532\n"
     ]
    }
   ],
   "source": [
    "#Evaluation\n",
    "#AUC & GINI score\n",
    "#MainDataset-Test & OOTB & OOTA\n",
    "from sklearn.metrics import roc_curve, roc_auc_score, auc\n",
    "print('=====LightBGM=====')\n",
    "probs = gbm.predict(X_OOTB)\n",
    "fpr, tpr, threshold = roc_curve(y_OOTB, probs)\n",
    "roc_auc = auc(fpr, tpr)\n",
    "print('OOTB auc :',roc_auc)\n",
    "\n",
    "probs = gbm.predict(X_test)\n",
    "fpr, tpr, threshold = roc_curve(y_test, probs)\n",
    "roc_auc = auc(fpr, tpr)\n",
    "print('TEST auc :',roc_auc)\n",
    "\n",
    "probs = gbm.predict(X_OOTA)\n",
    "fpr, tpr, threshold = roc_curve(y_OOTA, probs)\n",
    "roc_auc = auc(fpr, tpr)\n",
    "print('OOTA auc :',roc_auc)\n",
    "\n",
    "print('=====XGBoost=====')\n",
    "probs = XGB.predict(xgb.DMatrix(X_OOTB))\n",
    "fpr, tpr, threshold = roc_curve(y_OOTB, probs)\n",
    "roc_auc = auc(fpr, tpr)\n",
    "print('OOTB auc :',roc_auc)\n",
    "\n",
    "probs = XGB.predict(xgb.DMatrix(X_test))\n",
    "fpr, tpr, threshold = roc_curve(y_test, probs)\n",
    "roc_auc = auc(fpr, tpr)\n",
    "print('TEST auc :',roc_auc)\n",
    "\n",
    "probs = XGB.predict(xgb.DMatrix(X_OOTA))\n",
    "fpr, tpr, threshold = roc_curve(y_OOTA, probs)\n",
    "roc_auc = auc(fpr, tpr)\n",
    "print('OOTA auc :',roc_auc)\n",
    "\n",
    "print('=====CatBoost=====')\n",
    "probs = cgbm.predict_proba(X_OOTB)[:, 1]\n",
    "fpr, tpr, threshold = roc_curve(y_OOTB, probs)\n",
    "roc_auc = auc(fpr, tpr)\n",
    "print('OOTB auc :',roc_auc)\n",
    "\n",
    "probs = cgbm.predict_proba(X_test)[:, 1]\n",
    "fpr, tpr, threshold = roc_curve(y_test, probs)\n",
    "roc_auc = auc(fpr, tpr)\n",
    "print('TEST auc :',roc_auc)\n",
    "\n",
    "probs = cgbm.predict_proba(X_OOTA)[:, 1]\n",
    "fpr, tpr, threshold = roc_curve(y_OOTA, probs)\n",
    "roc_auc = auc(fpr, tpr)\n",
    "print('OOTA auc :',roc_auc)\n",
    "\n",
    "print('=====Random Forest=====')\n",
    "probs = RF.predict(X_OOTB)\n",
    "fpr, tpr, threshold = roc_curve(y_OOTB, probs)\n",
    "roc_auc = auc(fpr, tpr)\n",
    "print('OOTB auc :',roc_auc)\n",
    "\n",
    "probs = RF.predict(X_test)\n",
    "fpr, tpr, threshold = roc_curve(y_test, probs)\n",
    "roc_auc = auc(fpr, tpr)\n",
    "print('TEST auc :',roc_auc)\n",
    "\n",
    "probs = RF.predict(X_OOTA)\n",
    "fpr, tpr, threshold = roc_curve(y_OOTA, probs)\n",
    "roc_auc = auc(fpr, tpr)\n",
    "print('OOTA auc :',roc_auc)\n",
    "\n",
    "print('=====Decision Tree=====')\n",
    "probs = DT.predict(X_OOTB)\n",
    "fpr, tpr, threshold = roc_curve(y_OOTB, probs)\n",
    "roc_auc = auc(fpr, tpr)\n",
    "print('OOTB auc :',roc_auc)\n",
    "\n",
    "probs = DT.predict(X_test)\n",
    "fpr, tpr, threshold = roc_curve(y_test, probs)\n",
    "roc_auc = auc(fpr, tpr)\n",
    "print('TEST auc :',roc_auc)\n",
    "\n",
    "probs = DT.predict(X_OOTA)\n",
    "fpr, tpr, threshold = roc_curve(y_OOTA, probs)\n",
    "roc_auc = auc(fpr, tpr)\n",
    "print('OOTA auc :',roc_auc)"
   ]
  },
  {
   "cell_type": "markdown",
   "metadata": {},
   "source": [
    "## Level-0 Output Dataset"
   ]
  },
  {
   "cell_type": "code",
   "execution_count": 75,
   "metadata": {},
   "outputs": [],
   "source": [
    "#Train\n",
    "source_label = y_smote\n",
    "source_feature = X_smote\n",
    "base_train_output = pd.DataFrame({'LightGBM':gbm.predict(source_feature),\n",
    "                                  'XGBoost':XGB.predict(xgb.DMatrix(source_feature)),\n",
    "                                  'CatBoost' : cgbm.predict_proba(source_feature)[:, 1],\n",
    "                                  'RandomForest': RF.predict_proba(source_feature)[:, 1],\n",
    "                                  'DecisionTree': DT.predict_proba(source_feature)[:, 1]},columns=['LightGBM','XGBoost','CatBoost','RandomForest','DecisionTree'])\n",
    "base_train_output = pd.concat([base_train_output, pd.DataFrame(source_label, columns=['y'])], axis=1)\n",
    "                               \n",
    "#Val\n",
    "source_label = y_val\n",
    "source_feature = X_val\n",
    "base_val_output = pd.DataFrame({'LightGBM':gbm.predict(source_feature),\n",
    "                                'XGBoost':XGB.predict(xgb.DMatrix(source_feature.values)),\n",
    "                                'CatBoost' : cgbm.predict_proba(source_feature)[:, 1],\n",
    "                                'RandomForest': RF.predict_proba(source_feature)[:, 1],\n",
    "                                'DecisionTree': DT.predict_proba(source_feature)[:, 1]},columns=['LightGBM','XGBoost','CatBoost','RandomForest','DecisionTree'])\n",
    "base_val_output = pd.concat([base_val_output, y_val.reset_index(drop=True)], axis=1)\n",
    "\n",
    "#Test\n",
    "source_label = y_test\n",
    "source_feature = X_test\n",
    "base_test_output = pd.DataFrame({'LightGBM':gbm.predict(source_feature),\n",
    "                                 'XGBoost':XGB.predict(xgb.DMatrix(source_feature.values)),\n",
    "                                 'CatBoost' : cgbm.predict_proba(source_feature)[:, 1],\n",
    "                                 'RandomForest': RF.predict_proba(source_feature)[:, 1],\n",
    "                                 'DecisionTree': DT.predict_proba(source_feature)[:, 1]},columns=['LightGBM','XGBoost','CatBoost','RandomForest','DecisionTree'])\n",
    "base_test_output = pd.concat([base_test_output, y_test.reset_index(drop=True)], axis=1)\n",
    "\n",
    "\n",
    "#OOTB\n",
    "source_label = y_OOTB\n",
    "source_feature = X_OOTB\n",
    "base_OOTB_output = pd.DataFrame({'LightGBM':gbm.predict(source_feature),\n",
    "                                 'XGBoost':XGB.predict(xgb.DMatrix(source_feature.values)),\n",
    "                                 'CatBoost' : cgbm.predict_proba(source_feature)[:, 1],\n",
    "                                 'RandomForest': RF.predict_proba(source_feature)[:, 1],\n",
    "                                 'DecisionTree': DT.predict_proba(source_feature)[:, 1]},columns=['LightGBM','XGBoost','CatBoost','RandomForest','DecisionTree'])\n",
    "base_OOTB_output = pd.concat([base_OOTB_output, y_OOTB], axis=1)\n",
    "\n",
    "\n",
    "#OOTA\n",
    "source_label = y_OOTA\n",
    "source_feature = X_OOTA\n",
    "base_OOTA_output = pd.DataFrame({'LightGBM':gbm.predict(source_feature),\n",
    "                                 'XGBoost':XGB.predict(xgb.DMatrix(source_feature.values)),\n",
    "                                 'CatBoost' : cgbm.predict_proba(source_feature)[:, 1],\n",
    "                                 'RandomForest': RF.predict_proba(source_feature)[:, 1],\n",
    "                                 'DecisionTree': DT.predict_proba(source_feature)[:, 1]},columns=['LightGBM','XGBoost','CatBoost','RandomForest','DecisionTree'])\n",
    "base_OOTA_output = pd.concat([base_OOTA_output, y_OOTA], axis=1)"
   ]
  },
  {
   "cell_type": "markdown",
   "metadata": {},
   "source": [
    "## Level-1 Plan"
   ]
  },
  {
   "cell_type": "markdown",
   "metadata": {},
   "source": [
    "Before I move to the meta model, I will select proper base model. I only take the most stable AUC metric result. Between 5 base model, LightGBM has pretty wide AUC range, the lowest value is around 0.58 and the highest performance is 0.71. It is pretty wide difference (13% difference). On the other hand, we have pretty narrow range on XGBoost, CatBoost, RandomForest, and Decision Tree."
   ]
  },
  {
   "cell_type": "markdown",
   "metadata": {},
   "source": [
    "On the next Meta Model, I will use CatBoost. The reason is pretty simple,\n",
    "- catboost has the highest performance among base model.\n",
    "- fast compared to XGBoost\n",
    "- immune to multicollinearity (since I won't check the multicollinearity on new feature created by base model, i will take the safe route by using tree-base model. even it has multicollinearity, it is all coincidence. How come it has high correlation, even though the features created by the independence model?)"
   ]
  },
  {
   "cell_type": "markdown",
   "metadata": {},
   "source": [
    "## Level-1 CatBoost"
   ]
  },
  {
   "cell_type": "code",
   "execution_count": 102,
   "metadata": {},
   "outputs": [
    {
     "name": "stdout",
     "output_type": "stream",
     "text": [
      "0:\ttest: 0.6700266\tbest: 0.6700266 (0)\ttotal: 476ms\tremaining: 7m 55s\n",
      "1:\ttest: 0.6814039\tbest: 0.6814039 (1)\ttotal: 930ms\tremaining: 7m 43s\n",
      "2:\ttest: 0.6835360\tbest: 0.6835360 (2)\ttotal: 1.37s\tremaining: 7m 36s\n",
      "3:\ttest: 0.6885647\tbest: 0.6885647 (3)\ttotal: 1.8s\tremaining: 7m 29s\n",
      "4:\ttest: 0.6901047\tbest: 0.6901047 (4)\ttotal: 2.33s\tremaining: 7m 44s\n",
      "5:\ttest: 0.6907259\tbest: 0.6907259 (5)\ttotal: 2.83s\tremaining: 7m 48s\n",
      "6:\ttest: 0.6940074\tbest: 0.6940074 (6)\ttotal: 3.32s\tremaining: 7m 51s\n",
      "7:\ttest: 0.6943031\tbest: 0.6943031 (7)\ttotal: 3.79s\tremaining: 7m 49s\n",
      "8:\ttest: 0.6945167\tbest: 0.6945167 (8)\ttotal: 4.22s\tremaining: 7m 44s\n",
      "9:\ttest: 0.6950612\tbest: 0.6950612 (9)\ttotal: 4.66s\tremaining: 7m 41s\n",
      "10:\ttest: 0.6957683\tbest: 0.6957683 (10)\ttotal: 5.14s\tremaining: 7m 42s\n",
      "11:\ttest: 0.6955935\tbest: 0.6957683 (10)\ttotal: 5.56s\tremaining: 7m 37s\n",
      "12:\ttest: 0.6955076\tbest: 0.6957683 (10)\ttotal: 6s\tremaining: 7m 35s\n",
      "13:\ttest: 0.6954894\tbest: 0.6957683 (10)\ttotal: 6.46s\tremaining: 7m 34s\n",
      "14:\ttest: 0.6954924\tbest: 0.6957683 (10)\ttotal: 6.94s\tremaining: 7m 35s\n",
      "15:\ttest: 0.6957282\tbest: 0.6957683 (10)\ttotal: 7.38s\tremaining: 7m 33s\n",
      "16:\ttest: 0.6957392\tbest: 0.6957683 (10)\ttotal: 7.82s\tremaining: 7m 32s\n",
      "17:\ttest: 0.6959528\tbest: 0.6959528 (17)\ttotal: 8.27s\tremaining: 7m 30s\n",
      "18:\ttest: 0.6959605\tbest: 0.6959605 (18)\ttotal: 8.76s\tremaining: 7m 32s\n",
      "19:\ttest: 0.6959338\tbest: 0.6959605 (18)\ttotal: 9.25s\tremaining: 7m 33s\n",
      "20:\ttest: 0.6959194\tbest: 0.6959605 (18)\ttotal: 9.69s\tremaining: 7m 31s\n",
      "21:\ttest: 0.6959188\tbest: 0.6959605 (18)\ttotal: 10.1s\tremaining: 7m 29s\n",
      "22:\ttest: 0.6958709\tbest: 0.6959605 (18)\ttotal: 10.5s\tremaining: 7m 26s\n",
      "23:\ttest: 0.6961994\tbest: 0.6961994 (23)\ttotal: 10.9s\tremaining: 7m 23s\n",
      "24:\ttest: 0.6964223\tbest: 0.6964223 (24)\ttotal: 11.4s\tremaining: 7m 24s\n",
      "25:\ttest: 0.6963884\tbest: 0.6964223 (24)\ttotal: 11.9s\tremaining: 7m 25s\n",
      "26:\ttest: 0.6964012\tbest: 0.6964223 (24)\ttotal: 12.4s\tremaining: 7m 25s\n",
      "27:\ttest: 0.6964213\tbest: 0.6964223 (24)\ttotal: 12.8s\tremaining: 7m 24s\n",
      "28:\ttest: 0.6964719\tbest: 0.6964719 (28)\ttotal: 13.2s\tremaining: 7m 23s\n",
      "29:\ttest: 0.6966069\tbest: 0.6966069 (29)\ttotal: 13.7s\tremaining: 7m 23s\n",
      "30:\ttest: 0.6967157\tbest: 0.6967157 (30)\ttotal: 14.3s\tremaining: 7m 25s\n",
      "31:\ttest: 0.6966373\tbest: 0.6967157 (30)\ttotal: 14.7s\tremaining: 7m 25s\n",
      "32:\ttest: 0.6967125\tbest: 0.6967157 (30)\ttotal: 15.3s\tremaining: 7m 27s\n",
      "33:\ttest: 0.6966476\tbest: 0.6967157 (30)\ttotal: 15.7s\tremaining: 7m 26s\n",
      "34:\ttest: 0.6966790\tbest: 0.6967157 (30)\ttotal: 16.2s\tremaining: 7m 25s\n",
      "35:\ttest: 0.6966729\tbest: 0.6967157 (30)\ttotal: 16.6s\tremaining: 7m 24s\n",
      "36:\ttest: 0.6967105\tbest: 0.6967157 (30)\ttotal: 17s\tremaining: 7m 22s\n",
      "37:\ttest: 0.6966779\tbest: 0.6967157 (30)\ttotal: 17.5s\tremaining: 7m 21s\n",
      "38:\ttest: 0.6966795\tbest: 0.6967157 (30)\ttotal: 18s\tremaining: 7m 22s\n",
      "39:\ttest: 0.6967081\tbest: 0.6967157 (30)\ttotal: 18.5s\tremaining: 7m 22s\n",
      "40:\ttest: 0.6966982\tbest: 0.6967157 (30)\ttotal: 18.9s\tremaining: 7m 21s\n",
      "41:\ttest: 0.6966752\tbest: 0.6967157 (30)\ttotal: 19.4s\tremaining: 7m 22s\n",
      "42:\ttest: 0.6966880\tbest: 0.6967157 (30)\ttotal: 19.8s\tremaining: 7m 21s\n",
      "43:\ttest: 0.6966794\tbest: 0.6967157 (30)\ttotal: 20.2s\tremaining: 7m 19s\n",
      "44:\ttest: 0.6966898\tbest: 0.6967157 (30)\ttotal: 20.7s\tremaining: 7m 18s\n",
      "45:\ttest: 0.6966892\tbest: 0.6967157 (30)\ttotal: 21s\tremaining: 7m 16s\n",
      "46:\ttest: 0.6966683\tbest: 0.6967157 (30)\ttotal: 21.5s\tremaining: 7m 15s\n",
      "47:\ttest: 0.6966623\tbest: 0.6967157 (30)\ttotal: 21.9s\tremaining: 7m 13s\n",
      "48:\ttest: 0.6966628\tbest: 0.6967157 (30)\ttotal: 22.3s\tremaining: 7m 12s\n",
      "49:\ttest: 0.6967156\tbest: 0.6967157 (30)\ttotal: 22.7s\tremaining: 7m 11s\n",
      "50:\ttest: 0.6967257\tbest: 0.6967257 (50)\ttotal: 23.1s\tremaining: 7m 9s\n",
      "51:\ttest: 0.6967454\tbest: 0.6967454 (51)\ttotal: 23.6s\tremaining: 7m 10s\n",
      "52:\ttest: 0.6966803\tbest: 0.6967454 (51)\ttotal: 24.1s\tremaining: 7m 10s\n",
      "53:\ttest: 0.6967202\tbest: 0.6967454 (51)\ttotal: 24.5s\tremaining: 7m 9s\n",
      "54:\ttest: 0.6966929\tbest: 0.6967454 (51)\ttotal: 24.9s\tremaining: 7m 8s\n",
      "55:\ttest: 0.6966741\tbest: 0.6967454 (51)\ttotal: 25.4s\tremaining: 7m 7s\n",
      "56:\ttest: 0.6966560\tbest: 0.6967454 (51)\ttotal: 25.8s\tremaining: 7m 6s\n",
      "57:\ttest: 0.6966388\tbest: 0.6967454 (51)\ttotal: 26.2s\tremaining: 7m 5s\n",
      "58:\ttest: 0.6965715\tbest: 0.6967454 (51)\ttotal: 26.6s\tremaining: 7m 5s\n",
      "59:\ttest: 0.6965322\tbest: 0.6967454 (51)\ttotal: 27.1s\tremaining: 7m 4s\n",
      "60:\ttest: 0.6965443\tbest: 0.6967454 (51)\ttotal: 27.6s\tremaining: 7m 4s\n",
      "61:\ttest: 0.6965566\tbest: 0.6967454 (51)\ttotal: 28s\tremaining: 7m 4s\n",
      "62:\ttest: 0.6965444\tbest: 0.6967454 (51)\ttotal: 28.5s\tremaining: 7m 3s\n",
      "63:\ttest: 0.6965372\tbest: 0.6967454 (51)\ttotal: 28.9s\tremaining: 7m 2s\n",
      "64:\ttest: 0.6964849\tbest: 0.6967454 (51)\ttotal: 29.3s\tremaining: 7m 1s\n",
      "65:\ttest: 0.6964731\tbest: 0.6967454 (51)\ttotal: 29.8s\tremaining: 7m 1s\n",
      "66:\ttest: 0.6964457\tbest: 0.6967454 (51)\ttotal: 30.2s\tremaining: 7m\n",
      "67:\ttest: 0.6965116\tbest: 0.6967454 (51)\ttotal: 30.7s\tremaining: 7m\n",
      "68:\ttest: 0.6964594\tbest: 0.6967454 (51)\ttotal: 31.2s\tremaining: 7m\n",
      "69:\ttest: 0.6964449\tbest: 0.6967454 (51)\ttotal: 31.6s\tremaining: 7m\n",
      "70:\ttest: 0.6964397\tbest: 0.6967454 (51)\ttotal: 32.2s\tremaining: 7m 1s\n",
      "71:\ttest: 0.6963922\tbest: 0.6967454 (51)\ttotal: 32.7s\tremaining: 7m 1s\n",
      "Stopped by overfitting detector  (20 iterations wait)\n",
      "\n",
      "bestTest = 0.6967453846\n",
      "bestIteration = 51\n",
      "\n",
      "Shrink model to first 52 iterations.\n"
     ]
    }
   ],
   "source": [
    "meta_cgbm = CatBoostClassifier(eval_metric='AUC',\n",
    "                               loss_function = \"Logloss\",\n",
    "                               use_best_model=True,\n",
    "                               random_seed=5435,\n",
    "                               learning_rate=0.01,\n",
    "                               iterations = 1000,\n",
    "                               l2_leaf_reg=0.08,\n",
    "                               depth=7,          \n",
    "                               od_type = \"Iter\",\n",
    "                               od_wait = 20\n",
    "                         )\n",
    "meta_cgbm.fit(base_train_output.iloc[:,1:5].values,base_train_output.iloc[:,5].values,eval_set=(base_val_output.iloc[:,1:5].values,base_val_output.iloc[:,5].values))\n",
    "meta_cgbm.save_model('./model/final_cgbm.txt')"
   ]
  },
  {
   "cell_type": "markdown",
   "metadata": {},
   "source": [
    "## Load Level-1 Model"
   ]
  },
  {
   "cell_type": "code",
   "execution_count": 103,
   "metadata": {},
   "outputs": [],
   "source": [
    "from catboost import CatBoostClassifier\n",
    "meta_cgbm = CatBoostClassifier().load_model('./model/final_cgbm.txt')"
   ]
  },
  {
   "cell_type": "markdown",
   "metadata": {},
   "source": [
    "## Level-1 Evaluation"
   ]
  },
  {
   "cell_type": "code",
   "execution_count": 105,
   "metadata": {},
   "outputs": [
    {
     "name": "stdout",
     "output_type": "stream",
     "text": [
      "=====Level-1 Meta CatBoost=====\n",
      "OOTB auc : 0.6362941435172493\n",
      "TEST auc : 0.6998182444534787\n",
      "OOTA auc : 0.6193472348619055\n"
     ]
    }
   ],
   "source": [
    "print('=====Level-1 Meta CatBoost=====')\n",
    "probs = meta_cgbm.predict_proba(base_OOTB_output.iloc[:,1:5])[:, 1]\n",
    "fpr, tpr, threshold = roc_curve(base_OOTB_output.iloc[:,5], probs)\n",
    "roc_auc = auc(fpr, tpr)\n",
    "print('OOTB auc :',roc_auc)\n",
    "\n",
    "probs = meta_cgbm.predict_proba(base_test_output.iloc[:,1:5])[:, 1]\n",
    "fpr, tpr, threshold = roc_curve(base_test_output.iloc[:,5], probs)\n",
    "roc_auc = auc(fpr, tpr)\n",
    "print('TEST auc :',roc_auc)\n",
    "\n",
    "probs = meta_cgbm.predict_proba(base_OOTA_output.iloc[:,1:5])[:, 1]\n",
    "fpr, tpr, threshold = roc_curve(base_OOTA_output.iloc[:,5], probs)\n",
    "roc_auc = auc(fpr, tpr)\n",
    "print('OOTA auc :',roc_auc)"
   ]
  },
  {
   "cell_type": "markdown",
   "metadata": {},
   "source": [
    "in this level 1 model, we see that the AUC for both dataset really close to each other. In my opinion, this number still represent instability. Look, the largest difference between those AUC's is up to 8%. well... it means you need to tune the model hyperparameter and/or rearrange the stacking composition (add another model, or remove the existing model)"
   ]
  },
  {
   "cell_type": "markdown",
   "metadata": {},
   "source": [
    "## Why AUC?"
   ]
  },
  {
   "cell_type": "code",
   "execution_count": 168,
   "metadata": {},
   "outputs": [
    {
     "data": {
      "image/png": "[encoded data removed]",
      "text/plain": [
       "<Figure size 432x288 with 1 Axes>"
      ]
     },
     "metadata": {
      "needs_background": "light"
     },
     "output_type": "display_data"
    }
   ],
   "source": [
    "probs = meta_cgbm.predict_proba(base_test_output.iloc[:,1:5])[:, 1]\n",
    "fpr, tpr, threshold = roc_curve(base_test_output.iloc[:,5], probs)\n",
    "roc_auc = auc(fpr, tpr)\n",
    "GINI = 2*roc_auc-1\n",
    "plt.plot(fpr, tpr, 'b', label = 'AUC = %0.2f | GINI = %0.2f' %(roc_auc,GINI))\n",
    "plt.legend(loc = 'lower right')\n",
    "plt.plot([0, 1], [0, 1],'r--')\n",
    "plt.xlim([0, 1])\n",
    "plt.ylim([0, 1])\n",
    "plt.ylabel('True Positive Rate')\n",
    "plt.xlabel('False Positive Rate')\n",
    "plt.show()"
   ]
  },
  {
   "cell_type": "markdown",
   "metadata": {},
   "source": [
    "With AUC, you can choose the proper True Positive Rate and False Positive Rate based on threshold classification. You can play with the treshold and it will affect with the value of TPR and FPR."
   ]
  },
  {
   "cell_type": "code",
   "execution_count": 197,
   "metadata": {},
   "outputs": [
    {
     "data": {
      "image/png": "[encoded data removed]",
      "text/plain": [
       "<Figure size 432x288 with 1 Axes>"
      ]
     },
     "metadata": {
      "needs_background": "light"
     },
     "output_type": "display_data"
    }
   ],
   "source": [
    "from sklearn.metrics import accuracy_score, recall_score,precision_score, f1_score\n",
    "recall_pack = []\n",
    "precision_pack = []\n",
    "threshold_pack = []\n",
    "Fone_pack = []\n",
    "for i in np.linspace(0,0.9,1000):\n",
    "    y_pred_new = [1 * (x>=i) for x in probs]\n",
    "    recall_pack += [recall_score(base_test_output.iloc[:,5], y_pred_new)]\n",
    "    precision_pack += [precision_score(base_test_output.iloc[:,5], y_pred_new)]\n",
    "    Fone_pack += [f1_score(base_test_output.iloc[:,5], y_pred_new)]\n",
    "    threshold_pack += [i]\n",
    "import matplotlib.pyplot as plt\n",
    "from scipy.signal import savgol_filter\n",
    "\n",
    "recall_smooth = savgol_filter(recall_pack, 999, 15)\n",
    "precision_smooth = savgol_filter(precision_pack, 999, 15)\n",
    "Fone_smooth = savgol_filter(Fone_pack, 999, 15)\n",
    "plt.plot(threshold_pack, recall_smooth, \"b--\", label=\"recall\")\n",
    "plt.plot(threshold_pack, precision_smooth, \"r--\", label=\"precision\")\n",
    "plt.plot(threshold_pack, Fone_smooth, \"g--\", label=\"F1\")\n",
    "plt.legend()\n",
    "plt.xlim([0, 1])\n",
    "plt.ylim([0, 1])\n",
    "plt.ylabel('Recall-Precision Score')\n",
    "plt.xlabel('Threshold')\n",
    "plt.show()"
   ]
  },
  {
   "cell_type": "markdown",
   "metadata": {},
   "source": [
    "You can also choose the recall and precision score based on threshold value. You can select the model performance with high recall and low precision, or vice versa. it's up to you to decide"
   ]
  },
  {
   "cell_type": "markdown",
   "metadata": {},
   "source": [
    "# Recommendation"
   ]
  },
  {
   "cell_type": "markdown",
   "metadata": {},
   "source": [
    "for this assessment,\n",
    "- The data is to good to be true (no null value?)\n",
    "- some numbers does'nt make sense (e.g. didn't receive the principle, but able to pay the full amount of loan?)\n",
    "- no unique identifier which represent borrower"
   ]
  },
  {
   "cell_type": "markdown",
   "metadata": {},
   "source": [
    "dataset improvement,\n",
    "- we can add external dataset related to region data (e.g. demographic data, property value, money relative value, crime rate,).\n",
    "- for personal loan purpose (not for company), we should personal datas (e.g. education degree, age, mobile meta data)."
   ]
  }
 ],
 "metadata": {
  "kernelspec": {
   "display_name": "Python 3",
   "language": "python",
   "name": "python3"
  },
  "language_info": {
   "codemirror_mode": {
    "name": "ipython",
    "version": 3
   },
   "file_extension": ".py",
   "mimetype": "text/x-python",
   "name": "python",
   "nbconvert_exporter": "python",
   "pygments_lexer": "ipython3",
   "version": "3.7.1"
  }
 },
 "nbformat": 4,
 "nbformat_minor": 2
}
